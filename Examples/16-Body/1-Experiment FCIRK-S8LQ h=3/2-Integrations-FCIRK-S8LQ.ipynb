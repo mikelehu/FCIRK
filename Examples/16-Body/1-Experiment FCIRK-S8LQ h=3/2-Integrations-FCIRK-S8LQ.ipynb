{
 "cells": [
  {
   "cell_type": "markdown",
   "metadata": {},
   "source": [
    "# Integrations: N16-BodyProblem (FCIRK-S8LQ)"
   ]
  },
  {
   "cell_type": "markdown",
   "metadata": {},
   "source": [
    "<ul id=\"top\">\n",
    "  <li><a href=\"#Initializations\">Initializations</a></li>\n",
    "  <li><a href=\"#Problem-Parameters\">Problem-Parameters</a></li>\n",
    "  <li><a href=\"#Integration-Parameters\">Integration-Parameters </a></li>\n",
    "  <li><a href=\"#Numerical-Integrations\">Numerical-Integrations</a></li>\n",
    "      <ul>\n",
    "        <li><a href=\"#FCIRK-S8LQ\">FCIRK-S8LQ</a></li>\n",
    "      </ul>\n",
    "</ul>  \n"
   ]
  },
  {
   "cell_type": "markdown",
   "metadata": {},
   "source": [
    "## Initializations"
   ]
  },
  {
   "cell_type": "code",
   "execution_count": 1,
   "metadata": {
    "collapsed": true
   },
   "outputs": [],
   "source": [
    "using NBInclude\n",
    "using Dates\n",
    "using DelimitedFiles;"
   ]
  },
  {
   "cell_type": "code",
   "execution_count": 2,
   "metadata": {
    "collapsed": true
   },
   "outputs": [],
   "source": [
    "MYPATH=\"../../../Code/Julia/\"\n",
    "@nbinclude(string(MYPATH,\"NBodyProblem.ipynb\"))\n",
    "@nbinclude(string(MYPATH,\"C-Interfaces.ipynb\"))\n",
    "@nbinclude(string(MYPATH,\"AuxiliarFunctions.ipynb\"));"
   ]
  },
  {
   "cell_type": "code",
   "execution_count": 3,
   "metadata": {
    "collapsed": true
   },
   "outputs": [],
   "source": [
    "#Filenames\n",
    "\n",
    "#Output\n",
    "file1=\"./Data/outFCIRKh3.bin\"\n",
    "\n",
    "#Information of the experiment\n",
    "experiment=\"./Data/experimentFCIRKh3.txt\"\n",
    "f1=open(experiment,\"w\");"
   ]
  },
  {
   "cell_type": "markdown",
   "metadata": {},
   "source": [
    "<a href=\"#top\">Back to the top</a>"
   ]
  },
  {
   "cell_type": "markdown",
   "metadata": {},
   "source": [
    "## Problem-Parameters"
   ]
  },
  {
   "cell_type": "code",
   "execution_count": 4,
   "metadata": {
    "collapsed": true
   },
   "outputs": [],
   "source": [
    "(nbody,u0,k,Gm,iE,iM)= N16_Barycentric()\n",
    "parInt=convert(Array{Int32},[0]);"
   ]
  },
  {
   "cell_type": "code",
   "execution_count": 5,
   "metadata": {
    "collapsed": false,
    "scrolled": true
   },
   "outputs": [
    {
     "data": {
      "text/plain": [
       "(16, 96, 16, 15, 16)"
      ]
     },
     "execution_count": 5,
     "metadata": {},
     "output_type": "execute_result"
    }
   ],
   "source": [
    "(nbody, size(u0)[1],size(Gm)[1],iE,iM)"
   ]
  },
  {
   "cell_type": "code",
   "execution_count": 6,
   "metadata": {
    "collapsed": true
   },
   "outputs": [],
   "source": [
    "dim=3\n",
    "neq=nbody*2*dim\n",
    "d = Int(neq/2)\n",
    "qq=u0[1:d]\n",
    "vv=u0[d+1:neq];"
   ]
  },
  {
   "cell_type": "code",
   "execution_count": 7,
   "metadata": {
    "collapsed": true
   },
   "outputs": [],
   "source": [
    "QQ=ChangeVariableQ(qq,Gm)\n",
    "VV=ChangeVariableV(vv,Gm)\n",
    "U0=vcat(QQ[4:end],VV[4:end])\n",
    "neqH=size(U0)[1]\n",
    "nbodyH=nbody-1;"
   ]
  },
  {
   "cell_type": "markdown",
   "metadata": {},
   "source": [
    "<a href=\"#top\">Back to the top</a>"
   ]
  },
  {
   "cell_type": "markdown",
   "metadata": {},
   "source": [
    "## Integration-Parameters"
   ]
  },
  {
   "cell_type": "code",
   "execution_count": 8,
   "metadata": {
    "collapsed": true
   },
   "outputs": [],
   "source": [
    "h=3.\n",
    "t0=0.\n",
    "tend=1500.\n",
    "tspan=(t0,tend);"
   ]
  },
  {
   "cell_type": "code",
   "execution_count": 9,
   "metadata": {
    "collapsed": true
   },
   "outputs": [],
   "source": [
    "n=round((tend-t0)/h[1])\n",
    "hh=(tend-t0)/n\n",
    "nout=500\n",
    "saveat=Integer(round((tend-t0)/(nout*hh)))    \n",
    "h0=(tend-t0)/(nout*saveat)\n",
    "\n",
    "nstep0=(tend-t0)/h0\n",
    "nout0=nstep0/saveat;   \n",
    "\n",
    "nstep0=(tend-t0)/h0\n",
    "nout0=nstep0/saveat;"
   ]
  },
  {
   "cell_type": "code",
   "execution_count": 10,
   "metadata": {
    "collapsed": false
   },
   "outputs": [
    {
     "data": {
      "text/plain": [
       "(96, 16, 3.0, 1500.0, 500.0, 500.0, 1)"
      ]
     },
     "execution_count": 10,
     "metadata": {},
     "output_type": "execute_result"
    }
   ],
   "source": [
    "#Checking integration parameters\n",
    "(neq,nbody,h0, tend,nstep0,nout0,saveat)"
   ]
  },
  {
   "cell_type": "code",
   "execution_count": 11,
   "metadata": {
    "collapsed": false
   },
   "outputs": [],
   "source": [
    "ns=8\n",
    "Codfun=13;  # FCIRK-LQ"
   ]
  },
  {
   "cell_type": "code",
   "execution_count": 12,
   "metadata": {
    "collapsed": true
   },
   "outputs": [],
   "source": [
    "#Save experiment parameters\n",
    "writedlm(f1,[t0,tend,h0,nout0+1,neqH])\n",
    "close(f1);"
   ]
  },
  {
   "cell_type": "markdown",
   "metadata": {},
   "source": [
    "<a href=\"#top\">Back to the top</a>"
   ]
  },
  {
   "cell_type": "markdown",
   "metadata": {},
   "source": [
    "## Numerical-Integrations"
   ]
  },
  {
   "cell_type": "markdown",
   "metadata": {},
   "source": [
    "### FCIRK-S8LQ"
   ]
  },
  {
   "cell_type": "code",
   "execution_count": 13,
   "metadata": {
    "collapsed": false
   },
   "outputs": [
    {
     "data": {
      "text/plain": [
       "2019-07-12T11:51:44.522"
      ]
     },
     "execution_count": 13,
     "metadata": {},
     "output_type": "execute_result"
    }
   ],
   "source": [
    "now()"
   ]
  },
  {
   "cell_type": "code",
   "execution_count": 14,
   "metadata": {
    "collapsed": false,
    "scrolled": true
   },
   "outputs": [
    {
     "name": "stdout",
     "output_type": "stream",
     "text": [
      "  0.630235 seconds (71.03 k allocations: 3.657 MiB)\n"
     ]
    }
   ],
   "source": [
    "Nkepler=nbodyH \n",
    "Moreq=0\n",
    "threads=1\n",
    "prob=MyODEProblem(Nkepler,Moreq,Codfun,tspan,h0,U0,k,Gm,parInt);\n",
    "@time sol=MySolve(prob, longFCIRK,ns,file1,saveat);"
   ]
  },
  {
   "cell_type": "code",
   "execution_count": 15,
   "metadata": {
    "collapsed": false
   },
   "outputs": [
    {
     "data": {
      "text/plain": [
       "2019-07-12T11:51:45.863"
      ]
     },
     "execution_count": 15,
     "metadata": {},
     "output_type": "execute_result"
    }
   ],
   "source": [
    "now()"
   ]
  },
  {
   "cell_type": "markdown",
   "metadata": {
    "collapsed": true
   },
   "source": [
    "<a href=\"#top\">Back to the top</a>"
   ]
  }
 ],
 "metadata": {
  "anaconda-cloud": {},
  "kernelspec": {
   "display_name": "Julia 1.1.0",
   "language": "julia",
   "name": "julia-1.1"
  },
  "language_info": {
   "file_extension": ".jl",
   "mimetype": "application/julia",
   "name": "julia",
   "version": "1.1.0"
  }
 },
 "nbformat": 4,
 "nbformat_minor": 1
}

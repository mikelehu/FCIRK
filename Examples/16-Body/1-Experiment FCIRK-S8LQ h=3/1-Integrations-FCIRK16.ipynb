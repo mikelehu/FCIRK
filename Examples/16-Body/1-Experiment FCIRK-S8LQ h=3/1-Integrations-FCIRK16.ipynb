{
 "cells": [
  {
   "cell_type": "markdown",
   "metadata": {},
   "source": [
    "<h1> Integrations: N16-BodyProblem (FCIRK16-MIX h=3)  </h1>"
   ]
  },
  {
   "cell_type": "markdown",
   "metadata": {},
   "source": [
    "<ul id=\"top\">\n",
    "  <li><a href=\"#Initializations\">Initializations</a></li>\n",
    "  <li><a href=\"#Initial-Value-Problem\">Initial-Value-Problem</a></li>\n",
    "  <li><a href=\"#Integration-Parameters\">Integration-Parameters </a></li>\n",
    "  <li><a href=\"#Numerical-Integrations\">Numerical-Integrations</a></li>\n",
    "      <ul>\n",
    "        <li><a href=\"#FCIRK-LQ-Method\">FCIRK-LQ-Method</a></li>\n",
    "        <li><a href=\"#FCIRK-LQ-Method-Adaptive\">FCIRK-LQ-Method-Adaptive</a></li>\n",
    "      </ul>\n",
    "</ul>  \n"
   ]
  },
  {
   "cell_type": "markdown",
   "metadata": {},
   "source": [
    "<h2 id=\"Initializations\">Initializations</h2>"
   ]
  },
  {
   "cell_type": "code",
   "execution_count": 2,
   "metadata": {},
   "outputs": [],
   "source": [
    "using NBInclude\n",
    "using Dates\n",
    "using DelimitedFiles;"
   ]
  },
  {
   "cell_type": "code",
   "execution_count": 3,
   "metadata": {},
   "outputs": [],
   "source": [
    "MYPATH=\"../../../Code/Julia/\"\n",
    "@nbinclude(string(MYPATH,\"NBodyProblem.ipynb\"))\n",
    "@nbinclude(string(MYPATH,\"C-Interfaces.ipynb\"))\n",
    "@nbinclude(string(MYPATH,\"AuxiliarFunctions.ipynb\"));"
   ]
  },
  {
   "cell_type": "code",
   "execution_count": 4,
   "metadata": {},
   "outputs": [],
   "source": [
    "#Filenames\n",
    "\n",
    "#Output\n",
    "sol1=\"./Data/outFCIRKh3Y5.bin\"\n",
    "sol2=\"./Data/outFCIRKh3AdapY5.bin\"\n",
    "\n",
    "#Information of the experiment\n",
    "experiment=\"./Data/expFCIRKh3Y5.txt\"\n",
    "f1=open(experiment,\"w\");"
   ]
  },
  {
   "cell_type": "markdown",
   "metadata": {},
   "source": [
    "<a href=\"#top\">Back to the top</a>"
   ]
  },
  {
   "cell_type": "markdown",
   "metadata": {},
   "source": [
    "<h2 id=\"Initial-Value-Problem\">Initial-Value-Problem</h2>"
   ]
  },
  {
   "cell_type": "code",
   "execution_count": 5,
   "metadata": {},
   "outputs": [
    {
     "data": {
      "text/plain": [
       "1×5 Transpose{Int64,Array{Int64,1}}:\n",
       " 16  96  16  15  16"
      ]
     },
     "execution_count": 5,
     "metadata": {},
     "output_type": "execute_result"
    }
   ],
   "source": [
    "(nbody,u0,k,Gm,iE,iM)= N16_Initial_Values()\n",
    "(nbody, length(u0),length(Gm),iE,iM)"
   ]
  },
  {
   "cell_type": "code",
   "execution_count": 6,
   "metadata": {},
   "outputs": [],
   "source": [
    "U0=ChangeBartoHel(u0,Gm)\n",
    "neqH=length(U0)\n",
    "nbodyH=nbody-1;"
   ]
  },
  {
   "cell_type": "markdown",
   "metadata": {},
   "source": [
    "<a href=\"#top\">Back to the top</a>"
   ]
  },
  {
   "cell_type": "markdown",
   "metadata": {},
   "source": [
    "<h2 id=\"Integration-Parameters\">Integration-Parameters</h2>"
   ]
  },
  {
   "cell_type": "code",
   "execution_count": 8,
   "metadata": {},
   "outputs": [],
   "source": [
    "h=3.\n",
    "t0=0.\n",
    "tend=18300000.\n",
    "tspan=(t0,tend);"
   ]
  },
  {
   "cell_type": "code",
   "execution_count": 9,
   "metadata": {},
   "outputs": [],
   "source": [
    "n=round((tend-t0)/h[1])\n",
    "hh=(tend-t0)/n\n",
    "nout=250\n",
    "saveat=Integer(round((tend-t0)/(nout*hh)))    \n",
    "h0=(tend-t0)/(nout*saveat)\n",
    "\n",
    "nstep0=(tend-t0)/h0\n",
    "nout0=nstep0/saveat  \n",
    "\n",
    "nstep0=(tend-t0)/h0\n",
    "nout0=nstep0/saveat;"
   ]
  },
  {
   "cell_type": "code",
   "execution_count": 10,
   "metadata": {},
   "outputs": [
    {
     "data": {
      "text/plain": [
       "1×7 Transpose{Float64,Array{Float64,1}}:\n",
       " 96.0  16.0  3.0  1.83e7  6.1e6  250.0  24400.0"
      ]
     },
     "execution_count": 10,
     "metadata": {},
     "output_type": "execute_result"
    }
   ],
   "source": [
    "#Checking integration parameters\n",
    "transpose([neqH,nbodyH,h0, tend,nstep0,nout0,saveat])"
   ]
  },
  {
   "cell_type": "code",
   "execution_count": 12,
   "metadata": {},
   "outputs": [],
   "source": [
    "#Save experiment parameters\n",
    "writedlm(f1,[t0,tend,h0,nout0+1,neqH])\n",
    "close(f1);"
   ]
  },
  {
   "cell_type": "markdown",
   "metadata": {},
   "source": [
    "<a href=\"#top\">Back to the top</a>"
   ]
  },
  {
   "cell_type": "markdown",
   "metadata": {},
   "source": [
    "<h2 id=\"Numerical-Integrations\">Numerical-Integrations</h2>"
   ]
  },
  {
   "cell_type": "markdown",
   "metadata": {},
   "source": [
    "<h3 id=\"FCIRK-LQ-Method\">FCIRK-LQ-Method</h3>"
   ]
  },
  {
   "cell_type": "code",
   "execution_count": 13,
   "metadata": {},
   "outputs": [
    {
     "data": {
      "text/plain": [
       "2020-12-29T19:30:57.596"
      ]
     },
     "execution_count": 13,
     "metadata": {},
     "output_type": "execute_result"
    }
   ],
   "source": [
    "now()"
   ]
  },
  {
   "cell_type": "code",
   "execution_count": 14,
   "metadata": {
    "scrolled": true
   },
   "outputs": [
    {
     "name": "stdout",
     "output_type": "stream",
     "text": [
      "4902.508871 seconds (59.91 k allocations: 3.071 MiB)\n"
     ]
    }
   ],
   "source": [
    "ode=2\n",
    "prob=ODEProblem(ode,tspan,U0,k,Gm)\n",
    "@time destats=solve(sol1,prob,longFCIRK,h0,saveat=saveat,adaptive=false,mixed=true);"
   ]
  },
  {
   "cell_type": "code",
   "execution_count": 15,
   "metadata": {},
   "outputs": [
    {
     "data": {
      "text/plain": [
       "2020-12-29T20:52:40.491"
      ]
     },
     "execution_count": 15,
     "metadata": {},
     "output_type": "execute_result"
    }
   ],
   "source": [
    "now()"
   ]
  },
  {
   "cell_type": "code",
   "execution_count": 16,
   "metadata": {},
   "outputs": [
    {
     "data": {
      "text/plain": [
       "3-element Array{Float64,1}:\n",
       " 6.1e6\n",
       " 3.9789527e7\n",
       " 6.522873278688524"
      ]
     },
     "execution_count": 16,
     "metadata": {},
     "output_type": "execute_result"
    }
   ],
   "source": [
    "[nstep0,destats[end-2],destats[end-2]/nstep0]"
   ]
  },
  {
   "cell_type": "code",
   "execution_count": 17,
   "metadata": {},
   "outputs": [
    {
     "data": {
      "text/plain": [
       "2-element Array{Float64,1}:\n",
       " 4902.36279296875\n",
       " 4903.0"
      ]
     },
     "execution_count": 17,
     "metadata": {},
     "output_type": "execute_result"
    }
   ],
   "source": [
    "# CPU, Wall-Time\n",
    "[destats[3],destats[4]]"
   ]
  },
  {
   "cell_type": "code",
   "execution_count": 18,
   "metadata": {},
   "outputs": [
    {
     "data": {
      "text/plain": [
       "4.226819105121541e-20"
      ]
     },
     "execution_count": 18,
     "metadata": {},
     "output_type": "execute_result"
    }
   ],
   "source": [
    "destats[9]"
   ]
  },
  {
   "cell_type": "markdown",
   "metadata": {
    "collapsed": true
   },
   "source": [
    "<a href=\"#top\">Back to the top</a>"
   ]
  },
  {
   "cell_type": "markdown",
   "metadata": {},
   "source": [
    "<h3 id=\"FCIRK-LQ-Method-Adaptive\">FCIRK-LQ-Method-Adaptive</h3>"
   ]
  },
  {
   "cell_type": "code",
   "execution_count": 19,
   "metadata": {},
   "outputs": [
    {
     "data": {
      "text/plain": [
       "2020-12-29T20:52:41.537"
      ]
     },
     "execution_count": 19,
     "metadata": {},
     "output_type": "execute_result"
    }
   ],
   "source": [
    "now()"
   ]
  },
  {
   "cell_type": "code",
   "execution_count": 20,
   "metadata": {},
   "outputs": [
    {
     "name": "stdout",
     "output_type": "stream",
     "text": [
      "5553.649415 seconds (153 allocations: 3.719 KiB)\n"
     ]
    }
   ],
   "source": [
    "ode=2\n",
    "prob=ODEProblem(ode,tspan,U0,k,Gm)\n",
    "@time destats=solve(sol2,prob,longFCIRK,h0,saveat=saveat,adaptive=true,mixed=true);"
   ]
  },
  {
   "cell_type": "code",
   "execution_count": null,
   "metadata": {},
   "outputs": [],
   "source": [
    "[nstep0,destats[end-2],destats[end-2]/nstep0]"
   ]
  },
  {
   "cell_type": "code",
   "execution_count": null,
   "metadata": {},
   "outputs": [],
   "source": [
    "# CPU, Wall-Time\n",
    "[destats[3],destats[4]]"
   ]
  },
  {
   "cell_type": "code",
   "execution_count": null,
   "metadata": {},
   "outputs": [],
   "source": [
    "destats[9]"
   ]
  },
  {
   "cell_type": "code",
   "execution_count": null,
   "metadata": {},
   "outputs": [],
   "source": [
    "destats[10]"
   ]
  },
  {
   "cell_type": "code",
   "execution_count": null,
   "metadata": {},
   "outputs": [],
   "source": [
    "now()"
   ]
  },
  {
   "cell_type": "markdown",
   "metadata": {},
   "source": [
    "<a href=\"#top\">Back to the top</a>"
   ]
  },
  {
   "cell_type": "code",
   "execution_count": null,
   "metadata": {},
   "outputs": [],
   "source": []
  }
 ],
 "metadata": {
  "@webio": {
   "lastCommId": null,
   "lastKernelId": null
  },
  "anaconda-cloud": {},
  "kernelspec": {
   "display_name": "Julia 1.5.3",
   "language": "julia",
   "name": "julia-1.5"
  },
  "language_info": {
   "file_extension": ".jl",
   "mimetype": "application/julia",
   "name": "julia",
   "version": "1.5.3"
  }
 },
 "nbformat": 4,
 "nbformat_minor": 1
}

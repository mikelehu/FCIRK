{
 "cells": [
  {
   "cell_type": "markdown",
   "metadata": {},
   "source": [
    "# Integrations: N16-BodyProblem (Exact Solution)"
   ]
  },
  {
   "cell_type": "markdown",
   "metadata": {},
   "source": [
    "<ul id=\"top\">\n",
    "  <li><a href=\"#Initializations\">Initializations</a></li>\n",
    "  <li><a href=\"#Problem-Parameters\">Problem-Parameters</a></li>\n",
    "  <li><a href=\"#Integration-Parameters\">Integration-Parameters </a></li>\n",
    "  <li><a href=\"#Numerical-Integrations\">Numerical-Integrations</a></li>\n",
    "      <ul>\n",
    "        <li><a href=\"#FCIRK-Q\">FCIRK-Q</a></li>\n",
    "      </ul>\n",
    "</ul>  \n"
   ]
  },
  {
   "cell_type": "markdown",
   "metadata": {},
   "source": [
    "## Initializations"
   ]
  },
  {
   "cell_type": "code",
   "execution_count": 24,
   "metadata": {
    "collapsed": true
   },
   "outputs": [],
   "source": [
    "using NBInclude\n",
    "using Dates\n",
    "using DelimitedFiles;"
   ]
  },
  {
   "cell_type": "code",
   "execution_count": 25,
   "metadata": {
    "collapsed": true
   },
   "outputs": [],
   "source": [
    "MYPATH=\"../../../Code/Julia/\"\n",
    "@nbinclude(string(MYPATH,\"NBodyProblem.ipynb\"))\n",
    "@nbinclude(string(MYPATH,\"C-Interfaces.ipynb\"))\n",
    "@nbinclude(string(MYPATH,\"AuxiliarFunctions.ipynb\"));"
   ]
  },
  {
   "cell_type": "code",
   "execution_count": 26,
   "metadata": {
    "collapsed": true
   },
   "outputs": [],
   "source": [
    "#Filenames\n",
    "\n",
    "#Output\n",
    "file1=\"./Data/outExact.bin\"\n",
    "\n",
    "#Information of the experiment\n",
    "experiment=\"./Data/experimentExact.txt\"\n",
    "f1=open(experiment,\"w\");"
   ]
  },
  {
   "cell_type": "markdown",
   "metadata": {},
   "source": [
    "<a href=\"#top\">Back to the top</a>"
   ]
  },
  {
   "cell_type": "markdown",
   "metadata": {},
   "source": [
    "## Problem-Parameters"
   ]
  },
  {
   "cell_type": "code",
   "execution_count": 27,
   "metadata": {
    "collapsed": true
   },
   "outputs": [],
   "source": [
    "(nbody,u0,k,Gm,iE,iM)= N16_Barycentric()\n",
    "parInt=convert(Array{Int32},[0]);"
   ]
  },
  {
   "cell_type": "code",
   "execution_count": 28,
   "metadata": {
    "collapsed": false,
    "scrolled": true
   },
   "outputs": [
    {
     "data": {
      "text/plain": [
       "(16, 96, 16, 15, 16)"
      ]
     },
     "execution_count": 28,
     "metadata": {},
     "output_type": "execute_result"
    }
   ],
   "source": [
    "(nbody, size(u0)[1],size(Gm)[1],iE,iM)"
   ]
  },
  {
   "cell_type": "code",
   "execution_count": 29,
   "metadata": {
    "collapsed": true
   },
   "outputs": [],
   "source": [
    "dim=3\n",
    "neq=nbody*2*dim\n",
    "d = Int(neq/2)\n",
    "qq=u0[1:d]\n",
    "vv=u0[d+1:neq];"
   ]
  },
  {
   "cell_type": "code",
   "execution_count": 30,
   "metadata": {
    "collapsed": true
   },
   "outputs": [],
   "source": [
    "QQ=ChangeVariableQ(qq,Gm)\n",
    "VV=ChangeVariableV(vv,Gm)\n",
    "U0=vcat(QQ[4:end],VV[4:end])\n",
    "neqH=size(U0)[1]\n",
    "nbodyH=nbody-1;"
   ]
  },
  {
   "cell_type": "markdown",
   "metadata": {},
   "source": [
    "<a href=\"#top\">Back to the top</a>"
   ]
  },
  {
   "cell_type": "markdown",
   "metadata": {},
   "source": [
    "## Integration-Parameters"
   ]
  },
  {
   "cell_type": "code",
   "execution_count": 31,
   "metadata": {
    "collapsed": true
   },
   "outputs": [],
   "source": [
    "h=1/4\n",
    "t0=0.\n",
    "tend=1500.\n",
    "tspan=(t0,tend);"
   ]
  },
  {
   "cell_type": "code",
   "execution_count": 32,
   "metadata": {
    "collapsed": true
   },
   "outputs": [],
   "source": [
    "n=round((tend-t0)/h[1])\n",
    "hh=(tend-t0)/n\n",
    "nout=500\n",
    "saveat=Integer(round((tend-t0)/(nout*hh)))    \n",
    "h0=(tend-t0)/(nout*saveat)\n",
    "\n",
    "nstep0=(tend-t0)/h0\n",
    "nout0=nstep0/saveat;   \n",
    "\n",
    "nstep0=(tend-t0)/h0\n",
    "nout0=nstep0/saveat;"
   ]
  },
  {
   "cell_type": "code",
   "execution_count": 33,
   "metadata": {
    "collapsed": false
   },
   "outputs": [
    {
     "data": {
      "text/plain": [
       "(96, 16, 0.25, 1500.0, 6000.0, 500.0, 12)"
      ]
     },
     "execution_count": 33,
     "metadata": {},
     "output_type": "execute_result"
    }
   ],
   "source": [
    "#Checking integration parameters\n",
    "(neq,nbody,h0, tend,nstep0,nout0,saveat)"
   ]
  },
  {
   "cell_type": "code",
   "execution_count": 34,
   "metadata": {
    "collapsed": false
   },
   "outputs": [],
   "source": [
    "ns=8\n",
    "Codfun=12;  # FCIRK-Q"
   ]
  },
  {
   "cell_type": "code",
   "execution_count": 35,
   "metadata": {
    "collapsed": true
   },
   "outputs": [],
   "source": [
    "#Save experiment parameters\n",
    "writedlm(f1,[t0,tend,h0,nout0+1,neqH])\n",
    "close(f1);"
   ]
  },
  {
   "cell_type": "markdown",
   "metadata": {},
   "source": [
    "<a href=\"#top\">Back to the top</a>"
   ]
  },
  {
   "cell_type": "markdown",
   "metadata": {},
   "source": [
    "## Numerical-Integrations"
   ]
  },
  {
   "cell_type": "markdown",
   "metadata": {},
   "source": [
    "### FCIRK-Q"
   ]
  },
  {
   "cell_type": "code",
   "execution_count": 36,
   "metadata": {
    "collapsed": false
   },
   "outputs": [
    {
     "data": {
      "text/plain": [
       "2019-07-12T11:48:26.279"
      ]
     },
     "execution_count": 36,
     "metadata": {},
     "output_type": "execute_result"
    }
   ],
   "source": [
    "now()"
   ]
  },
  {
   "cell_type": "code",
   "execution_count": 37,
   "metadata": {
    "collapsed": false,
    "scrolled": true
   },
   "outputs": [
    {
     "name": "stdout",
     "output_type": "stream",
     "text": [
      "150.924674 seconds (71.03 k allocations: 3.657 MiB)\n"
     ]
    }
   ],
   "source": [
    "Nkepler=nbodyH \n",
    "Moreq=0\n",
    "threads=1\n",
    "prob=MyODEProblem(Nkepler,Moreq,Codfun,tspan,h0,U0,k,Gm,parInt);\n",
    "@time sol=MySolve(prob, quadFCIRK,ns,file1,saveat);"
   ]
  },
  {
   "cell_type": "code",
   "execution_count": 38,
   "metadata": {
    "collapsed": false
   },
   "outputs": [
    {
     "data": {
      "text/plain": [
       "2019-07-12T11:50:58.126"
      ]
     },
     "execution_count": 38,
     "metadata": {},
     "output_type": "execute_result"
    }
   ],
   "source": [
    "now()"
   ]
  },
  {
   "cell_type": "markdown",
   "metadata": {
    "collapsed": true
   },
   "source": [
    "<a href=\"#top\">Back to the top</a>"
   ]
  }
 ],
 "metadata": {
  "anaconda-cloud": {},
  "kernelspec": {
   "display_name": "Julia 1.1.0",
   "language": "julia",
   "name": "julia-1.1"
  },
  "language_info": {
   "file_extension": ".jl",
   "mimetype": "application/julia",
   "name": "julia",
   "version": "1.1.0"
  }
 },
 "nbformat": 4,
 "nbformat_minor": 1
}

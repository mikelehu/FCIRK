{
 "cells": [
  {
   "cell_type": "markdown",
   "metadata": {},
   "source": [
    "<h1> Integrations: N16-BodyProblem (FCIRK-Q) </h1>"
   ]
  },
  {
   "cell_type": "markdown",
   "metadata": {},
   "source": [
    "<ul id=\"top\">\n",
    "  <li><a href=\"#Initializations\">Initializations</a></li>\n",
    "  <li><a href=\"#Problem-Parameters\">Problem-Parameters</a></li>\n",
    "  <li><a href=\"#Integration-Parameters\">Integration-Parameters </a></li>\n",
    "  <li><a href=\"#Numerical-Integrations\">Numerical-Integrations</a></li>\n",
    "        <ul>\n",
    "        <li><a href=\"#IRK-Q-Method\">IRK-Q-Method</a></li>\n",
    "      </ul>\n",
    "</ul>  "
   ]
  },
  {
   "cell_type": "markdown",
   "metadata": {},
   "source": [
    "<h2 id=\"Initializations\">Initializations</h2>"
   ]
  },
  {
   "cell_type": "code",
   "execution_count": 1,
   "metadata": {},
   "outputs": [],
   "source": [
    "#using Pkg\n",
    "#Pkg.add(\"NBInclude\")"
   ]
  },
  {
   "cell_type": "code",
   "execution_count": 24,
   "metadata": {
    "scrolled": true
   },
   "outputs": [],
   "source": [
    "using NBInclude\n",
    "using Dates\n",
    "using DelimitedFiles\n",
    "using Plots;"
   ]
  },
  {
   "cell_type": "code",
   "execution_count": 3,
   "metadata": {},
   "outputs": [],
   "source": [
    "MYPATH=\"../../../Code/Julia/\"\n",
    "@nbinclude(string(MYPATH,\"NBodyProblem.ipynb\"))\n",
    "@nbinclude(string(MYPATH,\"C-Interfaces.ipynb\"))\n",
    "@nbinclude(string(MYPATH,\"AuxiliarFunctions.ipynb\"));"
   ]
  },
  {
   "cell_type": "code",
   "execution_count": 4,
   "metadata": {},
   "outputs": [],
   "source": [
    "#Filenames\n",
    "#Output\n",
    "file1=\"./Data/outFCIRKqN16TY5.bin\";\n",
    "\n",
    "#Information of the experiment\n",
    "experiment=\"./Data/expFCIRKh05TY5.txt\" \n",
    "f1=open(experiment,\"w\");"
   ]
  },
  {
   "cell_type": "markdown",
   "metadata": {},
   "source": [
    "<a href=\"#top\">Back to the top</a>"
   ]
  },
  {
   "cell_type": "markdown",
   "metadata": {},
   "source": [
    "<h2 id=\"Problem-Parameters\">Problem-Parameters</h2>"
   ]
  },
  {
   "cell_type": "code",
   "execution_count": 5,
   "metadata": {},
   "outputs": [],
   "source": [
    "(nbody,u0,k,Gm,iE,iM)= N16_Barycentric();\n",
    "parInt=convert(Array{Int32},[0]);"
   ]
  },
  {
   "cell_type": "code",
   "execution_count": 6,
   "metadata": {},
   "outputs": [
    {
     "data": {
      "text/plain": [
       "1×5 Transpose{Int64,Array{Int64,1}}:\n",
       " 16  96  16  15  16"
      ]
     },
     "execution_count": 6,
     "metadata": {},
     "output_type": "execute_result"
    }
   ],
   "source": [
    "transpose([nbody, size(u0)[1],size(Gm)[1],iE,iM])"
   ]
  },
  {
   "cell_type": "code",
   "execution_count": 7,
   "metadata": {},
   "outputs": [],
   "source": [
    "dim=3;\n",
    "neq=nbody*2*dim;\n",
    "d = Int(neq/2);\n",
    "qq=u0[1:d];\n",
    "vv=u0[d+1:neq];"
   ]
  },
  {
   "cell_type": "code",
   "execution_count": 8,
   "metadata": {},
   "outputs": [],
   "source": [
    "QQ=ChangeVariableQ(qq,Gm);\n",
    "VV=ChangeVariableV(vv,Gm);\n",
    "U0=vcat(QQ[4:end],VV[4:end]);\n",
    "neqH=size(U0)[1];\n",
    "nbodyH=nbody-1;"
   ]
  },
  {
   "cell_type": "markdown",
   "metadata": {},
   "source": [
    "<a href=\"#top\">Back to the top</a>"
   ]
  },
  {
   "cell_type": "markdown",
   "metadata": {},
   "source": [
    "<h2> Integration Parameters </h2>"
   ]
  },
  {
   "cell_type": "code",
   "execution_count": 9,
   "metadata": {},
   "outputs": [],
   "source": [
    "h=0.5;\n",
    "t0=0.;\n",
    "tend=36600000.\n",
    "tend=18300000.\n",
    "tspan=(t0,tend);"
   ]
  },
  {
   "cell_type": "code",
   "execution_count": 10,
   "metadata": {},
   "outputs": [],
   "source": [
    "n=round((tend-t0)/h[1])\n",
    "hh=(tend-t0)/n\n",
    "nout=250\n",
    "saveat=Integer(round((tend-t0)/(nout*hh)))    \n",
    "h0=(tend-t0)/(nout*saveat)\n",
    "\n",
    "nstep0=(tend-t0)/h0\n",
    "nout0=nstep0/saveat;   \n",
    "\n",
    "nstep0=(tend-t0)/h0\n",
    "nout0=nstep0/saveat;"
   ]
  },
  {
   "cell_type": "code",
   "execution_count": 11,
   "metadata": {},
   "outputs": [
    {
     "data": {
      "text/plain": [
       "1×5 Transpose{Float64,Array{Float64,1}}:\n",
       " 0.5  1.83e7  3.66e7  250.0  146400.0"
      ]
     },
     "execution_count": 11,
     "metadata": {},
     "output_type": "execute_result"
    }
   ],
   "source": [
    "#Checking integration parameters\n",
    "transpose([h0, tend,nstep0,nout0,saveat])"
   ]
  },
  {
   "cell_type": "code",
   "execution_count": 12,
   "metadata": {},
   "outputs": [
    {
     "data": {
      "text/plain": [
       "false"
      ]
     },
     "execution_count": 12,
     "metadata": {},
     "output_type": "execute_result"
    }
   ],
   "source": [
    "ns=8\n",
    "ode=2\n",
    "mixed=false"
   ]
  },
  {
   "cell_type": "code",
   "execution_count": 20,
   "metadata": {},
   "outputs": [],
   "source": [
    "#Save experiment parameters\n",
    "writedlm(f1,[t0,tend,h0,nout0+1,neqH])\n",
    "close(f1);"
   ]
  },
  {
   "cell_type": "markdown",
   "metadata": {},
   "source": [
    "<a href=\"#top\">Back to the top</a>"
   ]
  },
  {
   "cell_type": "markdown",
   "metadata": {},
   "source": [
    "<h2 id=\"Numerical-Integrations\">Numerical-Integrations</h2>"
   ]
  },
  {
   "cell_type": "markdown",
   "metadata": {},
   "source": [
    "<h3 id=\"FCIRK-Q-Method\">FCIRK-Q-Method</h3>"
   ]
  },
  {
   "cell_type": "code",
   "execution_count": 21,
   "metadata": {},
   "outputs": [
    {
     "data": {
      "text/plain": [
       "2020-12-14T12:45:05.01"
      ]
     },
     "execution_count": 21,
     "metadata": {},
     "output_type": "execute_result"
    }
   ],
   "source": [
    "now()"
   ]
  },
  {
   "cell_type": "code",
   "execution_count": null,
   "metadata": {},
   "outputs": [],
   "source": [
    "adaptive=true\n",
    "Nkepler=nbodyH \n",
    "Moreq=0\n",
    "threads=1\n",
    "prob=MyODEProblem(Nkepler,Moreq,ode,tspan,h0,U0,k,Gm,parInt);\n",
    "@time sol=MySolve(prob, quadFCIRK,ns,file1,saveat,adaptive,mixed);"
   ]
  },
  {
   "cell_type": "code",
   "execution_count": null,
   "metadata": {},
   "outputs": [],
   "source": [
    "now()"
   ]
  },
  {
   "cell_type": "markdown",
   "metadata": {
    "collapsed": true
   },
   "source": [
    "<a href=\"#top\">Back to the top</a>"
   ]
  },
  {
   "cell_type": "markdown",
   "metadata": {},
   "source": [
    "<h2 id=\"Energy-error\">Energy-error</h2>"
   ]
  },
  {
   "cell_type": "code",
   "execution_count": 59,
   "metadata": {},
   "outputs": [],
   "source": [
    "t1,u1=Readbin(nout+1,neqH,file1)\n",
    "ti=round.(t1./365.25);\n",
    "tendx=tend./365.25+1000;"
   ]
  },
  {
   "cell_type": "code",
   "execution_count": 60,
   "metadata": {},
   "outputs": [],
   "source": [
    "(nbody,u0,k,Gm,iE,iM)= N16_Barycentric()\n",
    "dim=3\n",
    "neq=nbody*2*dim\n",
    "nbodyH=nbody-1;"
   ]
  },
  {
   "cell_type": "code",
   "execution_count": 61,
   "metadata": {},
   "outputs": [],
   "source": [
    "qq1,vv1,out1=GetBarycentric(u1,Gm,t1,nbodyH);"
   ]
  },
  {
   "cell_type": "code",
   "execution_count": 62,
   "metadata": {},
   "outputs": [
    {
     "data": {
      "text/plain": [
       "-9.83196553226703544215496269961109236990452284824787571749823101196926072261043e-12"
      ]
     },
     "execution_count": 62,
     "metadata": {},
     "output_type": "execute_result"
    }
   ],
   "source": [
    "# Initial Energy\n",
    "a0=Array{BigFloat}(undef,neq+1);\n",
    "a0=out1[1];\n",
    "size(a0);\n",
    "NBodyHam(neq,a0,Gm)"
   ]
  },
  {
   "cell_type": "code",
   "execution_count": 63,
   "metadata": {},
   "outputs": [],
   "source": [
    "nstat=1;\n",
    "HAMILTONIAN=NBodyHam;\n",
    "(MeanHam1, DesvHam1)=EnergyError([out1],nstat,nout+1,HAMILTONIAN,neq,Gm);"
   ]
  },
  {
   "cell_type": "code",
   "execution_count": 66,
   "metadata": {},
   "outputs": [
    {
     "data": {
      "image/svg+xml": [
       "<?xml version=\"1.0\" encoding=\"utf-8\"?>\n",
       "<svg xmlns=\"http://www.w3.org/2000/svg\" xmlns:xlink=\"http://www.w3.org/1999/xlink\" width=\"600\" height=\"400\" viewBox=\"0 0 2400 1600\">\n",
       "<defs>\n",
       "  <clipPath id=\"clip2700\">\n",
       "    <rect x=\"0\" y=\"0\" width=\"2400\" height=\"1600\"/>\n",
       "  </clipPath>\n",
       "</defs>\n",
       "<path clip-path=\"url(#clip2700)\" d=\"\n",
       "M0 1600 L2400 1600 L2400 0 L0 0  Z\n",
       "  \" fill=\"#ffffff\" fill-rule=\"evenodd\" fill-opacity=\"1\"/>\n",
       "<defs>\n",
       "  <clipPath id=\"clip2701\">\n",
       "    <rect x=\"480\" y=\"0\" width=\"1681\" height=\"1600\"/>\n",
       "  </clipPath>\n",
       "</defs>\n",
       "<path clip-path=\"url(#clip2700)\" d=\"\n",
       "M288.398 1424.43 L2352.76 1424.43 L2352.76 47.2441 L288.398 47.2441  Z\n",
       "  \" fill=\"#ffffff\" fill-rule=\"evenodd\" fill-opacity=\"1\"/>\n",
       "<defs>\n",
       "  <clipPath id=\"clip2702\">\n",
       "    <rect x=\"288\" y=\"47\" width=\"2065\" height=\"1378\"/>\n",
       "  </clipPath>\n",
       "</defs>\n",
       "<polyline clip-path=\"url(#clip2702)\" style=\"stroke:#000000; stroke-width:2; stroke-opacity:0.1; fill:none\" points=\"\n",
       "  288.398,1424.43 288.398,47.2441 \n",
       "  \"/>\n",
       "<polyline clip-path=\"url(#clip2702)\" style=\"stroke:#000000; stroke-width:2; stroke-opacity:0.1; fill:none\" points=\"\n",
       "  692.361,1424.43 692.361,47.2441 \n",
       "  \"/>\n",
       "<polyline clip-path=\"url(#clip2702)\" style=\"stroke:#000000; stroke-width:2; stroke-opacity:0.1; fill:none\" points=\"\n",
       "  1096.32,1424.43 1096.32,47.2441 \n",
       "  \"/>\n",
       "<polyline clip-path=\"url(#clip2702)\" style=\"stroke:#000000; stroke-width:2; stroke-opacity:0.1; fill:none\" points=\"\n",
       "  1500.29,1424.43 1500.29,47.2441 \n",
       "  \"/>\n",
       "<polyline clip-path=\"url(#clip2702)\" style=\"stroke:#000000; stroke-width:2; stroke-opacity:0.1; fill:none\" points=\"\n",
       "  1904.25,1424.43 1904.25,47.2441 \n",
       "  \"/>\n",
       "<polyline clip-path=\"url(#clip2702)\" style=\"stroke:#000000; stroke-width:2; stroke-opacity:0.1; fill:none\" points=\"\n",
       "  2308.21,1424.43 2308.21,47.2441 \n",
       "  \"/>\n",
       "<polyline clip-path=\"url(#clip2702)\" style=\"stroke:#000000; stroke-width:2; stroke-opacity:0.1; fill:none\" points=\"\n",
       "  288.398,1306 2352.76,1306 \n",
       "  \"/>\n",
       "<polyline clip-path=\"url(#clip2702)\" style=\"stroke:#000000; stroke-width:2; stroke-opacity:0.1; fill:none\" points=\"\n",
       "  288.398,899.464 2352.76,899.464 \n",
       "  \"/>\n",
       "<polyline clip-path=\"url(#clip2702)\" style=\"stroke:#000000; stroke-width:2; stroke-opacity:0.1; fill:none\" points=\"\n",
       "  288.398,492.933 2352.76,492.933 \n",
       "  \"/>\n",
       "<polyline clip-path=\"url(#clip2702)\" style=\"stroke:#000000; stroke-width:2; stroke-opacity:0.1; fill:none\" points=\"\n",
       "  288.398,86.4009 2352.76,86.4009 \n",
       "  \"/>\n",
       "<polyline clip-path=\"url(#clip2700)\" style=\"stroke:#000000; stroke-width:4; stroke-opacity:1; fill:none\" points=\"\n",
       "  288.398,1424.43 2352.76,1424.43 \n",
       "  \"/>\n",
       "<polyline clip-path=\"url(#clip2700)\" style=\"stroke:#000000; stroke-width:4; stroke-opacity:1; fill:none\" points=\"\n",
       "  288.398,1424.43 288.398,47.2441 \n",
       "  \"/>\n",
       "<polyline clip-path=\"url(#clip2700)\" style=\"stroke:#000000; stroke-width:4; stroke-opacity:1; fill:none\" points=\"\n",
       "  288.398,1424.43 288.398,1407.91 \n",
       "  \"/>\n",
       "<polyline clip-path=\"url(#clip2700)\" style=\"stroke:#000000; stroke-width:4; stroke-opacity:1; fill:none\" points=\"\n",
       "  692.361,1424.43 692.361,1407.91 \n",
       "  \"/>\n",
       "<polyline clip-path=\"url(#clip2700)\" style=\"stroke:#000000; stroke-width:4; stroke-opacity:1; fill:none\" points=\"\n",
       "  1096.32,1424.43 1096.32,1407.91 \n",
       "  \"/>\n",
       "<polyline clip-path=\"url(#clip2700)\" style=\"stroke:#000000; stroke-width:4; stroke-opacity:1; fill:none\" points=\"\n",
       "  1500.29,1424.43 1500.29,1407.91 \n",
       "  \"/>\n",
       "<polyline clip-path=\"url(#clip2700)\" style=\"stroke:#000000; stroke-width:4; stroke-opacity:1; fill:none\" points=\"\n",
       "  1904.25,1424.43 1904.25,1407.91 \n",
       "  \"/>\n",
       "<polyline clip-path=\"url(#clip2700)\" style=\"stroke:#000000; stroke-width:4; stroke-opacity:1; fill:none\" points=\"\n",
       "  2308.21,1424.43 2308.21,1407.91 \n",
       "  \"/>\n",
       "<polyline clip-path=\"url(#clip2700)\" style=\"stroke:#000000; stroke-width:4; stroke-opacity:1; fill:none\" points=\"\n",
       "  288.398,1306 313.17,1306 \n",
       "  \"/>\n",
       "<polyline clip-path=\"url(#clip2700)\" style=\"stroke:#000000; stroke-width:4; stroke-opacity:1; fill:none\" points=\"\n",
       "  288.398,899.464 313.17,899.464 \n",
       "  \"/>\n",
       "<polyline clip-path=\"url(#clip2700)\" style=\"stroke:#000000; stroke-width:4; stroke-opacity:1; fill:none\" points=\"\n",
       "  288.398,492.933 313.17,492.933 \n",
       "  \"/>\n",
       "<polyline clip-path=\"url(#clip2700)\" style=\"stroke:#000000; stroke-width:4; stroke-opacity:1; fill:none\" points=\"\n",
       "  288.398,86.4009 313.17,86.4009 \n",
       "  \"/>\n",
       "<g clip-path=\"url(#clip2700)\">\n",
       "<text style=\"fill:#000000; fill-opacity:1; font-family:Courier,Courier New,Lucida Sans Typewriter,Lucida Typewriter,monospace; font-size:60px; text-anchor:middle;\" transform=\"rotate(0, 288.398, 1478.43)\" x=\"288.398\" y=\"1478.43\">0</text>\n",
       "</g>\n",
       "<g clip-path=\"url(#clip2700)\">\n",
       "<text style=\"fill:#000000; fill-opacity:1; font-family:Courier,Courier New,Lucida Sans Typewriter,Lucida Typewriter,monospace; font-size:60px; text-anchor:start;\" transform=\"rotate(0, 603.578, 1499.44)\" x=\"603.578\" y=\"1499.44\">1×10</text>\n",
       "</g>\n",
       "<g clip-path=\"url(#clip2700)\">\n",
       "<text style=\"fill:#000000; fill-opacity:1; font-family:Courier,Courier New,Lucida Sans Typewriter,Lucida Typewriter,monospace; font-size:48px; text-anchor:start;\" transform=\"rotate(0, 751.165, 1472.03)\" x=\"751.165\" y=\"1472.03\">4</text>\n",
       "</g>\n",
       "<g clip-path=\"url(#clip2700)\">\n",
       "<text style=\"fill:#000000; fill-opacity:1; font-family:Courier,Courier New,Lucida Sans Typewriter,Lucida Typewriter,monospace; font-size:60px; text-anchor:start;\" transform=\"rotate(0, 1007.54, 1499.44)\" x=\"1007.54\" y=\"1499.44\">2×10</text>\n",
       "</g>\n",
       "<g clip-path=\"url(#clip2700)\">\n",
       "<text style=\"fill:#000000; fill-opacity:1; font-family:Courier,Courier New,Lucida Sans Typewriter,Lucida Typewriter,monospace; font-size:48px; text-anchor:start;\" transform=\"rotate(0, 1155.13, 1472.03)\" x=\"1155.13\" y=\"1472.03\">4</text>\n",
       "</g>\n",
       "<g clip-path=\"url(#clip2700)\">\n",
       "<text style=\"fill:#000000; fill-opacity:1; font-family:Courier,Courier New,Lucida Sans Typewriter,Lucida Typewriter,monospace; font-size:60px; text-anchor:start;\" transform=\"rotate(0, 1411.5, 1499.44)\" x=\"1411.5\" y=\"1499.44\">3×10</text>\n",
       "</g>\n",
       "<g clip-path=\"url(#clip2700)\">\n",
       "<text style=\"fill:#000000; fill-opacity:1; font-family:Courier,Courier New,Lucida Sans Typewriter,Lucida Typewriter,monospace; font-size:48px; text-anchor:start;\" transform=\"rotate(0, 1559.09, 1472.03)\" x=\"1559.09\" y=\"1472.03\">4</text>\n",
       "</g>\n",
       "<g clip-path=\"url(#clip2700)\">\n",
       "<text style=\"fill:#000000; fill-opacity:1; font-family:Courier,Courier New,Lucida Sans Typewriter,Lucida Typewriter,monospace; font-size:60px; text-anchor:start;\" transform=\"rotate(0, 1815.47, 1499.44)\" x=\"1815.47\" y=\"1499.44\">4×10</text>\n",
       "</g>\n",
       "<g clip-path=\"url(#clip2700)\">\n",
       "<text style=\"fill:#000000; fill-opacity:1; font-family:Courier,Courier New,Lucida Sans Typewriter,Lucida Typewriter,monospace; font-size:48px; text-anchor:start;\" transform=\"rotate(0, 1963.05, 1472.03)\" x=\"1963.05\" y=\"1472.03\">4</text>\n",
       "</g>\n",
       "<g clip-path=\"url(#clip2700)\">\n",
       "<text style=\"fill:#000000; fill-opacity:1; font-family:Courier,Courier New,Lucida Sans Typewriter,Lucida Typewriter,monospace; font-size:60px; text-anchor:start;\" transform=\"rotate(0, 2219.43, 1499.44)\" x=\"2219.43\" y=\"1499.44\">5×10</text>\n",
       "</g>\n",
       "<g clip-path=\"url(#clip2700)\">\n",
       "<text style=\"fill:#000000; fill-opacity:1; font-family:Courier,Courier New,Lucida Sans Typewriter,Lucida Typewriter,monospace; font-size:48px; text-anchor:start;\" transform=\"rotate(0, 2367.02, 1472.03)\" x=\"2367.02\" y=\"1472.03\">4</text>\n",
       "</g>\n",
       "<g clip-path=\"url(#clip2700)\">\n",
       "<text style=\"fill:#000000; fill-opacity:1; font-family:Courier,Courier New,Lucida Sans Typewriter,Lucida Typewriter,monospace; font-size:74px; text-anchor:end;\" transform=\"rotate(0, 264.398, 1327.5)\" x=\"264.398\" y=\"1327.5\">-32</text>\n",
       "</g>\n",
       "<g clip-path=\"url(#clip2700)\">\n",
       "<text style=\"fill:#000000; fill-opacity:1; font-family:Courier,Courier New,Lucida Sans Typewriter,Lucida Typewriter,monospace; font-size:74px; text-anchor:end;\" transform=\"rotate(0, 264.398, 920.964)\" x=\"264.398\" y=\"920.964\">-31</text>\n",
       "</g>\n",
       "<g clip-path=\"url(#clip2700)\">\n",
       "<text style=\"fill:#000000; fill-opacity:1; font-family:Courier,Courier New,Lucida Sans Typewriter,Lucida Typewriter,monospace; font-size:74px; text-anchor:end;\" transform=\"rotate(0, 264.398, 514.433)\" x=\"264.398\" y=\"514.433\">-30</text>\n",
       "</g>\n",
       "<g clip-path=\"url(#clip2700)\">\n",
       "<text style=\"fill:#000000; fill-opacity:1; font-family:Courier,Courier New,Lucida Sans Typewriter,Lucida Typewriter,monospace; font-size:74px; text-anchor:end;\" transform=\"rotate(0, 264.398, 107.901)\" x=\"264.398\" y=\"107.901\">-29</text>\n",
       "</g>\n",
       "<g clip-path=\"url(#clip2700)\">\n",
       "<text style=\"fill:#000000; fill-opacity:1; font-family:Courier,Courier New,Lucida Sans Typewriter,Lucida Typewriter,monospace; font-size:82px; text-anchor:middle;\" transform=\"rotate(0, 1320.58, 1561.37)\" x=\"1320.58\" y=\"1561.37\">ti (years)</text>\n",
       "</g>\n",
       "<g clip-path=\"url(#clip2700)\">\n",
       "<text style=\"fill:#000000; fill-opacity:1; font-family:Courier,Courier New,Lucida Sans Typewriter,Lucida Typewriter,monospace; font-size:82px; text-anchor:middle;\" transform=\"rotate(-90, 88.6929, 735.838)\" x=\"88.6929\" y=\"735.838\">Energy Error(log)</text>\n",
       "</g>\n",
       "<polyline clip-path=\"url(#clip2702)\" style=\"stroke:#009af9; stroke-width:4; stroke-opacity:1; fill:none\" points=\"\n",
       "  296.477,1060.3 304.597,1097.51 312.676,1002.39 320.795,989.917 328.875,817.249 336.954,803.099 345.074,852.249 353.153,1385.46 361.273,1018.57 369.352,1178.52 \n",
       "  377.471,1057.17 385.551,1071.07 393.63,1141.44 401.75,746.822 409.829,844.941 417.949,705.767 426.028,727.213 434.107,675.785 442.227,581.066 450.306,573.064 \n",
       "  458.426,573.034 466.505,552.831 474.584,566.099 482.704,510.361 490.783,534.173 498.903,566.204 506.982,580.72 515.061,567.509 523.181,515.184 531.26,485.783 \n",
       "  539.38,501.834 547.459,519.238 555.579,504.35 563.658,516.65 571.737,502.672 579.857,543.485 587.936,545.12 596.056,523.9 604.135,556.323 612.214,584.065 \n",
       "  620.334,596.896 628.413,632.293 636.533,617.507 644.612,594.838 652.691,579.734 660.811,578.207 668.89,556.389 677.01,550.219 685.089,539.443 693.209,547.205 \n",
       "  701.288,548.676 709.367,542.823 717.487,562.883 725.566,594.018 733.686,642.095 741.765,676.234 749.844,652.316 757.964,125.036 766.043,125.057 774.163,128.133 \n",
       "  782.242,125.704 790.322,125.34 798.441,124.577 806.52,124.968 814.64,124.83 822.719,125.328 830.839,126.659 838.918,130.713 846.998,129.581 855.117,130.402 \n",
       "  863.196,129.154 871.316,128.313 879.395,128.913 887.475,127.597 895.594,128.384 903.674,128.469 911.793,128.851 919.872,126.357 927.952,128.323 936.071,128.395 \n",
       "  944.151,131.069 952.27,127.404 960.35,130.909 968.429,125.724 976.548,127.61 984.628,125.742 992.747,123.856 1000.83,126.122 1008.95,130.134 1017.03,131.967 \n",
       "  1025.1,131.067 1033.22,130.206 1041.3,129.386 1049.42,125.182 1057.5,127.106 1065.58,123.75 1073.7,124.674 1081.78,125.184 1089.9,124.277 1097.98,123.017 \n",
       "  1106.06,123.369 1114.18,120.197 1122.26,118.586 1130.38,121.116 1138.46,121.788 1146.58,118.976 1154.66,116.424 1162.73,118.616 1170.85,118.951 1178.93,117.827 \n",
       "  1187.05,114.314 1195.13,114.053 1203.21,115.647 1211.33,116.594 1219.41,110.512 1227.53,112.811 1235.61,111.828 1243.69,109.79 1251.81,110.663 1259.89,110.736 \n",
       "  1268.01,108.844 1276.09,109.436 1284.21,110.128 1292.29,106.45 1300.37,106.602 1308.48,107.934 1316.56,108.058 1324.68,106.026 1332.76,108.821 1340.84,108.486 \n",
       "  1348.96,108.983 1357.04,107.999 1365.16,110.931 1373.24,111.779 1381.32,113.295 1389.44,113.81 1397.52,114.211 1405.64,116.838 1413.72,115.132 1421.8,116.241 \n",
       "  1429.92,116.272 1438,115.989 1446.11,118.557 1454.19,115.555 1462.31,114.496 1470.39,114.931 1478.47,114.045 1486.59,112.659 1494.67,117.329 1502.79,115.611 \n",
       "  1510.87,117.308 1518.95,118.438 1527.07,115.5 1535.15,117.186 1543.27,118.203 1551.35,117.449 1559.43,119.246 1567.55,122.691 1575.63,123.372 1583.75,122.835 \n",
       "  1591.82,124.444 1599.94,123.721 1608.02,123.592 1616.1,123.995 1624.22,125.655 1632.3,128.442 1640.42,127.468 1648.5,126.936 1656.58,127.024 1664.7,127.931 \n",
       "  1672.78,125.458 1680.9,125.266 1688.98,123.053 1697.06,121.414 1705.18,122.885 1713.26,120.228 1721.38,122.538 1729.45,123.603 1737.57,124.771 1745.65,119.685 \n",
       "  1753.73,120.263 1761.85,121.075 1769.93,118.706 1778.05,119.96 1786.13,117.606 1794.21,119.732 1802.33,117.473 1810.41,116.93 1818.53,117.277 1826.61,117.777 \n",
       "  1834.69,116.674 1842.81,118.453 1850.89,118.546 1859.01,121.855 1867.08,125.696 1875.16,127.294 1883.28,125.279 1891.36,123.273 1899.48,125.975 1907.56,127.363 \n",
       "  1915.68,125.053 1923.76,122.482 1931.84,122.362 1939.96,121.151 1948.04,122.451 1956.16,124.469 1964.24,125.12 1972.32,125.58 1980.44,124.836 1988.52,124.805 \n",
       "  1996.64,125.311 2004.71,125.686 2012.79,122.877 2020.91,122.038 2028.99,121.409 2037.11,123.028 2045.19,123.828 2053.31,125.125 2061.39,127.363 2069.47,125.667 \n",
       "  2077.59,123.686 2085.67,123.1 2093.79,121.49 2101.87,123.392 2109.95,119.677 2118.07,118.598 2126.15,116.203 2134.27,116.354 2142.34,118.34 2150.42,116.423 \n",
       "  2158.54,113.236 2166.62,114.005 2174.74,114.638 2182.82,113.711 2190.94,113.41 2199.02,111.544 2207.1,109.753 2215.22,108.775 2223.3,107.044 2231.42,105.643 \n",
       "  2239.5,103.835 2247.58,102.626 2255.7,97.8865 2263.78,95.9649 2271.9,98.2534 2279.98,96.5715 2288.05,95.5908 2296.17,90.5388 2304.25,88.2989 2312.37,86.2211 \n",
       "  \n",
       "  \"/>\n",
       "<path clip-path=\"url(#clip2700)\" d=\"\n",
       "M1708.68 251.724 L2280.76 251.724 L2280.76 130.764 L1708.68 130.764  Z\n",
       "  \" fill=\"#ffffff\" fill-rule=\"evenodd\" fill-opacity=\"1\"/>\n",
       "<polyline clip-path=\"url(#clip2700)\" style=\"stroke:#000000; stroke-width:4; stroke-opacity:1; fill:none\" points=\"\n",
       "  1708.68,251.724 2280.76,251.724 2280.76,130.764 1708.68,130.764 1708.68,251.724 \n",
       "  \"/>\n",
       "<polyline clip-path=\"url(#clip2700)\" style=\"stroke:#009af9; stroke-width:4; stroke-opacity:1; fill:none\" points=\"\n",
       "  1732.68,191.244 1876.68,191.244 \n",
       "  \"/>\n",
       "<g clip-path=\"url(#clip2700)\">\n",
       "<text style=\"fill:#000000; fill-opacity:1; font-family:Courier,Courier New,Lucida Sans Typewriter,Lucida Typewriter,monospace; font-size:60px; text-anchor:start;\" transform=\"rotate(0, 1900.68, 208.744)\" x=\"1900.68\" y=\"208.744\">FCIRK16-Q</text>\n",
       "</g>\n",
       "</svg>\n"
      ]
     },
     "execution_count": 66,
     "metadata": {},
     "output_type": "execute_result"
    }
   ],
   "source": [
    "plot(ti,log10.(abs.(MeanHam1)), label=\"FCIRK16-Q\")\n",
    "plot!(title=\"\",\n",
    "      xlabel=\"ti (years)\",\n",
    "      ylabel=\"Energy Error(log)\",\n",
    "      xlims=(0,tendx),\n",
    "#      ylims=(Eaxa,Eaxb),\n",
    "#      yticks=[-1e-16,0,1e-16],\n",
    "      ytickfont = font(10, \"Courier\")\n",
    ")"
   ]
  },
  {
   "cell_type": "code",
   "execution_count": null,
   "metadata": {},
   "outputs": [],
   "source": []
  }
 ],
 "metadata": {
  "@webio": {
   "lastCommId": null,
   "lastKernelId": null
  },
  "anaconda-cloud": {},
  "kernelspec": {
   "display_name": "Julia 1.3.1",
   "language": "julia",
   "name": "julia-1.3"
  },
  "language_info": {
   "file_extension": ".jl",
   "mimetype": "application/julia",
   "name": "julia",
   "version": "1.3.1"
  }
 },
 "nbformat": 4,
 "nbformat_minor": 1
}

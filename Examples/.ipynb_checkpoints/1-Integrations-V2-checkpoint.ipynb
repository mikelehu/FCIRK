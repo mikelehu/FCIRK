{
 "cells": [
  {
   "cell_type": "code",
   "execution_count": 1,
   "metadata": {
    "collapsed": false
   },
   "outputs": [
    {
     "name": "stderr",
     "output_type": "stream",
     "text": [
      "WARNING: Method definition midpoints(Base.Range{T} where T) in module Base at deprecated.jl:56 overwritten in module StatsBase at /home/joseba/.julia/v0.6/StatsBase/src/hist.jl:535.\n",
      "WARNING: Method definition midpoints(AbstractArray{T, 1} where T) in module Base at deprecated.jl:56 overwritten in module StatsBase at /home/joseba/.julia/v0.6/StatsBase/src/hist.jl:533.\n"
     ]
    }
   ],
   "source": [
    "#Pkg.add(\"NBInclude\")\n",
    "using NBInclude;\n",
    "using Plots; # warning ???\n",
    "nbinclude(\"../MyPackages/AldagaiAldaketak.ipynb\");\n",
    "nbinclude(\"../MyPackages/NBodyProblem.ipynb\");\n",
    "nbinclude(\"../MyPackages/N16BodyProblem.ipynb\");\n",
    "nbinclude(\"../MyPackages/MyFunctions.ipynb\");\n",
    "nbinclude(\"../MyPackages/MyFunctions2.ipynb\");"
   ]
  },
  {
   "cell_type": "code",
   "execution_count": 2,
   "metadata": {
    "collapsed": false
   },
   "outputs": [
    {
     "data": {
      "text/plain": [
       "2-element Array{DataType,1}:\n",
       " Array{BigFloat,1}\n",
       " Array{BigFloat,1}"
      ]
     },
     "execution_count": 2,
     "metadata": {},
     "output_type": "execute_result"
    }
   ],
   "source": [
    "(nbody,u0,Gm,iE,iM)= N16_Cartesian();\n",
    "pint=[0,1]; #orderplanets izango litzatekeena\n",
    "[typeof(u0),typeof(Gm)]"
   ]
  },
  {
   "cell_type": "code",
   "execution_count": 3,
   "metadata": {
    "collapsed": false
   },
   "outputs": [
    {
     "data": {
      "text/plain": [
       "5-element Array{Any,1}:\n",
       " 16     \n",
       "   (96,)\n",
       "   (16,)\n",
       " 15     \n",
       " 16     "
      ]
     },
     "execution_count": 3,
     "metadata": {},
     "output_type": "execute_result"
    }
   ],
   "source": [
    "[nbody, size(u0),size(Gm),iE,iM]"
   ]
  },
  {
   "cell_type": "code",
   "execution_count": 4,
   "metadata": {
    "collapsed": false
   },
   "outputs": [],
   "source": [
    "dim=3;\n",
    "neq=nbody*2*dim;\n",
    "d = Int(neq/2);\n",
    "qq=u0[1:d];\n",
    "vv=u0[d+1:neq];"
   ]
  },
  {
   "cell_type": "code",
   "execution_count": 5,
   "metadata": {
    "collapsed": false
   },
   "outputs": [],
   "source": [
    "QQ=AldagaiAldaketaQ(qq,Gm);\n",
    "VV=AldagaiAldaketaV(vv,Gm);"
   ]
  },
  {
   "cell_type": "code",
   "execution_count": 6,
   "metadata": {
    "collapsed": false
   },
   "outputs": [
    {
     "data": {
      "text/plain": [
       "5-element Array{DataType,1}:\n",
       " Array{BigFloat,1}\n",
       " Array{BigFloat,1}\n",
       " Array{BigFloat,1}\n",
       " Array{BigFloat,1}\n",
       " Array{BigFloat,1}"
      ]
     },
     "execution_count": 6,
     "metadata": {},
     "output_type": "execute_result"
    }
   ],
   "source": [
    "[typeof(qq),typeof(vv),typeof(Gm),typeof(QQ),typeof(VV)]"
   ]
  },
  {
   "cell_type": "code",
   "execution_count": 7,
   "metadata": {
    "collapsed": false
   },
   "outputs": [
    {
     "data": {
      "text/plain": [
       "4.9175224090464674273271211654093e+01"
      ]
     },
     "execution_count": 7,
     "metadata": {},
     "output_type": "execute_result"
    }
   ],
   "source": [
    "norm(QQ)\n",
    "# Mathematica: 49.17522409046467342142027133648301"
   ]
  },
  {
   "cell_type": "code",
   "execution_count": 8,
   "metadata": {
    "collapsed": false
   },
   "outputs": [
    {
     "data": {
      "text/plain": [
       "4.9382221727612126744066478921851e-02"
      ]
     },
     "execution_count": 8,
     "metadata": {},
     "output_type": "execute_result"
    }
   ],
   "source": [
    "norm(VV)\n",
    "# Mathematica: 0.04938222172761212722728166903566"
   ]
  },
  {
   "cell_type": "code",
   "execution_count": 9,
   "metadata": {
    "collapsed": false
   },
   "outputs": [
    {
     "data": {
      "text/plain": [
       "2-element Array{Array{BigFloat,1},1}:\n",
       " BigFloat[1.7753667504621631575978023232148e-33, -3.9684219086020097354021358002008e-33, -2.5012168796796633594558776039015e-34] \n",
       " BigFloat[-1.1334942967174653951670565160516e-36, -3.8090257543168730177699375116933e-36, -3.6230902593874171300867853265048e-36]"
      ]
     },
     "execution_count": 9,
     "metadata": {},
     "output_type": "execute_result"
    }
   ],
   "source": [
    "[QQ[1:3],VV[1:3]]"
   ]
  },
  {
   "cell_type": "code",
   "execution_count": 10,
   "metadata": {
    "collapsed": false
   },
   "outputs": [
    {
     "data": {
      "text/plain": [
       "Array{BigFloat,1}"
      ]
     },
     "execution_count": 10,
     "metadata": {},
     "output_type": "execute_result"
    }
   ],
   "source": [
    "U0=vcat(QQ[4:end],VV[4:end]);\n",
    "typeof(U0)"
   ]
  },
  {
   "cell_type": "code",
   "execution_count": 11,
   "metadata": {
    "collapsed": false
   },
   "outputs": [],
   "source": [
    "# Problemaren parametroak\n",
    "strrpar=map(x->string(x),Gm);   # Real128????\n",
    "u128=map(x->string(x),U0); \n",
    "neq=size(U0)[1];\n",
    "W0=vcat(U0,0.);\n",
    "stru0=map(x->string(x),W0);\n",
    "neqw=size(W0)[1];"
   ]
  },
  {
   "cell_type": "code",
   "execution_count": 12,
   "metadata": {
    "collapsed": false
   },
   "outputs": [],
   "source": [
    "#Integration parameters\n",
    "ns=[16,16,16];\n",
    "h=[2.5];\n",
    "t0=0.;\n",
    "tend=10000.;\n",
    "tend=50.;"
   ]
  },
  {
   "cell_type": "code",
   "execution_count": 13,
   "metadata": {
    "collapsed": false
   },
   "outputs": [],
   "source": [
    "#Integration parameters\n",
    "n=round((tend-t0)/h[1]);\n",
    "hh=(tend-t0)/n;\n",
    "nout=500;\n",
    "nout=10;\n",
    "sampling0=Integer(round((tend-t0)/(nout*hh)));    # Integer ????\n",
    "#Integer(round(2.5))\n",
    "h0=(tend-t0)/(nout*sampling0);\n",
    "#\n",
    "nstep0=(tend-t0)/h0;\n",
    "nout0=nstep0/sampling0;"
   ]
  },
  {
   "cell_type": "code",
   "execution_count": 14,
   "metadata": {
    "collapsed": false
   },
   "outputs": [
    {
     "data": {
      "text/plain": [
       "1×5 RowVector{Float64,Array{Float64,1}}:\n",
       " 2.5  50.0  20.0  10.0  2.0"
      ]
     },
     "execution_count": 14,
     "metadata": {},
     "output_type": "execute_result"
    }
   ],
   "source": [
    "#Integration parameters\n",
    "transpose([h0, tend,nstep0,nout0,sampling0])"
   ]
  },
  {
   "cell_type": "code",
   "execution_count": 15,
   "metadata": {
    "collapsed": false
   },
   "outputs": [
    {
     "data": {
      "text/plain": [
       "3-element Array{DataType,1}:\n",
       " Array{String,1}\n",
       " Array{String,1}\n",
       " Array{Int64,1} "
      ]
     },
     "execution_count": 15,
     "metadata": {},
     "output_type": "execute_result"
    }
   ],
   "source": [
    "[typeof(stru0),typeof(strrpar),typeof(pint)]"
   ]
  },
  {
   "cell_type": "code",
   "execution_count": 16,
   "metadata": {
    "collapsed": true
   },
   "outputs": [],
   "source": [
    "#Execute integrations\n",
    "FPit=[0,0,0];     # 0: General Iteration;  1: Partitioned Iteration\n",
    "Approx=[0,0,0];   # Stage Initialization:  0: Default; 1: Interpolated\n",
    "Codfun=[51,52,53]; # 51: IRK ;  52: FCIRK-LL ;  53: FCIRK-QL\n",
    "rdigits=0;"
   ]
  },
  {
   "cell_type": "code",
   "execution_count": 17,
   "metadata": {
    "collapsed": true
   },
   "outputs": [],
   "source": [
    "file=\"./soltemp.bin\";\n",
    "threads=1;\n",
    "rdigits=0;"
   ]
  },
  {
   "cell_type": "code",
   "execution_count": 18,
   "metadata": {
    "collapsed": false
   },
   "outputs": [],
   "source": [
    "nbyte=8; #number of bytes for Float128 number\n",
    "ulen=size(stru0)[1]*nbyte;\n",
    "rlen=size(strrpar)[1]*nbyte;\n",
    "[ulen,rlen];\n",
    "#C inplementazioan: ulen=1456 (91*16), rlen=256 (11*16)"
   ]
  },
  {
   "cell_type": "code",
   "execution_count": 19,
   "metadata": {
    "collapsed": false
   },
   "outputs": [
    {
     "data": {
      "text/plain": [
       "4-element Array{Float64,1}:\n",
       " 0.0\n",
       " 0.0\n",
       " 0.0\n",
       " 0.0"
      ]
     },
     "execution_count": 19,
     "metadata": {},
     "output_type": "execute_result"
    }
   ],
   "source": [
    "#Float128\n",
    "rr=longIRKFPV2(neqw,ns[1],t0,tend,\n",
    "             W0,rlen,\n",
    "             h0,\n",
    "             Gm,rlen, \n",
    "             pint,size(pint)[1],\n",
    "             Approx[1], threads, FPit[1],\n",
    "             rdigits,\n",
    "             file,sampling0, Codfun[1])"
   ]
  },
  {
   "cell_type": "code",
   "execution_count": null,
   "metadata": {
    "collapsed": true
   },
   "outputs": [],
   "source": []
  }
 ],
 "metadata": {
  "anaconda-cloud": {},
  "kernelspec": {
   "display_name": "Julia 0.6.2",
   "language": "julia",
   "name": "julia-0.6"
  },
  "language_info": {
   "file_extension": ".jl",
   "mimetype": "application/julia",
   "name": "julia",
   "version": "0.6.2"
  }
 },
 "nbformat": 4,
 "nbformat_minor": 1
}

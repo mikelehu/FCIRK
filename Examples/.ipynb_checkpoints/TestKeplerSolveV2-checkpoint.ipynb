{
 "cells": [
  {
   "cell_type": "code",
   "execution_count": 1,
   "metadata": {
    "collapsed": false
   },
   "outputs": [],
   "source": [
    "using NBInclude;"
   ]
  },
  {
   "cell_type": "code",
   "execution_count": 2,
   "metadata": {
    "collapsed": false
   },
   "outputs": [],
   "source": [
    "@nbinclude(\"../MyPackages/MyKeplerSolve.ipynb\");"
   ]
  },
  {
   "cell_type": "code",
   "execution_count": 3,
   "metadata": {
    "collapsed": false
   },
   "outputs": [],
   "source": [
    "q0 = [-0.156655, 0.737035, -0.156454]\n",
    "v0 = [-0.055004, -0.0381374, -0.0626549]\n",
    "k = 0.409810130003863\n",
    "\n",
    "r0 = norm(q0)      \n",
    "eta = dot(q0, v0)  \n",
    "v02 = dot(v0, v0)  \n",
    "beta = 2*k/r0 - v02\n",
    "zeta = k - beta*r0\n",
    "\n",
    "Q0 = BigFloat.(q0)\n",
    "V0 = BigFloat.(v0)\n",
    "K = BigFloat(k)\n",
    "\n",
    "R0 = norm(Q0)      \n",
    "Eta = dot(Q0, V0)  \n",
    "V02 = dot(V0, V0)  \n",
    "Beta = 2*K/R0 - V02\n",
    "Zeta = K - Beta*R0;\n",
    "\n",
    "#r0=0.7695708117944703\n",
    "#eta=-0.009689337264400003\n",
    "#zeta=-0.40334147346419014\n",
    "#beta=1.0566299955841127\n",
    "#k=0.409810130003863\n",
    "#X=[0.]"
   ]
  },
  {
   "cell_type": "code",
   "execution_count": 4,
   "metadata": {
    "collapsed": false
   },
   "outputs": [
    {
     "name": "stdout",
     "output_type": "stream",
     "text": [
      "M=2.20808, E0=-3.1169, e=0.984516 \n",
      "Cubic polynomial centered at X =5.18032\n",
      "Starting guess (approx. zero of cubic polynomial): X0 =5.62144\n",
      "i=6, X=5.6221, dX=0.0006575, errX=7.3914e-11\n",
      "i=8, X=5.6221, dX=2.77555e-11, errX=2.16384e-22\n",
      "Success: E=2.66219, X=5.6221, errX=2.16384e-22, iters=2\n"
     ]
    }
   ],
   "source": [
    "t=2.\n",
    "(X, G0, G1, G2, r, i)=CKeplerSolveV2(r0,eta,zeta,beta,k,t);"
   ]
  },
  {
   "cell_type": "code",
   "execution_count": 5,
   "metadata": {
    "collapsed": false
   },
   "outputs": [
    {
     "data": {
      "text/plain": [
       "4-element Array{Float64,1}:\n",
       "  5.622095609579479  \n",
       "  0.8756133343221271 \n",
       " -0.46989097229439425\n",
       "  0.11772017281140223"
      ]
     },
     "execution_count": 5,
     "metadata": {},
     "output_type": "execute_result"
    }
   ],
   "source": [
    "[X,G0,G1,G2]"
   ]
  },
  {
   "cell_type": "code",
   "execution_count": 6,
   "metadata": {
    "collapsed": false
   },
   "outputs": [
    {
     "name": "stdout",
     "output_type": "stream",
     "text": [
      "M=-2.82757, E0=-3.1169, e=0.984516 \n",
      "Cubic polynomial centered at X =0.129943\n",
      "Starting guess (approx. zero of cubic polynomial): X0 =0.130242\n",
      "i=5, X=0.130242, dX=-3.62867e-17, errX=3.51349e-34\n",
      "Success: E=-2.98303, X=0.130242, errX=3.51349e-34, iters=1\n"
     ]
    }
   ],
   "source": [
    "t=0.1\n",
    "(X, G0, G1, G2, r, i)=CKeplerSolveV2(r0,eta,zeta,beta,k,t);"
   ]
  },
  {
   "cell_type": "code",
   "execution_count": 7,
   "metadata": {
    "collapsed": false
   },
   "outputs": [
    {
     "data": {
      "text/plain": [
       "4-element Array{Float64,1}:\n",
       " 0.13024199889981053 \n",
       " 0.9910515818048455  \n",
       " 0.1298532800243829  \n",
       " 0.008468828475958352"
      ]
     },
     "execution_count": 7,
     "metadata": {},
     "output_type": "execute_result"
    }
   ],
   "source": [
    "[X,G0,G1,G2]"
   ]
  },
  {
   "cell_type": "code",
   "execution_count": 8,
   "metadata": {
    "collapsed": false
   },
   "outputs": [
    {
     "name": "stdout",
     "output_type": "stream",
     "text": [
      "M=-3.09257, E0=-3.1169, e=0.984516 \n",
      "Starting guess: X0 =0\n",
      "i=3, X=1.29943e-05, dX=1.29943e-05, errX=5.08421e-16\n",
      "i=5, X=1.29943e-05, dX=1.91745e-16, errX=9.75098e-33\n",
      "Success: E=-3.11689, X=1.29943e-05, errX=9.75098e-33, iters=1\n"
     ]
    }
   ],
   "source": [
    "dt=0.00001\n",
    "(X, G0, G1, G2, r, i)=CKeplerSolveV2(r0,eta,zeta,beta,k,dt);"
   ]
  },
  {
   "cell_type": "code",
   "execution_count": 9,
   "metadata": {
    "collapsed": false
   },
   "outputs": [
    {
     "data": {
      "text/plain": [
       "4-element Array{Float64,1}:\n",
       " 1.2994256883074131e-5\n",
       " 0.9999999999107937   \n",
       " 1.2994256882687742e-5\n",
       " 8.442535597040449e-11"
      ]
     },
     "execution_count": 9,
     "metadata": {},
     "output_type": "execute_result"
    }
   ],
   "source": [
    "[X,G0,G1,G2]"
   ]
  },
  {
   "cell_type": "code",
   "execution_count": 10,
   "metadata": {
    "collapsed": false
   },
   "outputs": [
    {
     "name": "stdout",
     "output_type": "stream",
     "text": [
      "M=-3.0926, E0=-3.1169, e=0.984516 \n",
      "Starting guess: X0 =0\n",
      "i=3, X=1.29943e-08, dX=1.29943e-08, errX=5.08421e-25\n",
      "Success: E=-3.1169, X=1.29943e-08, errX=5.08421e-25, iters=1\n"
     ]
    }
   ],
   "source": [
    "dt=0.00000001\n",
    "(X, G0, G1, G2, r, i)=CKeplerSolveV2(r0,eta,zeta,beta,k,dt);"
   ]
  },
  {
   "cell_type": "code",
   "execution_count": 11,
   "metadata": {
    "collapsed": false
   },
   "outputs": [
    {
     "data": {
      "text/plain": [
       "4-element Array{Float64,1}:\n",
       " 1.2994255820981854e-8\n",
       " 0.9999999999999999   \n",
       " 1.2994255820981854e-8\n",
       " 8.442534217056037e-17"
      ]
     },
     "execution_count": 11,
     "metadata": {},
     "output_type": "execute_result"
    }
   ],
   "source": [
    "[X,G0,G1,G2]"
   ]
  },
  {
   "cell_type": "markdown",
   "metadata": {},
   "source": [
    "# Final algorithm to solve Kepler equation in universal variables (in the elliptic case)"
   ]
  },
  {
   "cell_type": "code",
   "execution_count": 12,
   "metadata": {
    "collapsed": false
   },
   "outputs": [
    {
     "data": {
      "text/plain": [
       "KeplerSolve (generic function with 4 methods)"
      ]
     },
     "execution_count": 12,
     "metadata": {},
     "output_type": "execute_result"
    }
   ],
   "source": [
    "function KeplerSolve(r0, eta, zeta, beta, k,  t, trace=false, imax = 100)\n",
    "    # Elliptic case (beta>0)\n",
    "   # r0 X + eta G2 + zeta G3 == t ->   X \n",
    "   # F(X) := r0 X + eta G2 + zeta G3 - t\n",
    "   # F'(X) = r0 + eta G1 + zeta G2\n",
    "   #|F''(X)| <= om := sqrt(eta^2 + zeta^2/beta)\n",
    "   # An initial guess X0 \\approx X is obtained as the (exact or approximate) zero of a cubic polynomial:\n",
    "   #          - If the Kantorovich condition holds for $X=0$, then that cubic polynomial is obtained as the 3rd degree truncated Taylor polynomial of F(X) around X0=-F(0)/F'(0), and its zero is approximated by applying two Newton iterations with X0 as initial guess. \n",
    "   #          - Otherwise, the 3rd degree truncated Taylor polynomial of F(X) around X0=(beta*t - eta)/k is considered. If F'(X0)<0.4*k/beta (the most difficult case, with high eccentricity, and near the inflexion point), that cubic polynomial has a unique zero, and it is computed exactly. Otherwise, the zero of that cubic polynomial that is closest to X0 is approximated by applying an iteration of Halley's method followed by one Newton iteration, with X0=(beta*t - eta)/k as initial guess.\n",
    "   #                    \n",
    "   # A cubically convergent iteration is employed, Halley's method: \n",
    "   #  X = X + dX /(1 -tau/2 * F''(X)) \n",
    "   #  where dX = -F(X)/F'(X) and tau = dX/F'(X)\n",
    "   #  If the error bound of Newton step (X = X + dX) is small enough,\n",
    "   #  then the iteration is stopped. Otherwise, Halley's iteration is performed\n",
    "   # OUTPUT: (X, G0, G1, G2, r, i). \n",
    "   # Here, i is related to the number of iterations: \n",
    "   # 3 times the number of Halley's iterations + 2 in case of a final Newton iteration\n",
    "   nu = sqrt(beta)\n",
    "   nuinv = 1/nu\n",
    "   betainv = 1/beta\n",
    "   Coeff = 0.83*k/nuinv \n",
    "   om = sqrt(eta*eta + zeta*zeta*betainv)\n",
    "   if trace\n",
    "     e = om*nu/k\n",
    "     E0 = atan(sqrt(beta)*eta,zeta)\n",
    "     M0 = E0 - e*sin(E0) \n",
    "     println(\"M=\", Float32(M0 + sqrt(beta)^3/k*t), \", E0=\",Float32(E0), \", e=\", Float32(e))\n",
    "   end\n",
    "    # Itinialize iteration\n",
    "   F0d = r0 \n",
    "   dX = t/F0d \n",
    "   tau = dX/F0d \n",
    "   if  Coeff*abs(tau) <= 0.026 \n",
    "           X = zero(r0) \n",
    "           trace ? println(\"Starting guess: X0 = \", Float64(X)) : nothing \n",
    "           G0 = one(r0)\n",
    "           G1 = X\n",
    "#           G2 = X\n",
    "#           G3 = X\n",
    "           i0 = 0    \n",
    "   else\n",
    "           (om*abs(tau)<0.5) ? X = dX : X = (beta*t - eta)/k \n",
    "           trace ? println(\"Cubic polynomial centered at X = \", Float64(X)) : nothing \n",
    "           x = nu*X\n",
    "           S = sin(x)       \n",
    "           G0 = cos(x)   \n",
    "           G1 = S*nuinv\n",
    "           W = 1 - G0\n",
    "           G2 = W*betainv\n",
    "           G3 = (X - G1)*betainv\n",
    "           a0 = r0*X + eta*G2 + zeta*G3 - t\n",
    "           a1 = r0 + eta*G1 + zeta*G2\n",
    "           if abs(a1 * beta) >= 0.4*k \n",
    "               a2 = 0.5*(eta*G0 + zeta*G1)\n",
    "               a3 = 0.16666666666666667*(-beta*eta*G1 + zeta*G0)\n",
    "               dX = -a0/a1      \n",
    "               dX = -a0/(a1 + a2 * dX) # One Halley's iteration \n",
    "               b1 = a2 + dX * a3\n",
    "               b0 = a1 + dX * b1\n",
    "               P0 = a0 + dX * b0\n",
    "               Pd0 = b0 + dX * (b1 + dX * a3)\n",
    "               dX -= P0/Pd0     # Second Newton iteration\n",
    "               X += dX \n",
    "               trace ? println(\"Starting guess (approx. zero of cubic polynomial\n",
    "                       : X0 = \", Float64(X)) : nothing \n",
    "           else \n",
    "               if iszero(a0) && iszero(a1)\n",
    "           trace ? println(\"Success: E=\", Float64(E0 + sqrt(beta)*X),\n",
    "                           \", X=\",Float64(X), \", errX=\", Float64(0),\n",
    "                           \", iters=\", Float16(1)) : nothing\n",
    "                   x = nu*X                  \n",
    "                   S = sin(x)\n",
    "                   G1 = S*nuinv\n",
    "                   sinxz2 = sin(x/2)\n",
    "                   W = 2*sinxz2*sinxz2\n",
    "                   G0 = 1 - W        #G0 = cos(x)   \n",
    "                   G2 = W*betainv\n",
    "                   r = r0 + eta*G1 + zeta*G2\n",
    "                   return  (X, G0, G1, G2, r, 0)\n",
    "               end \n",
    "               a2 = eta*G0 + zeta*G1\n",
    "               a3 = -beta*eta*G1 + zeta*G0\n",
    "               c = -a2/a3\n",
    "               c2 = c*c\n",
    "               p = 2*a1/a3 - c2\n",
    "               q = -3*a0/a3 - c * (1.5*p + 0.5*c2)\n",
    "               # x^3 + 3*p*x - 2*q = 0\n",
    "               pb3 = p^3\n",
    "               diskr = q^2 + pb3\n",
    "               lag1 = sqrt(diskr)\n",
    "               (q>0) ? lag2 = q + lag1 : lag2 = q - lag1\n",
    "               lag3 = -pb3/lag2\n",
    "               x = cbrt(lag2) + cbrt(lag3)\n",
    "               X += c + x \n",
    "               trace ? \n",
    "                  println(\"Starting guess (exact zero of cubic polynomial) \n",
    "                    : X0 = \", Float64(X)) : nothing \n",
    "           end\n",
    "           x = nu*X\n",
    "           G0 = cos(x)\n",
    "           G1 = sin(x)*nuinv\n",
    "           G2 = (1-G0)*betainv\n",
    "           G3 = (X - G1)*betainv\n",
    "           F0 = r0*X + eta*G2 + zeta*G3 - t\n",
    "           F0d = r0 + eta*G1 + zeta*G2\n",
    "           dX = -F0/F0d  \n",
    "           tau = dX/F0d  \n",
    "           i0 = 1\n",
    "     end \n",
    "    # At this point, we have good starting values for (X, G0, G1, G2, G3)       \n",
    "    i0 += 1\n",
    "    for i in i0:imax\n",
    "         erraux = abs(om*tau*dX)  \n",
    "         errX =  0.52*erraux # Error bound for Newton approximation,\n",
    "                             # under the assumption that alpha0<0.0324\n",
    "         Xmin = X - errX\n",
    "         Xmax = X + errX\n",
    "         if (Xmin==Xmax)\n",
    "           X += dX\n",
    "           trace ? println(\"i= \", 3i-1, \", X=\",Float64(X), \", dX=\", Float64(dX), \n",
    "                      \", errX=\", Float64(errX)) : nothing\n",
    "           trace ? println(\"Success: E=\", Float64(E0 + sqrt(beta)*X),\n",
    "                           \", X=\",Float64(X), \", errX=\", Float64(errX),\n",
    "                           \", iters=\", Float16((3i-1)/3)) : nothing\n",
    "           x = nu*X \n",
    "           S = sin(x)\n",
    "           G1 = S*nuinv\n",
    "           sinxz2 = sin(x/2)\n",
    "           W = 2*sinxz2*sinxz2\n",
    "           G0 = 1 - W        #G0 = cos(x)   \n",
    "           G2 = W*betainv\n",
    "           r = r0 + eta*G1 + zeta*G2\n",
    "           return  (X, G0, G1, G2, r, 3*i-1)\n",
    "         end \n",
    "         F0dd = 0.5*(eta*G0 + zeta*G1)\n",
    "         dX /= 1 + tau * F0dd\n",
    "         errX = abs(Coeff*erraux*dX/F0d)     # Error bound for quartic approximation,\n",
    "                                  # under the assumption that alpha0<0.0324 \n",
    "         X += dX\n",
    "         trace ? println(\"i= \", 3i, \", X=\",Float64(X), \", dX=\", Float64(dX), \n",
    "                      \", errX=\", Float64(errX)) : nothing\n",
    "         Xmin = X - errX\n",
    "         Xmax = X + errX\n",
    "         if (Xmin==Xmax)\n",
    "           trace ? println(\"Success: E=\", Float64(E0 + sqrt(beta)*X),\n",
    "                           \", X=\",Float64(X), \", errX=\", Float64(errX),\n",
    "                           \", iters=\", Float16(i)) : nothing\n",
    "           x = nu*X \n",
    "           S = sin(x)\n",
    "           G1 = S*nuinv\n",
    "           sinxz2 = sin(x/2)\n",
    "           W = 2*sinxz2*sinxz2\n",
    "           G0 = 1 - W        #G0 = cos(x)   \n",
    "           G2 = W*betainv\n",
    "           r = r0 + eta*G1 + zeta*G2\n",
    "           return  (X, G0, G1, G2, r, 3*i)\n",
    "         end         \n",
    "         x = nu*X \n",
    "         S = sin(x)\n",
    "         G1 = S*nuinv\n",
    "         sinxz2 = sin(x/2)\n",
    "         W = 2*sinxz2*sinxz2\n",
    "         G0 = 1 - W        #G0 = cos(x)   \n",
    "         G2 = W*betainv\n",
    "         G3 = (X - G1)*betainv\n",
    "         F0 = r0*X + eta*G2 + zeta*G3 - t\n",
    "         F0d = r0 + eta*G1 + zeta*G2\n",
    "         dX = -F0/F0d  \n",
    "         tau = dX/F0d \n",
    "      end  \n",
    "   trace ? println(\"Failure: E=?\", \", E0=\",Float32(E0), \", e=\", Float32(e)) : nothing\n",
    "   r = r0 + eta*G1 + zeta*G2\n",
    "   return  (X, G0, G1, G2, r, 3*imax)    \n",
    "end  \n"
   ]
  },
  {
   "cell_type": "markdown",
   "metadata": {
    "collapsed": true
   },
   "source": [
    "## Test for Kepler Solve"
   ]
  },
  {
   "cell_type": "code",
   "execution_count": 13,
   "metadata": {
    "collapsed": false
   },
   "outputs": [
    {
     "data": {
      "text/plain": [
       "KeplerError (generic function with 2 methods)"
      ]
     },
     "execution_count": 13,
     "metadata": {},
     "output_type": "execute_result"
    }
   ],
   "source": [
    "function KeplerError(e::Float64, E::Float64, E0::Float64, trace = false)\n",
    "    k = 1.\n",
    "    beta = 1.\n",
    "    zeta = e*cos(E0)\n",
    "    eta = e*sin(E0)\n",
    "    r0 = 1 - zeta\n",
    "    M0 = E0 - eta\n",
    "    M = E - e*sin(E)\n",
    "    t = M-M0 \n",
    "    trace ? println(\"M-M0 = t = \", t, \", r0 = \",Float64(r0),\n",
    "                   \", eta = \", Float64(eta), \n",
    "                      \", zeta = \", Float64(zeta)) : nothing\n",
    "    (X, G0, G1, G2, r, i) = \n",
    "#    KeplerSolve(r0, eta, zeta, beta, k, t, trace)\n",
    "    CKeplerSolveV2(r0, eta, zeta, beta, k, t)\n",
    "        \n",
    "    iszero(r0) ? alpha = one(r0) : alpha = k/r0\n",
    "    iszero(r) ? rinv = one(r0) : rinv = 1/r\n",
    "    b11 = -alpha*G2\n",
    "    b12 = r0*G1 + eta*G2\n",
    "    b21 = -alpha*G1*rinv\n",
    "    b22 = -k*G2*rinv\n",
    "    trace ? println(\"b11 = \", b11, \", b12 = \",b12,\n",
    "                   \", b21 = \", b21, \n",
    "                      \", b22 = \", b22) : nothing\n",
    "    # Repeat calculations with BigFloat\n",
    "    K = BigFloat(1)\n",
    "    Beta = BigFloat(1)\n",
    "    Zeta = BigFloat(zeta)\n",
    "    Eta = BigFloat(eta)\n",
    "    R0 = BigFloat(r0)\n",
    "    (XX, GG0, GG1, GG2, R, I) = \n",
    "    KeplerSolve(R0, Eta, Zeta, Beta, K, BigFloat(t), trace)\n",
    "    iszero(R0) ? Alpha = one(R0) : Alpha = K/R0\n",
    "    iszero(R) ? Rinv = one(R0) : Rinv = 1/R\n",
    "    B11 = Float64(-Alpha*GG2)\n",
    "    B12 = Float64(R0*GG1 + Eta*GG2)\n",
    "    B21 = Float64(-Alpha*GG1*Rinv)\n",
    "    B22 = Float64(-K*GG2*Rinv)\n",
    "#   return (i/3, I/3, abs(b11-B11),abs(b12-B12),abs(b21-B21),abs(b22-B22))\n",
    "    return (i/3, I/3, \n",
    "           abs(b11-B11)/(1 + abs(B11)), abs(b12-B12)/(1 + abs(B12)),\n",
    "           abs(b21-B21)/(1 + abs(B21)), abs(b22-B22)/(1 + abs(B22))) \n",
    "end"
   ]
  },
  {
   "cell_type": "code",
   "execution_count": 14,
   "metadata": {
    "collapsed": false
   },
   "outputs": [
    {
     "name": "stdout",
     "output_type": "stream",
     "text": [
      "M-M0 = t = -2.862842067728265, r0 = 1.890993246940401, eta = 0.1270080072538805, zeta = -0.8909932469404009\n",
      "b11 = -1.042287257418064, b12 = -0.20209139694224648, b21 = 1.210765507698956, b22 = -18.861520308880923\n",
      "M=0.010149925, E0=3.0, e=0.9\n",
      "Cubic polynomial centered at X = -2.9898500749821455\n",
      "Starting guess (exact zero of cubic polynomial) \n",
      "                    : X0 = -2.9000006574936865\n",
      "i= 6, X=-2.9000000000000004, dX=6.574936859059854e-7, errX=1.9444405826823413e-17\n",
      "i= 9, X=-2.9000000000000004, dX=-3.534319915765734e-19, errX=3.0202073101618866e-54\n",
      "i= 11, X=-2.9000000000000004, dX=5.489690448221407e-56, errX=1.3497112098290152e-110\n",
      "Success: E=0.0999999999999995, X=-2.9000000000000004, errX=1.3497112098290152e-110, iters=3.666\n",
      "M=0.0101499, E0=3, e=0.9 \n",
      "Cubic polynomial centered at X =-2.98985\n",
      "Starting guess (exact zero of cubic polynomial): X0 =-2.9\n",
      " i=6, X=-2.9, dX=6.57494e-07, errX=1.94444e-17\n",
      "Success: E=0.1, X=-2.9, errX=1.94444e-17, iters=2\n"
     ]
    },
    {
     "data": {
      "text/plain": [
       "(0.0, 3.6666666666666665, 1.087234932884752e-16, 2.0780464877801777e-16, 5.021894093963479e-16, 1.6098678556297296e-15)"
      ]
     },
     "execution_count": 14,
     "metadata": {},
     "output_type": "execute_result"
    }
   ],
   "source": [
    "KeplerError(0.9, 0.1, 3., true)"
   ]
  },
  {
   "cell_type": "code",
   "execution_count": 15,
   "metadata": {
    "collapsed": false
   },
   "outputs": [
    {
     "name": "stdout",
     "output_type": "stream",
     "text": [
      "M-M0 = t = -0.0010496042286880086, r0 = 0.10543951183897282, eta = 0.09880047075345733, zeta = 0.8945604881610272\n",
      "b11 = -0.00047420158214580535, b12 = -0.0010494375628546746, b21 = 0.9075878316933988, b22 = -0.00047848207698100633\n",
      "M=0.010149925, E0=0.11, e=0.9\n",
      "Cubic polynomial centered at X = -0.00995456267182803\n",
      "Starting guess (exact zero of cubic polynomial) \n",
      "                    : X0 = -0.009999999999999995\n",
      "i= 6, X=-0.009999999999999995, dX=1.5276186261064074e-19, errX=2.4387316560490895e-55\n",
      "i= 8, X=-0.009999999999999995, dX=-4.4327691787721164e-57, errX=8.800257447707198e-113\n",
      "Success: E=0.1, X=-0.009999999999999995, errX=8.800257447707198e-113, iters=2.666\n",
      "M=0.0101499, E0=0.11, e=0.9 \n",
      "Cubic polynomial centered at X =-0.00995456\n",
      "Starting guess (exact zero of cubic polynomial): X0 =-0.01\n",
      " i=5, X=-0.01, dX=-3.32016e-17, errX=4.93701e-33\n",
      "Success: E=0.1, X=-0.01, errX=4.93701e-33, iters=1\n"
     ]
    },
    {
     "data": {
      "text/plain": [
       "(0.0, 2.6666666666666665, 1.083688285785832e-18, 1.2996786753610402e-18, 5.820036205827508e-16, 1.0836836492822056e-18)"
      ]
     },
     "execution_count": 15,
     "metadata": {},
     "output_type": "execute_result"
    }
   ],
   "source": [
    "KeplerError(0.9, 0.1, 0.11, true)"
   ]
  },
  {
   "cell_type": "code",
   "execution_count": 16,
   "metadata": {
    "collapsed": false
   },
   "outputs": [
    {
     "name": "stdout",
     "output_type": "stream",
     "text": [
      "M-M0 = t = -2.8977292374722827, r0 = 1.0544495873130244, eta = 0.007761600443292696, zeta = -0.054449587313024496\n",
      "b11 = -1.8691819778430914, b12 = -0.23697856668626524, b21 = 0.24003072714341095, b22 = -2.085063756914606\n",
      "M=0.09450916, E0=3.0, e=0.055\n",
      "Cubic polynomial centered at X = -2.7480965162652784\n",
      "Starting guess (approx. zero of cubic polynomial\n",
      "                       : X0 = -2.900000283527188\n",
      "i= 6, X=-2.9000000000000004, dX=2.835271875638882e-7, errX=1.164417650938702e-21\n",
      "i= 9, X=-2.9000000000000004, dX=-2.197265695745837e-22, errX=5.4196641479578115e-67\n",
      "i= 11, X=-2.9000000000000004, dX=1.0226950659402318e-67, errX=3.1644649344771526e-136\n",
      "Success: E=0.09999999999999987, X=-2.9000000000000004, errX=3.1644649344771526e-136, iters=3.666\n",
      "M=0.0945092, E0=3, e=0.055 \n",
      "Cubic polynomial centered at X =-2.7481\n",
      "Starting guess (approx. zero of cubic polynomial): X0 =-2.9\n",
      "i=6, X=-2.9, dX=2.83527e-07, errX=1.16442e-21\n",
      "Success: E=0.1, X=-2.9, errX=1.16442e-21, iters=2\n"
     ]
    },
    {
     "data": {
      "text/plain": [
       "(0.0, 3.6666666666666665, 7.738951611983615e-17, 1.7950562031148637e-16, 1.7906379258564261e-16, 1.4394814656738223e-16)"
      ]
     },
     "execution_count": 16,
     "metadata": {},
     "output_type": "execute_result"
    }
   ],
   "source": [
    "# gehitutako test berriak\n",
    "KeplerError(0.055, 0.1, 3., true)"
   ]
  },
  {
   "cell_type": "code",
   "execution_count": 17,
   "metadata": {
    "collapsed": false
   },
   "outputs": [
    {
     "name": "stdout",
     "output_type": "stream",
     "text": [
      "M-M0 = t = -0.00945303136953092, r0 = 0.9453324146123817, eta = 0.006037806546044615, zeta = 0.054667585387618324\n",
      "b11 = -5.289100697475143e-5, b12 = -0.009452864703697586, b21 = 0.011190516840881069, b22 = -5.2894232315756996e-5\n",
      "M=0.09450916, E0=0.11, e=0.055\n",
      "Starting guess: X0 = 0.0\n",
      "i= 3, X=-0.010000009631189242, dX=-0.010000009631189242, errX=5.1079330867579845e-8\n",
      "i= 6, X=-0.009999999999999985, dX=9.631189256144553e-9, errX=4.564197188854388e-26\n",
      "i= 9, X=-0.009999999999999985, dX=-8.612677501668648e-27, errX=3.2639177398555757e-80\n",
      "Success: E=0.10000000000000002, X=-0.009999999999999985, errX=3.2639177398555757e-80, iters=3.0\n",
      "M=0.0945092, E0=0.11, e=0.055 \n",
      "Starting guess: X0 =0\n",
      "i=3, X=-0.01, dX=-0.01, errX=5.10793e-08\n",
      "i=6, X=-0.01, dX=9.63119e-09, errX=4.5642e-26\n",
      "Success: E=0.1, X=-0.01, errX=4.5642e-26, iters=2\n"
     ]
    },
    {
     "data": {
      "text/plain": [
       "(0.0, 3.0, 2.0327715580756643e-20, 1.7184789271820003e-18, 1.7155258550054024e-18, 2.7103620686928402e-20)"
      ]
     },
     "execution_count": 17,
     "metadata": {},
     "output_type": "execute_result"
    }
   ],
   "source": [
    "# gehitutako test berriak\n",
    "KeplerError(0.055, 0.1, 0.11, true)"
   ]
  },
  {
   "cell_type": "code",
   "execution_count": 18,
   "metadata": {
    "collapsed": false
   },
   "outputs": [
    {
     "name": "stdout",
     "output_type": "stream",
     "text": [
      "M-M0 = t = -0.09456402472184718, r0 = 0.9460963382187317, eta = 0.010926813193728367, zeta = 0.05390366178126829\n",
      "b11 = -0.005280471470146655, b12 = -0.09439744136867532, b21 = 0.11163040643947013, b22 = -0.005285060889931896\n",
      "M=0.09450916, E0=0.2, e=0.055\n",
      "Cubic polynomial centered at X = -0.09995179233003705\n",
      "Starting guess (approx. zero of cubic polynomial\n",
      "                       : X0 = -0.09999999999999999\n",
      "i= 6, X=-0.09999999999999999, dX=1.3076778853058144e-21, errX=1.1424231260298054e-64\n",
      "i= 8, X=-0.09999999999999999, dX=-2.1557618000887145e-65, errX=1.4060783143458857e-131\n",
      "Success: E=0.1, X=-0.09999999999999999, errX=1.4060783143458857e-131, iters=2.666\n",
      "M=0.0945092, E0=0.2, e=0.055 \n",
      "Cubic polynomial centered at X =-0.0999518\n",
      "Starting guess (approx. zero of cubic polynomial): X0 =-0.1\n",
      "i=5, X=-0.1, dX=-1.46812e-17, errX=6.52127e-36\n",
      "Success: E=0.1, X=-0.1, errX=6.52127e-36, iters=1\n"
     ]
    },
    {
     "data": {
      "text/plain": [
       "(0.0, 2.6666666666666665, 8.628057170154242e-19, 0.0, 1.2484174350956027e-17, 8.62801778055439e-19)"
      ]
     },
     "execution_count": 18,
     "metadata": {},
     "output_type": "execute_result"
    }
   ],
   "source": [
    "KeplerError(0.055, 0.1, 0.2, true)"
   ]
  },
  {
   "cell_type": "code",
   "execution_count": 20,
   "metadata": {
    "collapsed": false
   },
   "outputs": [
    {
     "name": "stdout",
     "output_type": "stream",
     "text": [
      "M-M0 = t = -9.452750455427039e-5, r0 = 0.9452753202671254, eta = 0.005496310411021267, zeta = 0.054724679732874634\n",
      "b11 = -5.2894642318803284e-9, b12 = -9.452750438760373e-5, b21 = 0.00011191379248136717, b22 = -5.289467305913928e-9\n",
      "M=0.09450916, E0=0.1001, e=0.055\n",
      "Starting guess: X0 = 0.0\n",
      "i= 3, X=-0.00010000000000962886, dX=-0.00010000000000962886, errX=5.1088586971410925e-14\n",
      "i= 6, X=-9.999999999998847e-5, dX=9.640385582185322e-15, errX=4.577284025784892e-44\n",
      "i= 8, X=-9.999999999998847e-5, dX=-8.637372463944793e-45, errX=2.2572063423005317e-90\n",
      "Success: E=0.1, X=-9.999999999998847e-5, errX=2.2572063423005317e-90, iters=2.666\n",
      "M=0.0945092, E0=0.1001, e=0.055 \n",
      "Starting guess: X0 =0\n",
      "i=3, X=-0.0001, dX=-0.0001, errX=5.10886e-14\n",
      "i=5, X=-0.0001, dX=9.64039e-15, errX=2.81188e-30\n",
      "Success: E=0.1, X=-0.0001, errX=2.81188e-30, iters=1\n"
     ]
    },
    {
     "data": {
      "text/plain": [
       "(0.0, 2.6666666666666665, 8.271806081776854e-25, 0.0, 1.3551010611079363e-20, 8.271806081776829e-25)"
      ]
     },
     "execution_count": 20,
     "metadata": {},
     "output_type": "execute_result"
    }
   ],
   "source": [
    "KeplerError(0.055, 0.1, 0.1001, true)"
   ]
  },
  {
   "cell_type": "code",
   "execution_count": null,
   "metadata": {
    "collapsed": true
   },
   "outputs": [],
   "source": []
  }
 ],
 "metadata": {
  "anaconda-cloud": {},
  "kernelspec": {
   "display_name": "Julia 1.1.0",
   "language": "julia",
   "name": "julia-1.1"
  },
  "language_info": {
   "file_extension": ".jl",
   "mimetype": "application/julia",
   "name": "julia",
   "version": "1.1.0"
  }
 },
 "nbformat": 4,
 "nbformat_minor": 1
}

{
 "cells": [
  {
   "cell_type": "code",
   "execution_count": 1,
   "metadata": {
    "collapsed": false
   },
   "outputs": [
    {
     "name": "stderr",
     "output_type": "stream",
     "text": [
      "WARNING: Method definition midpoints(Base.Range{T} where T) in module Base at deprecated.jl:56 overwritten in module StatsBase at /home/joseba/.julia/v0.6/StatsBase/src/hist.jl:535.\n",
      "WARNING: Method definition midpoints(AbstractArray{T, 1} where T) in module Base at deprecated.jl:56 overwritten in module StatsBase at /home/joseba/.julia/v0.6/StatsBase/src/hist.jl:533.\n"
     ]
    }
   ],
   "source": [
    "#Pkg.add(\"NBInclude\")\n",
    "using NBInclude;\n",
    "using Plots; # warning ???\n",
    "nbinclude(\"../MyPackages/AldagaiAldaketak.ipynb\");\n",
    "nbinclude(\"../MyPackages/NBodyProblem.ipynb\");\n",
    "nbinclude(\"../MyPackages/N16BodyProblem.ipynb\");\n",
    "nbinclude(\"../MyPackages/MyFunctions.ipynb\");\n",
    "nbinclude(\"../MyPackages/MyFunctions2.ipynb\");"
   ]
  },
  {
   "cell_type": "code",
   "execution_count": 2,
   "metadata": {
    "collapsed": false
   },
   "outputs": [
    {
     "data": {
      "text/plain": [
       "2-element Array{DataType,1}:\n",
       " Array{Quadmath.Float128,1}\n",
       " Array{Quadmath.Float128,1}"
      ]
     },
     "execution_count": 2,
     "metadata": {},
     "output_type": "execute_result"
    }
   ],
   "source": [
    "(nbody,u0,Gm,iE,iM)= N16_Cartesian();\n",
    "pint=[0,1]; #orderplanets izango litzatekeena\n",
    "[typeof(u0),typeof(Gm)]"
   ]
  },
  {
   "cell_type": "code",
   "execution_count": 3,
   "metadata": {
    "collapsed": false
   },
   "outputs": [
    {
     "data": {
      "text/plain": [
       "5-element Array{Any,1}:\n",
       " 16     \n",
       "   (96,)\n",
       "   (16,)\n",
       " 15     \n",
       " 16     "
      ]
     },
     "execution_count": 3,
     "metadata": {},
     "output_type": "execute_result"
    }
   ],
   "source": [
    "[nbody, size(u0),size(Gm),iE,iM]"
   ]
  },
  {
   "cell_type": "code",
   "execution_count": 4,
   "metadata": {
    "collapsed": false
   },
   "outputs": [],
   "source": [
    "dim=3;\n",
    "neq=nbody*2*dim;\n",
    "d = Int(neq/2);\n",
    "qq=u0[1:d];\n",
    "vv=u0[d+1:neq];"
   ]
  },
  {
   "cell_type": "code",
   "execution_count": 5,
   "metadata": {
    "collapsed": false
   },
   "outputs": [],
   "source": [
    "QQ=AldagaiAldaketaQ(qq,Gm);\n",
    "VV=AldagaiAldaketaV(vv,Gm);"
   ]
  },
  {
   "cell_type": "code",
   "execution_count": 6,
   "metadata": {
    "collapsed": false
   },
   "outputs": [
    {
     "data": {
      "text/plain": [
       "5-element Array{DataType,1}:\n",
       " Array{Quadmath.Float128,1}\n",
       " Array{Quadmath.Float128,1}\n",
       " Array{Quadmath.Float128,1}\n",
       " Array{Quadmath.Float128,1}\n",
       " Array{Quadmath.Float128,1}"
      ]
     },
     "execution_count": 6,
     "metadata": {},
     "output_type": "execute_result"
    }
   ],
   "source": [
    "[typeof(qq),typeof(vv),typeof(Gm),typeof(QQ),typeof(VV)]"
   ]
  },
  {
   "cell_type": "code",
   "execution_count": 7,
   "metadata": {
    "collapsed": false
   },
   "outputs": [],
   "source": [
    "#norm(QQ)\n",
    "# Mathematica: 49.17522409046467342142027133648301"
   ]
  },
  {
   "cell_type": "code",
   "execution_count": 8,
   "metadata": {
    "collapsed": false
   },
   "outputs": [],
   "source": [
    "#norm(VV)\n",
    "# Mathematica: 0.04938222172761212722728166903566"
   ]
  },
  {
   "cell_type": "code",
   "execution_count": 9,
   "metadata": {
    "collapsed": false
   },
   "outputs": [],
   "source": [
    "#[QQ[1:3],VV[1:3]]"
   ]
  },
  {
   "cell_type": "code",
   "execution_count": 10,
   "metadata": {
    "collapsed": false
   },
   "outputs": [
    {
     "data": {
      "text/plain": [
       "Array{Quadmath.Float128,1}"
      ]
     },
     "execution_count": 10,
     "metadata": {},
     "output_type": "execute_result"
    }
   ],
   "source": [
    "U0=vcat(QQ[4:end],VV[4:end]);\n",
    "typeof(U0)"
   ]
  },
  {
   "cell_type": "code",
   "execution_count": 11,
   "metadata": {
    "collapsed": false
   },
   "outputs": [],
   "source": [
    "# Problemaren parametroak\n",
    "#strrpar=map(x->string(x),Gm);   # Real128????\n",
    "strrpar=Gm;\n",
    "neq=size(U0)[1];\n",
    "W0=vcat(U0,0.);\n",
    "#stru0=map(x->string(x),W0);\n",
    "stru0=W0;\n",
    "neqw=size(W0)[1];"
   ]
  },
  {
   "cell_type": "code",
   "execution_count": 12,
   "metadata": {
    "collapsed": false
   },
   "outputs": [],
   "source": [
    "#Integration parameters\n",
    "ns=[16,16,16];\n",
    "h=[2.5];\n",
    "t0=0.;\n",
    "tend=10000.;\n",
    "tend=50.;"
   ]
  },
  {
   "cell_type": "code",
   "execution_count": 13,
   "metadata": {
    "collapsed": false
   },
   "outputs": [],
   "source": [
    "#Integration parameters\n",
    "n=round((tend-t0)/h[1]);\n",
    "hh=(tend-t0)/n;\n",
    "nout=500;\n",
    "nout=10;\n",
    "sampling0=Integer(round((tend-t0)/(nout*hh)));    # Integer ????\n",
    "#Integer(round(2.5))\n",
    "h0=(tend-t0)/(nout*sampling0);\n",
    "#\n",
    "nstep0=(tend-t0)/h0;\n",
    "nout0=nstep0/sampling0;"
   ]
  },
  {
   "cell_type": "code",
   "execution_count": 14,
   "metadata": {
    "collapsed": false
   },
   "outputs": [
    {
     "data": {
      "text/plain": [
       "1×5 RowVector{Float64,Array{Float64,1}}:\n",
       " 2.5  50.0  20.0  10.0  2.0"
      ]
     },
     "execution_count": 14,
     "metadata": {},
     "output_type": "execute_result"
    }
   ],
   "source": [
    "#Integration parameters\n",
    "transpose([h0, tend,nstep0,nout0,sampling0])"
   ]
  },
  {
   "cell_type": "code",
   "execution_count": 15,
   "metadata": {
    "collapsed": false
   },
   "outputs": [
    {
     "data": {
      "text/plain": [
       "3-element Array{DataType,1}:\n",
       " Array{Quadmath.Float128,1}\n",
       " Array{Quadmath.Float128,1}\n",
       " Array{Int64,1}            "
      ]
     },
     "execution_count": 15,
     "metadata": {},
     "output_type": "execute_result"
    }
   ],
   "source": [
    "[typeof(stru0),typeof(strrpar),typeof(pint)]"
   ]
  },
  {
   "cell_type": "code",
   "execution_count": 16,
   "metadata": {
    "collapsed": true
   },
   "outputs": [],
   "source": [
    "#Execute integrations\n",
    "FPit=[0,0,0];     # 0: General Iteration;  1: Partitioned Iteration\n",
    "Approx=[0,0,0];   # Stage Initialization:  0: Default; 1: Interpolated\n",
    "Codfun=[51,52,53]; # 51: IRK ;  52: FCIRK-LL ;  53: FCIRK-QL\n",
    "rdigits=0;"
   ]
  },
  {
   "cell_type": "code",
   "execution_count": 17,
   "metadata": {
    "collapsed": true
   },
   "outputs": [],
   "source": [
    "file=\"./soltemp.bin\";\n",
    "threads=1;\n",
    "rdigits=0;"
   ]
  },
  {
   "cell_type": "code",
   "execution_count": 18,
   "metadata": {
    "collapsed": false
   },
   "outputs": [],
   "source": [
    "nbyte=8; #number of bytes for Float128 number\n",
    "ulen=size(stru0)[1]*nbyte;\n",
    "rlen=size(strrpar)[1]*nbyte;\n",
    "ulen=1456;\n",
    "rlen=256;\n",
    "[ulen,rlen];\n",
    "#C inplementazioan: ulen=1456 (91*16), rlen=256 (11*16)"
   ]
  },
  {
   "cell_type": "code",
   "execution_count": 19,
   "metadata": {
    "collapsed": false
   },
   "outputs": [
    {
     "data": {
      "text/plain": [
       "4-element Array{Float64,1}:\n",
       " 0.000295912\n",
       " 4.91248e-11\n",
       " 7.24345e-10\n",
       " 9.54955e-11"
      ]
     },
     "execution_count": 19,
     "metadata": {},
     "output_type": "execute_result"
    }
   ],
   "source": [
    "#Float128\n",
    "rr=longIRKFPV1(neqw,ns[1],t0,tend,\n",
    "             stru0,rlen,\n",
    "             h0,\n",
    "             strrpar,rlen, \n",
    "             pint,size(pint)[1],\n",
    "             Approx[1], threads, FPit[1],\n",
    "             rdigits,\n",
    "             file,sampling0, Codfun[1])"
   ]
  },
  {
   "cell_type": "code",
   "execution_count": 20,
   "metadata": {
    "collapsed": false
   },
   "outputs": [
    {
     "data": {
      "text/plain": [
       "16-element Array{Quadmath.Float128,1}:\n",
       " 2.95912208285591094535094125461682779e-04\n",
       " 4.91248045036476001616612322351170189e-11\n",
       " 7.24345233264411972225685359830574250e-10\n",
       " 9.54954869555077050714986040718984701e-11\n",
       " 2.82534584083386987170364310420489495e-07\n",
       " 8.45970607324503062660173190526191611e-08\n",
       " 1.29202482578296001107172024237150498e-08\n",
       " 1.52435734788511014612723688506704112e-08\n",
       " 2.17844105197417998185942118596069992e-12\n",
       " 1.40047655617234401480551650291512255e-13\n",
       " 3.10444819893871327444541836869399545e-14\n",
       " 3.85475018780881030760139343346276502e-14\n",
       " 2.13643444257140717310825633297810423e-15\n",
       " 1.38862658985619900664639905217129956e-15\n",
       " 8.88769244512563423662814169972333500e-10\n",
       " 1.09318945074237403676893164725619876e-11"
      ]
     },
     "execution_count": 20,
     "metadata": {},
     "output_type": "execute_result"
    },
    {
     "name": "stderr",
     "output_type": "stream",
     "text": [
      "\u001b[1m\u001b[33mWARNING: \u001b[39m\u001b[22m\u001b[33mArray(::Type{T}, m::Int) where T is deprecated, use Array{T}(m) instead.\u001b[39m\n",
      "Stacktrace:\n",
      " [1] \u001b[1mdepwarn\u001b[22m\u001b[22m\u001b[1m(\u001b[22m\u001b[22m::String, ::Symbol\u001b[1m)\u001b[22m\u001b[22m at \u001b[1m./deprecated.jl:70\u001b[22m\u001b[22m\n",
      " [2] \u001b[1mArray\u001b[22m\u001b[22m\u001b[1m(\u001b[22m\u001b[22m::Type{UInt8}, ::Int64\u001b[1m)\u001b[22m\u001b[22m at \u001b[1m./deprecated.jl:57\u001b[22m\u001b[22m\n",
      " [3] \u001b[1mstring\u001b[22m\u001b[22m\u001b[1m(\u001b[22m\u001b[22m::Quadmath.Float128\u001b[1m)\u001b[22m\u001b[22m at \u001b[1m/home/joseba/.julia/v0.6/Quadmath/src/Quadmath.jl:201\u001b[22m\u001b[22m\n",
      " [4] \u001b[1mshow\u001b[22m\u001b[22m\u001b[1m(\u001b[22m\u001b[22m::IOContext{Base.AbstractIOBuffer{Array{UInt8,1}}}, ::Quadmath.Float128\u001b[1m)\u001b[22m\u001b[22m at \u001b[1m/home/joseba/.julia/v0.6/Quadmath/src/Quadmath.jl:207\u001b[22m\u001b[22m\n",
      " [5] \u001b[1m#sprint#228\u001b[22m\u001b[22m\u001b[1m(\u001b[22m\u001b[22m::IOContext{Base.AbstractIOBuffer{Array{UInt8,1}}}, ::Function, ::Int64, ::Function, ::Quadmath.Float128, ::Vararg{Quadmath.Float128,N} where N\u001b[1m)\u001b[22m\u001b[22m at \u001b[1m./strings/io.jl:64\u001b[22m\u001b[22m\n",
      " [6] \u001b[1m(::Base.#kw##sprint)\u001b[22m\u001b[22m\u001b[1m(\u001b[22m\u001b[22m::Array{Any,1}, ::Base.#sprint, ::Int64, ::Function, ::Quadmath.Float128, ::Vararg{Quadmath.Float128,N} where N\u001b[1m)\u001b[22m\u001b[22m at \u001b[1m./<missing>:0\u001b[22m\u001b[22m\n",
      " [7] \u001b[1malignment\u001b[22m\u001b[22m\u001b[1m(\u001b[22m\u001b[22m::IOContext{Base.AbstractIOBuffer{Array{UInt8,1}}}, ::Quadmath.Float128\u001b[1m)\u001b[22m\u001b[22m at \u001b[1m./show.jl:1316\u001b[22m\u001b[22m\n",
      " [8] \u001b[1malignment\u001b[22m\u001b[22m\u001b[1m(\u001b[22m\u001b[22m::IOContext{Base.AbstractIOBuffer{Array{UInt8,1}}}, ::Array{Quadmath.Float128,1}, ::Base.OneTo{Int64}, ::Base.OneTo{Int64}, ::Int64, ::Int64, ::Int64\u001b[1m)\u001b[22m\u001b[22m at \u001b[1m./show.jl:1354\u001b[22m\u001b[22m\n",
      " [9] \u001b[1mprint_matrix\u001b[22m\u001b[22m\u001b[1m(\u001b[22m\u001b[22m::IOContext{Base.AbstractIOBuffer{Array{UInt8,1}}}, ::Array{Quadmath.Float128,1}, ::String, ::String, ::String, ::String, ::String, ::String, ::Int64, ::Int64\u001b[1m)\u001b[22m\u001b[22m at \u001b[1m./show.jl:1482\u001b[22m\u001b[22m\n",
      " [10] \u001b[1mprint_matrix\u001b[22m\u001b[22m\u001b[1m(\u001b[22m\u001b[22m::IOContext{Base.AbstractIOBuffer{Array{UInt8,1}}}, ::Array{Quadmath.Float128,1}, ::String, ::String, ::String\u001b[1m)\u001b[22m\u001b[22m at \u001b[1m./show.jl:1455\u001b[22m\u001b[22m\n",
      " [11] \u001b[1m#showarray#263\u001b[22m\u001b[22m\u001b[1m(\u001b[22m\u001b[22m::Bool, ::Function, ::IOContext{Base.AbstractIOBuffer{Array{UInt8,1}}}, ::Array{Quadmath.Float128,1}, ::Bool\u001b[1m)\u001b[22m\u001b[22m at \u001b[1m./show.jl:1704\u001b[22m\u001b[22m\n",
      " [12] \u001b[1mlimitstringmime\u001b[22m\u001b[22m\u001b[1m(\u001b[22m\u001b[22m::MIME{Symbol(\"text/plain\")}, ::Array{Quadmath.Float128,1}\u001b[1m)\u001b[22m\u001b[22m at \u001b[1m/home/joseba/.julia/v0.6/IJulia/src/inline.jl:24\u001b[22m\u001b[22m\n",
      " [13] \u001b[1mdisplay_dict\u001b[22m\u001b[22m\u001b[1m(\u001b[22m\u001b[22m::Array{Quadmath.Float128,1}\u001b[1m)\u001b[22m\u001b[22m at \u001b[1m/home/joseba/.julia/v0.6/IJulia/src/execute_request.jl:28\u001b[22m\u001b[22m\n",
      " [14] \u001b[1m(::Compat.#inner#17{Array{Any,1},IJulia.#display_dict,Tuple{Array{Quadmath.Float128,1}}})\u001b[22m\u001b[22m\u001b[1m(\u001b[22m\u001b[22m\u001b[1m)\u001b[22m\u001b[22m at \u001b[1m/home/joseba/.julia/v0.6/Compat/src/Compat.jl:488\u001b[22m\u001b[22m\n",
      " [15] \u001b[1mexecute_request\u001b[22m\u001b[22m\u001b[1m(\u001b[22m\u001b[22m::ZMQ.Socket, ::IJulia.Msg\u001b[1m)\u001b[22m\u001b[22m at \u001b[1m/home/joseba/.julia/v0.6/IJulia/src/execute_request.jl:186\u001b[22m\u001b[22m\n",
      " [16] \u001b[1m(::Compat.#inner#17{Array{Any,1},IJulia.#execute_request,Tuple{ZMQ.Socket,IJulia.Msg}})\u001b[22m\u001b[22m\u001b[1m(\u001b[22m\u001b[22m\u001b[1m)\u001b[22m\u001b[22m at \u001b[1m/home/joseba/.julia/v0.6/Compat/src/Compat.jl:488\u001b[22m\u001b[22m\n",
      " [17] \u001b[1meventloop\u001b[22m\u001b[22m\u001b[1m(\u001b[22m\u001b[22m::ZMQ.Socket\u001b[1m)\u001b[22m\u001b[22m at \u001b[1m/home/joseba/.julia/v0.6/IJulia/src/eventloop.jl:8\u001b[22m\u001b[22m\n",
      " [18] \u001b[1m(::IJulia.##14#17)\u001b[22m\u001b[22m\u001b[1m(\u001b[22m\u001b[22m\u001b[1m)\u001b[22m\u001b[22m at \u001b[1m./task.jl:335\u001b[22m\u001b[22m\n",
      "while loading /home/joseba/.julia/v0.6/IJulia/src/kernel.jl, in expression starting on line 31\n"
     ]
    }
   ],
   "source": [
    "strrpar"
   ]
  },
  {
   "cell_type": "code",
   "execution_count": 21,
   "metadata": {
    "collapsed": false
   },
   "outputs": [
    {
     "data": {
      "text/plain": [
       "1.41421356237309504880168872420969818e+00"
      ]
     },
     "execution_count": 21,
     "metadata": {},
     "output_type": "execute_result"
    }
   ],
   "source": [
    "x=sqrt(Float128(2))"
   ]
  },
  {
   "cell_type": "code",
   "execution_count": 22,
   "metadata": {
    "collapsed": false
   },
   "outputs": [
    {
     "data": {
      "text/plain": [
       "3.85185988877447170611195588516985464e-34"
      ]
     },
     "execution_count": 22,
     "metadata": {},
     "output_type": "execute_result"
    }
   ],
   "source": [
    "x^2-Float128(2)"
   ]
  },
  {
   "cell_type": "code",
   "execution_count": null,
   "metadata": {
    "collapsed": true
   },
   "outputs": [],
   "source": []
  }
 ],
 "metadata": {
  "anaconda-cloud": {},
  "kernelspec": {
   "display_name": "Julia 0.6.2",
   "language": "julia",
   "name": "julia-0.6"
  },
  "language_info": {
   "file_extension": ".jl",
   "mimetype": "application/julia",
   "name": "julia",
   "version": "0.6.2"
  }
 },
 "nbformat": 4,
 "nbformat_minor": 1
}

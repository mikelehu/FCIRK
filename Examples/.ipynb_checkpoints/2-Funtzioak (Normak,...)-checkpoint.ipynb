{
 "cells": [
  {
   "cell_type": "code",
   "execution_count": null,
   "metadata": {
    "collapsed": true
   },
   "outputs": [],
   "source": [
    "#Mathematica\n",
    "\n",
    "#NormList[u_] := Map[Norm, Partition[u, dim]];\n",
    "#ListRelDist[ulist1_, ulist2_] := \n",
    "#Transpose[Map[NormList, ulist1 - ulist2]/ Map[NormList, ulist2]]"
   ]
  },
  {
   "cell_type": "code",
   "execution_count": null,
   "metadata": {
    "collapsed": true
   },
   "outputs": [],
   "source": [
    "#dudak:\n",
    "# Partition? (reshape,...)\n",
    "# NormList ?"
   ]
  },
  {
   "cell_type": "code",
   "execution_count": 3,
   "metadata": {
    "collapsed": false
   },
   "outputs": [],
   "source": [
    "# Lehen hurbilketa\n",
    "NormList(u,dim)= map(x->norm(x),u);   "
   ]
  },
  {
   "cell_type": "code",
   "execution_count": 4,
   "metadata": {
    "collapsed": false
   },
   "outputs": [
    {
     "data": {
      "text/plain": [
       "2-element Array{Float64,1}:\n",
       "  3.74166\n",
       " 20.8327 "
      ]
     },
     "execution_count": 4,
     "metadata": {},
     "output_type": "execute_result"
    }
   ],
   "source": [
    "dim=3;\n",
    "u=[[1,2,3],[11,12,13]];\n",
    "NormList(u,dim)"
   ]
  },
  {
   "cell_type": "code",
   "execution_count": 5,
   "metadata": {
    "collapsed": true
   },
   "outputs": [],
   "source": [
    "u=[1,2,3,11,12,13,21,22,23];"
   ]
  },
  {
   "cell_type": "code",
   "execution_count": 6,
   "metadata": {
    "collapsed": false
   },
   "outputs": [
    {
     "data": {
      "text/plain": [
       "3×3 Array{Int64,2}:\n",
       "  1   2   3\n",
       " 11  12  13\n",
       " 21  22  23"
      ]
     },
     "execution_count": 6,
     "metadata": {},
     "output_type": "execute_result"
    }
   ],
   "source": [
    "# Bigarren hurbilketa\n",
    "#Partition???\n",
    "dim=3;\n",
    "u=[1,2,3,11,12,13,21,22,23];\n",
    "uu=transpose(reshape(u,3,:))"
   ]
  },
  {
   "cell_type": "code",
   "execution_count": 8,
   "metadata": {
    "collapsed": false
   },
   "outputs": [],
   "source": [
    "rows=2;\n",
    "u1=Vector{Vector{Float64}}(rows);"
   ]
  },
  {
   "cell_type": "code",
   "execution_count": 9,
   "metadata": {
    "collapsed": false
   },
   "outputs": [],
   "source": [
    "#NormList(u,dim)= map(x->norm(x),transpose(reshape(u,dim,:)));\n",
    "#NormList(u,dim)"
   ]
  },
  {
   "cell_type": "code",
   "execution_count": 12,
   "metadata": {
    "collapsed": false
   },
   "outputs": [],
   "source": [
    "#ListRelDist (ulist1, ulist2)=\n",
    "#transpose(map(x->nom(x), ulist1 - ulist2)/ map(x->nom(x), ulist2)) "
   ]
  },
  {
   "cell_type": "code",
   "execution_count": null,
   "metadata": {
    "collapsed": true
   },
   "outputs": [],
   "source": [
    "u=[[1,2,3],[11,12,13]];"
   ]
  }
 ],
 "metadata": {
  "anaconda-cloud": {},
  "kernelspec": {
   "display_name": "Julia 0.6.2",
   "language": "julia",
   "name": "julia-0.6"
  },
  "language_info": {
   "file_extension": ".jl",
   "mimetype": "application/julia",
   "name": "julia",
   "version": "0.6.2"
  }
 },
 "nbformat": 4,
 "nbformat_minor": 1
}

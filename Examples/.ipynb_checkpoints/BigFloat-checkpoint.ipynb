{
 "cells": [
  {
   "cell_type": "code",
   "execution_count": 1,
   "metadata": {
    "collapsed": false
   },
   "outputs": [
    {
     "data": {
      "text/plain": [
       "2.4595658764946068821333333333343e+19"
      ]
     },
     "execution_count": 1,
     "metadata": {},
     "output_type": "execute_result"
    }
   ],
   "source": [
    "setprecision(100)   #number of bit of sigfinicant\n",
    "BigFloat(2.0^66) / 3"
   ]
  },
  {
   "cell_type": "code",
   "execution_count": 2,
   "metadata": {
    "collapsed": false
   },
   "outputs": [
    {
     "ename": "LoadError",
     "evalue": "\u001b[91mMethodError: Cannot `convert` an object of type Array{Float64,1} to an object of type BigFloat\nThis may have arisen from a call to the constructor BigFloat(...),\nsince type constructors fall back to convert methods.\u001b[39m",
     "output_type": "error",
     "traceback": [
      "\u001b[91mMethodError: Cannot `convert` an object of type Array{Float64,1} to an object of type BigFloat\nThis may have arisen from a call to the constructor BigFloat(...),\nsince type constructors fall back to convert methods.\u001b[39m",
      "",
      "Stacktrace:",
      " [1] \u001b[1mBigFloat\u001b[22m\u001b[22m\u001b[1m(\u001b[22m\u001b[22m::Array{Float64,1}\u001b[1m)\u001b[22m\u001b[22m at \u001b[1m./sysimg.jl:77\u001b[22m\u001b[22m",
      " [2] \u001b[1minclude_string\u001b[22m\u001b[22m\u001b[1m(\u001b[22m\u001b[22m::String, ::String\u001b[1m)\u001b[22m\u001b[22m at \u001b[1m./loading.jl:522\u001b[22m\u001b[22m"
     ]
    }
   ],
   "source": [
    "dim=3;\n",
    "nbody=11;\n",
    "qqs=BigFloat(rand(dim*nbody));"
   ]
  },
  {
   "cell_type": "code",
   "execution_count": 7,
   "metadata": {
    "collapsed": false
   },
   "outputs": [
    {
     "data": {
      "text/plain": [
       "33-element Array{BigFloat,1}:\n",
       " 1.3507904242487711599096655845642e-02\n",
       " 3.7408238404957194767064265761292e-01\n",
       " 6.8021614681998099349868880381109e-01\n",
       " 6.2725550588109313387974452780327e-01\n",
       " 4.9910250377804166177497791068163e-01\n",
       " 3.5239989764645773817619556211866e-01\n",
       " 9.6480575053953843145393420854816e-01\n",
       " 2.5880520559337782948716721875826e-01\n",
       " 2.7957263887491490272907412872883e-01\n",
       " 5.2868375539390655148963560350239e-01\n",
       " 3.5240814094448325022312928922474e-01\n",
       " 8.3703081052432759534553952107672e-01\n",
       " 3.0446197381664386050204029743327e-01\n",
       " ⋮                                    \n",
       " 8.382150695461567657673640496796e-01 \n",
       " 5.5965979048720115862636248493800e-01\n",
       " 5.7028647606595739283363855065545e-01\n",
       " 3.5150170436384753358538546308409e-01\n",
       " 7.7055371920720872047638749791076e-01\n",
       " 6.0133887915563954962294701545034e-01\n",
       " 7.2346820977360826177005037607159e-01\n",
       " 9.2489005942150814831848038011231e-02\n",
       " 6.275717366298885213637959168409e-01 \n",
       " 8.6008152679503169224517478141934e-01\n",
       " 9.7463595741984554443604338302976e-01\n",
       " 5.552338034340698058599627984222e-02 "
      ]
     },
     "execution_count": 7,
     "metadata": {},
     "output_type": "execute_result"
    }
   ],
   "source": [
    "qqs=rand(dim*nbody);\n",
    "map((x) -> BigFloat(x), qqs)"
   ]
  },
  {
   "cell_type": "code",
   "execution_count": null,
   "metadata": {
    "collapsed": true
   },
   "outputs": [],
   "source": []
  }
 ],
 "metadata": {
  "anaconda-cloud": {},
  "kernelspec": {
   "display_name": "Julia 0.6.2",
   "language": "julia",
   "name": "julia-0.6"
  },
  "language_info": {
   "file_extension": ".jl",
   "mimetype": "application/julia",
   "name": "julia",
   "version": "0.6.2"
  }
 },
 "nbformat": 4,
 "nbformat_minor": 1
}

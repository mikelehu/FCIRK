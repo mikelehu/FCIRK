{
 "cells": [
  {
   "cell_type": "code",
   "execution_count": 1,
   "metadata": {
    "collapsed": false
   },
   "outputs": [],
   "source": [
    "# Installation\n",
    "#Pkg.clone(\"https://github.com/simonbyrne/Quadmath.jl\")\n",
    "using Quadmath"
   ]
  },
  {
   "cell_type": "code",
   "execution_count": 2,
   "metadata": {
    "collapsed": false
   },
   "outputs": [],
   "source": [
    "rows=10;\n",
    "u=Vector{Float128}(rows);\n",
    "for i in 1:rows\n",
    "    u[i]=i;\n",
    "end"
   ]
  },
  {
   "cell_type": "code",
   "execution_count": 3,
   "metadata": {
    "collapsed": false
   },
   "outputs": [
    {
     "data": {
      "text/plain": [
       "10-element Array{Quadmath.Float128,1}:\n",
       " 1.00000000000000000000000000000000000e+00\n",
       " 2.00000000000000000000000000000000000e+00\n",
       " 3.00000000000000000000000000000000000e+00\n",
       " 4.00000000000000000000000000000000000e+00\n",
       " 5.00000000000000000000000000000000000e+00\n",
       " 6.00000000000000000000000000000000000e+00\n",
       " 7.00000000000000000000000000000000000e+00\n",
       " 8.00000000000000000000000000000000000e+00\n",
       " 9.00000000000000000000000000000000000e+00\n",
       " 1.00000000000000000000000000000000000e+01"
      ]
     },
     "execution_count": 3,
     "metadata": {},
     "output_type": "execute_result"
    },
    {
     "name": "stderr",
     "output_type": "stream",
     "text": [
      "\u001b[1m\u001b[33mWARNING: \u001b[39m\u001b[22m\u001b[33mArray(::Type{T}, m::Int) where T is deprecated, use Array{T}(m) instead.\u001b[39m\n",
      "Stacktrace:\n",
      " [1] \u001b[1mdepwarn\u001b[22m\u001b[22m\u001b[1m(\u001b[22m\u001b[22m::String, ::Symbol\u001b[1m)\u001b[22m\u001b[22m at \u001b[1m./deprecated.jl:70\u001b[22m\u001b[22m\n",
      " [2] \u001b[1mArray\u001b[22m\u001b[22m\u001b[1m(\u001b[22m\u001b[22m::Type{UInt8}, ::Int64\u001b[1m)\u001b[22m\u001b[22m at \u001b[1m./deprecated.jl:57\u001b[22m\u001b[22m\n",
      " [3] \u001b[1mstring\u001b[22m\u001b[22m\u001b[1m(\u001b[22m\u001b[22m::Quadmath.Float128\u001b[1m)\u001b[22m\u001b[22m at \u001b[1m/home/joseba/.julia/v0.6/Quadmath/src/Quadmath.jl:201\u001b[22m\u001b[22m\n",
      " [4] \u001b[1mshow\u001b[22m\u001b[22m\u001b[1m(\u001b[22m\u001b[22m::IOContext{Base.AbstractIOBuffer{Array{UInt8,1}}}, ::Quadmath.Float128\u001b[1m)\u001b[22m\u001b[22m at \u001b[1m/home/joseba/.julia/v0.6/Quadmath/src/Quadmath.jl:207\u001b[22m\u001b[22m\n",
      " [5] \u001b[1m#sprint#228\u001b[22m\u001b[22m\u001b[1m(\u001b[22m\u001b[22m::IOContext{Base.AbstractIOBuffer{Array{UInt8,1}}}, ::Function, ::Int64, ::Function, ::Quadmath.Float128, ::Vararg{Quadmath.Float128,N} where N\u001b[1m)\u001b[22m\u001b[22m at \u001b[1m./strings/io.jl:64\u001b[22m\u001b[22m\n",
      " [6] \u001b[1m(::Base.#kw##sprint)\u001b[22m\u001b[22m\u001b[1m(\u001b[22m\u001b[22m::Array{Any,1}, ::Base.#sprint, ::Int64, ::Function, ::Quadmath.Float128, ::Vararg{Quadmath.Float128,N} where N\u001b[1m)\u001b[22m\u001b[22m at \u001b[1m./<missing>:0\u001b[22m\u001b[22m\n",
      " [7] \u001b[1malignment\u001b[22m\u001b[22m\u001b[1m(\u001b[22m\u001b[22m::IOContext{Base.AbstractIOBuffer{Array{UInt8,1}}}, ::Quadmath.Float128\u001b[1m)\u001b[22m\u001b[22m at \u001b[1m./show.jl:1316\u001b[22m\u001b[22m\n",
      " [8] \u001b[1malignment\u001b[22m\u001b[22m\u001b[1m(\u001b[22m\u001b[22m::IOContext{Base.AbstractIOBuffer{Array{UInt8,1}}}, ::Array{Quadmath.Float128,1}, ::Base.OneTo{Int64}, ::Base.OneTo{Int64}, ::Int64, ::Int64, ::Int64\u001b[1m)\u001b[22m\u001b[22m at \u001b[1m./show.jl:1354\u001b[22m\u001b[22m\n",
      " [9] \u001b[1mprint_matrix\u001b[22m\u001b[22m\u001b[1m(\u001b[22m\u001b[22m::IOContext{Base.AbstractIOBuffer{Array{UInt8,1}}}, ::Array{Quadmath.Float128,1}, ::String, ::String, ::String, ::String, ::String, ::String, ::Int64, ::Int64\u001b[1m)\u001b[22m\u001b[22m at \u001b[1m./show.jl:1482\u001b[22m\u001b[22m\n",
      " [10] \u001b[1mprint_matrix\u001b[22m\u001b[22m\u001b[1m(\u001b[22m\u001b[22m::IOContext{Base.AbstractIOBuffer{Array{UInt8,1}}}, ::Array{Quadmath.Float128,1}, ::String, ::String, ::String\u001b[1m)\u001b[22m\u001b[22m at \u001b[1m./show.jl:1455\u001b[22m\u001b[22m\n",
      " [11] \u001b[1m#showarray#263\u001b[22m\u001b[22m\u001b[1m(\u001b[22m\u001b[22m::Bool, ::Function, ::IOContext{Base.AbstractIOBuffer{Array{UInt8,1}}}, ::Array{Quadmath.Float128,1}, ::Bool\u001b[1m)\u001b[22m\u001b[22m at \u001b[1m./show.jl:1704\u001b[22m\u001b[22m\n",
      " [12] \u001b[1mlimitstringmime\u001b[22m\u001b[22m\u001b[1m(\u001b[22m\u001b[22m::MIME{Symbol(\"text/plain\")}, ::Array{Quadmath.Float128,1}\u001b[1m)\u001b[22m\u001b[22m at \u001b[1m/home/joseba/.julia/v0.6/IJulia/src/inline.jl:24\u001b[22m\u001b[22m\n",
      " [13] \u001b[1mdisplay_dict\u001b[22m\u001b[22m\u001b[1m(\u001b[22m\u001b[22m::Array{Quadmath.Float128,1}\u001b[1m)\u001b[22m\u001b[22m at \u001b[1m/home/joseba/.julia/v0.6/IJulia/src/execute_request.jl:28\u001b[22m\u001b[22m\n",
      " [14] \u001b[1m(::Compat.#inner#17{Array{Any,1},IJulia.#display_dict,Tuple{Array{Quadmath.Float128,1}}})\u001b[22m\u001b[22m\u001b[1m(\u001b[22m\u001b[22m\u001b[1m)\u001b[22m\u001b[22m at \u001b[1m/home/joseba/.julia/v0.6/Compat/src/Compat.jl:488\u001b[22m\u001b[22m\n",
      " [15] \u001b[1mexecute_request\u001b[22m\u001b[22m\u001b[1m(\u001b[22m\u001b[22m::ZMQ.Socket, ::IJulia.Msg\u001b[1m)\u001b[22m\u001b[22m at \u001b[1m/home/joseba/.julia/v0.6/IJulia/src/execute_request.jl:186\u001b[22m\u001b[22m\n",
      " [16] \u001b[1m(::Compat.#inner#17{Array{Any,1},IJulia.#execute_request,Tuple{ZMQ.Socket,IJulia.Msg}})\u001b[22m\u001b[22m\u001b[1m(\u001b[22m\u001b[22m\u001b[1m)\u001b[22m\u001b[22m at \u001b[1m/home/joseba/.julia/v0.6/Compat/src/Compat.jl:488\u001b[22m\u001b[22m\n",
      " [17] \u001b[1meventloop\u001b[22m\u001b[22m\u001b[1m(\u001b[22m\u001b[22m::ZMQ.Socket\u001b[1m)\u001b[22m\u001b[22m at \u001b[1m/home/joseba/.julia/v0.6/IJulia/src/eventloop.jl:8\u001b[22m\u001b[22m\n",
      " [18] \u001b[1m(::IJulia.##14#17)\u001b[22m\u001b[22m\u001b[1m(\u001b[22m\u001b[22m\u001b[1m)\u001b[22m\u001b[22m at \u001b[1m./task.jl:335\u001b[22m\u001b[22m\n",
      "while loading /home/joseba/.julia/v0.6/IJulia/src/kernel.jl, in expression starting on line 31\n"
     ]
    }
   ],
   "source": [
    "u"
   ]
  },
  {
   "cell_type": "code",
   "execution_count": 4,
   "metadata": {
    "collapsed": false
   },
   "outputs": [
    {
     "data": {
      "text/plain": [
       "Array{Quadmath.Float128,1}"
      ]
     },
     "execution_count": 4,
     "metadata": {},
     "output_type": "execute_result"
    }
   ],
   "source": [
    "v=Float128[0.00450250878464055477,0.00076707642709100705,0.00026605791776697764];\n",
    "typeof(v)"
   ]
  },
  {
   "cell_type": "code",
   "execution_count": 5,
   "metadata": {
    "collapsed": true
   },
   "outputs": [],
   "source": [
    "parse(BigFloat,\"1\");\n",
    "string(5.0);\n"
   ]
  },
  {
   "cell_type": "code",
   "execution_count": 6,
   "metadata": {
    "collapsed": false
   },
   "outputs": [
    {
     "ename": "LoadError",
     "evalue": "\u001b[91mUndefVarError: mat1 not defined\u001b[39m",
     "output_type": "error",
     "traceback": [
      "\u001b[91mUndefVarError: mat1 not defined\u001b[39m",
      "",
      "Stacktrace:",
      " [1] \u001b[1minclude_string\u001b[22m\u001b[22m\u001b[1m(\u001b[22m\u001b[22m::String, ::String\u001b[1m)\u001b[22m\u001b[22m at \u001b[1m./loading.jl:522\u001b[22m\u001b[22m"
     ]
    }
   ],
   "source": [
    "u1=Vector{Vector{BigFloat}}(rows);\n",
    "xx=copy(parse(BigFloat,string(mat1[1,2])));\n",
    "typeof(xx);\n",
    "u1[1,1]=xx"
   ]
  },
  {
   "cell_type": "code",
   "execution_count": 7,
   "metadata": {
    "collapsed": false
   },
   "outputs": [],
   "source": [
    "v32=Float32[0.00450250878464055477,0.00076707642709100705,0.00026605791776697764];\n",
    "v64=Float64[0.00450250878464055477,0.00076707642709100705,0.00026605791776697764];\n",
    "v128=Float128[0.00450250878464055477,0.00076707642709100705,0.00026605791776697764];\n",
    "vBig=BigFloat[0.00450250878464055477,0.00076707642709100705,0.00026605791776697764];\n",
    "[typeof(v32),typeof(v64),typeof(v128),typeof(vBig)];    "
   ]
  },
  {
   "cell_type": "code",
   "execution_count": 8,
   "metadata": {
    "collapsed": false
   },
   "outputs": [],
   "source": [
    "ee32=Array{Float32}(3);\n",
    "ee64=Array{Float64}(3);\n",
    "ee128=Array{Float128}(3);\n",
    "eeBig=Array{BigFloat}(3);\n",
    "[typeof(ee32),typeof(ee64),typeof(ee128),typeof(eeBig)]; "
   ]
  },
  {
   "cell_type": "code",
   "execution_count": 9,
   "metadata": {
    "collapsed": false
   },
   "outputs": [
    {
     "data": {
      "text/plain": [
       "Array{Float64,1}"
      ]
     },
     "execution_count": 9,
     "metadata": {},
     "output_type": "execute_result"
    }
   ],
   "source": [
    "ee32=copy(v64);\n",
    "typeof(ee32)"
   ]
  },
  {
   "cell_type": "code",
   "execution_count": 10,
   "metadata": {
    "collapsed": false
   },
   "outputs": [
    {
     "data": {
      "text/plain": [
       "Array{Quadmath.Float128,1}"
      ]
     },
     "execution_count": 10,
     "metadata": {},
     "output_type": "execute_result"
    }
   ],
   "source": [
    "ee64=copy(v128);\n",
    "typeof(ee64)"
   ]
  },
  {
   "cell_type": "code",
   "execution_count": 11,
   "metadata": {
    "collapsed": false
   },
   "outputs": [
    {
     "data": {
      "text/plain": [
       "Array{BigFloat,1}"
      ]
     },
     "execution_count": 11,
     "metadata": {},
     "output_type": "execute_result"
    }
   ],
   "source": [
    "ee64=eeBig;\n",
    "typeof(ee64)"
   ]
  },
  {
   "cell_type": "code",
   "execution_count": 12,
   "metadata": {
    "collapsed": false
   },
   "outputs": [
    {
     "data": {
      "text/plain": [
       "Array{BigFloat,1}"
      ]
     },
     "execution_count": 12,
     "metadata": {},
     "output_type": "execute_result"
    }
   ],
   "source": [
    "ee128=vBig;\n",
    "typeof(eeBig)"
   ]
  },
  {
   "cell_type": "code",
   "execution_count": null,
   "metadata": {
    "collapsed": true
   },
   "outputs": [],
   "source": []
  }
 ],
 "metadata": {
  "anaconda-cloud": {},
  "kernelspec": {
   "display_name": "Julia 0.6.2",
   "language": "julia",
   "name": "julia-0.6"
  },
  "language_info": {
   "file_extension": ".jl",
   "mimetype": "application/julia",
   "name": "julia",
   "version": "0.6.2"
  }
 },
 "nbformat": 4,
 "nbformat_minor": 1
}

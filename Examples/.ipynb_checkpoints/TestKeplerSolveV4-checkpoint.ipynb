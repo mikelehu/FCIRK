{
 "cells": [
  {
   "cell_type": "code",
   "execution_count": 106,
   "metadata": {
    "collapsed": false
   },
   "outputs": [],
   "source": [
    "using NBInclude;"
   ]
  },
  {
   "cell_type": "code",
   "execution_count": 107,
   "metadata": {
    "collapsed": false
   },
   "outputs": [],
   "source": [
    "@nbinclude(\"../MyPackages/MyKeplerSolve.ipynb\");"
   ]
  },
  {
   "cell_type": "code",
   "execution_count": 108,
   "metadata": {
    "collapsed": false
   },
   "outputs": [],
   "source": [
    "q0 = [-0.156655, 0.737035, -0.156454]\n",
    "v0 = [-0.055004, -0.0381374, -0.0626549]\n",
    "k = 0.409810130003863\n",
    "\n",
    "r0 = norm(q0)      \n",
    "eta = dot(q0, v0)  \n",
    "v02 = dot(v0, v0)  \n",
    "beta = 2*k/r0 - v02\n",
    "zeta = k - beta*r0\n",
    "\n",
    "Q0 = BigFloat.(q0)\n",
    "V0 = BigFloat.(v0)\n",
    "K = BigFloat(k)\n",
    "\n",
    "R0 = norm(Q0)      \n",
    "Eta = dot(Q0, V0)  \n",
    "V02 = dot(V0, V0)  \n",
    "Beta = 2*K/R0 - V02\n",
    "Zeta = K - Beta*R0;\n",
    "\n",
    "#r0=0.7695708117944703\n",
    "#eta=-0.009689337264400003\n",
    "#zeta=-0.40334147346419014\n",
    "#beta=1.0566299955841127\n",
    "#k=0.409810130003863\n",
    "#X=[0.]"
   ]
  },
  {
   "cell_type": "markdown",
   "metadata": {},
   "source": [
    "## Hasierako testak"
   ]
  },
  {
   "cell_type": "markdown",
   "metadata": {},
   "source": [
    "### t=2"
   ]
  },
  {
   "cell_type": "code",
   "execution_count": 109,
   "metadata": {
    "collapsed": false
   },
   "outputs": [],
   "source": [
    "t=2.\n",
    "# C jatorrizko funtzioa\n",
    "(XV0, G0V0, G1V0, G2V0, rV0, iV0)=CKeplerSolveV0(r0,eta,zeta,beta,k,t);"
   ]
  },
  {
   "cell_type": "code",
   "execution_count": 110,
   "metadata": {
    "collapsed": false
   },
   "outputs": [
    {
     "name": "stdout",
     "output_type": "stream",
     "text": [
      "M=2.20808, E0=-3.1169, e=0.984516 \n",
      "Cubic polynomial centered at X =5.18032\n",
      "Starting guess (approx. zero of cubic polynomial): X0 =5.62144\n",
      "i=6, X=5.6221, dX=0.0006575, errX=7.3914e-11\n",
      "i=8, X=5.6221, dX=2.77555e-11, errX=2.16384e-22\n",
      "Success: E=2.66219, X=5.6221, errX=2.16384e-22, iters=2\n"
     ]
    }
   ],
   "source": [
    "# C bertsio berria\n",
    "(X, G0, G1, G2, r, i)=CKeplerSolveV2(r0,eta,zeta,beta,k,t);"
   ]
  },
  {
   "cell_type": "code",
   "execution_count": 111,
   "metadata": {
    "collapsed": false
   },
   "outputs": [],
   "source": [
    "# Anderren Julian inplementatutako funtzioa\n",
    "(XA, G0A, G1A, G2A, rA, iA)=KeplerSolveA(r0,eta,zeta,beta,k,t);"
   ]
  },
  {
   "cell_type": "code",
   "execution_count": 112,
   "metadata": {
    "collapsed": false
   },
   "outputs": [
    {
     "data": {
      "text/plain": [
       "4-element Array{Float64,1}:\n",
       " 0.0\n",
       " 0.0\n",
       " 0.0\n",
       " 0.0"
      ]
     },
     "execution_count": 112,
     "metadata": {},
     "output_type": "execute_result"
    }
   ],
   "source": [
    "[X,G0,G1,G2]-[XA, G0A, G1A, G2A]"
   ]
  },
  {
   "cell_type": "code",
   "execution_count": 113,
   "metadata": {
    "collapsed": false
   },
   "outputs": [
    {
     "data": {
      "text/plain": [
       "4-element Array{Float64,1}:\n",
       "  0.0                   \n",
       "  1.1102230246251565e-16\n",
       "  2.7755575615628914e-16\n",
       " -1.3877787807814457e-16"
      ]
     },
     "execution_count": 113,
     "metadata": {},
     "output_type": "execute_result"
    }
   ],
   "source": [
    "[XV0, G0V0, G1V0, G2V0]-[XA, G0A, G1A, G2A]"
   ]
  },
  {
   "cell_type": "markdown",
   "metadata": {},
   "source": [
    "### t=0.1"
   ]
  },
  {
   "cell_type": "code",
   "execution_count": 114,
   "metadata": {
    "collapsed": false
   },
   "outputs": [],
   "source": [
    "t=0.1\n",
    "# C jatorrizko funtzioa\n",
    "(XV0, G0V0, G1V0, G2V0, rV0, iV0)=CKeplerSolveV0(r0,eta,zeta,beta,k,t);"
   ]
  },
  {
   "cell_type": "code",
   "execution_count": 115,
   "metadata": {
    "collapsed": false
   },
   "outputs": [
    {
     "name": "stdout",
     "output_type": "stream",
     "text": [
      "M=-2.82757, E0=-3.1169, e=0.984516 \n",
      "Cubic polynomial centered at X =0.129943\n",
      "Starting guess (approx. zero of cubic polynomial): X0 =0.130242\n",
      "i=5, X=0.130242, dX=-3.62867e-17, errX=3.51349e-34\n",
      "Success: E=-2.98303, X=0.130242, errX=3.51349e-34, iters=1\n"
     ]
    }
   ],
   "source": [
    "# C bertsio berria\n",
    "(X, G0, G1, G2, r, i)=CKeplerSolveV2(r0,eta,zeta,beta,k,t);"
   ]
  },
  {
   "cell_type": "code",
   "execution_count": 116,
   "metadata": {
    "collapsed": false
   },
   "outputs": [],
   "source": [
    "# Anderren Julian inplementatutako funtzioa\n",
    "(XA, G0A, G1A, G2A, rA, iA)=KeplerSolveA(r0,eta,zeta,beta,k,t);"
   ]
  },
  {
   "cell_type": "code",
   "execution_count": 117,
   "metadata": {
    "collapsed": false
   },
   "outputs": [
    {
     "data": {
      "text/plain": [
       "4-element Array{Float64,1}:\n",
       " 0.0\n",
       " 0.0\n",
       " 0.0\n",
       " 0.0"
      ]
     },
     "execution_count": 117,
     "metadata": {},
     "output_type": "execute_result"
    }
   ],
   "source": [
    "[X,G0,G1,G2]-[XA, G0A, G1A, G2A]"
   ]
  },
  {
   "cell_type": "code",
   "execution_count": 118,
   "metadata": {
    "collapsed": false
   },
   "outputs": [
    {
     "data": {
      "text/plain": [
       "4-element Array{Float64,1}:\n",
       "  0.0                  \n",
       "  0.0                  \n",
       "  0.0                  \n",
       " -1.734723475976807e-18"
      ]
     },
     "execution_count": 118,
     "metadata": {},
     "output_type": "execute_result"
    }
   ],
   "source": [
    "[XV0, G0V0, G1V0, G2V0]-[XA, G0A, G1A, G2A]"
   ]
  },
  {
   "cell_type": "markdown",
   "metadata": {},
   "source": [
    "### t=0.0001"
   ]
  },
  {
   "cell_type": "code",
   "execution_count": 119,
   "metadata": {
    "collapsed": false
   },
   "outputs": [],
   "source": [
    "t=0.00001\n",
    "# C jatorrizko funtzioa\n",
    "(XV0, G0V0, G1V0, G2V0, rV0, iV0)=CKeplerSolveV0(r0,eta,zeta,beta,k,t);"
   ]
  },
  {
   "cell_type": "code",
   "execution_count": 120,
   "metadata": {
    "collapsed": false
   },
   "outputs": [
    {
     "name": "stdout",
     "output_type": "stream",
     "text": [
      "M=-3.09257, E0=-3.1169, e=0.984516 \n",
      "Starting guess: X0 =0\n",
      "i=3, X=1.29943e-05, dX=1.29943e-05, errX=5.08421e-16\n",
      "i=5, X=1.29943e-05, dX=1.91745e-16, errX=9.75098e-33\n",
      "Success: E=-3.11689, X=1.29943e-05, errX=9.75098e-33, iters=1\n"
     ]
    }
   ],
   "source": [
    "# C bertsio berria\n",
    "(X, G0, G1, G2, r, i)=CKeplerSolveV2(r0,eta,zeta,beta,k,t);"
   ]
  },
  {
   "cell_type": "code",
   "execution_count": 121,
   "metadata": {
    "collapsed": true
   },
   "outputs": [],
   "source": [
    "# Anderren Julian inplementatutako funtzioa\n",
    "(XA, G0A, G1A, G2A, rA, iA)=KeplerSolveA(r0,eta,zeta,beta,k,t);"
   ]
  },
  {
   "cell_type": "code",
   "execution_count": 122,
   "metadata": {
    "collapsed": false
   },
   "outputs": [
    {
     "data": {
      "text/plain": [
       "4-element Array{Float64,1}:\n",
       " 0.0\n",
       " 0.0\n",
       " 0.0\n",
       " 0.0"
      ]
     },
     "execution_count": 122,
     "metadata": {},
     "output_type": "execute_result"
    }
   ],
   "source": [
    "[X,G0,G1,G2]-[XA, G0A, G1A, G2A]"
   ]
  },
  {
   "cell_type": "code",
   "execution_count": 123,
   "metadata": {
    "collapsed": false
   },
   "outputs": [
    {
     "data": {
      "text/plain": [
       "4-element Array{Float64,1}:\n",
       " 0.0\n",
       " 0.0\n",
       " 0.0\n",
       " 0.0"
      ]
     },
     "execution_count": 123,
     "metadata": {},
     "output_type": "execute_result"
    }
   ],
   "source": [
    "[XV0, G0V0, G1V0, G2V0]-[XA, G0A, G1A, G2A]"
   ]
  },
  {
   "cell_type": "markdown",
   "metadata": {},
   "source": [
    "### t=0.00000001"
   ]
  },
  {
   "cell_type": "code",
   "execution_count": 124,
   "metadata": {
    "collapsed": false
   },
   "outputs": [],
   "source": [
    "t=0.00000001\n",
    "# C jatorrizko funtzioa\n",
    "(XV0, G0V0, G1V0, G2V0, rV0, iV0)=CKeplerSolveV0(r0,eta,zeta,beta,k,t);"
   ]
  },
  {
   "cell_type": "code",
   "execution_count": 125,
   "metadata": {
    "collapsed": false
   },
   "outputs": [
    {
     "name": "stdout",
     "output_type": "stream",
     "text": [
      "M=-3.0926, E0=-3.1169, e=0.984516 \n",
      "Starting guess: X0 =0\n",
      "i=3, X=1.29943e-08, dX=1.29943e-08, errX=5.08421e-25\n",
      "Success: E=-3.1169, X=1.29943e-08, errX=5.08421e-25, iters=1\n"
     ]
    }
   ],
   "source": [
    "# C bertsio berria\n",
    "(X, G0, G1, G2, r, i)=CKeplerSolveV2(r0,eta,zeta,beta,k,t);"
   ]
  },
  {
   "cell_type": "code",
   "execution_count": 126,
   "metadata": {
    "collapsed": true
   },
   "outputs": [],
   "source": [
    "# Anderren Julian inplementatutako funtzioa\n",
    "(XA, G0A, G1A, G2A, rA, iA)=KeplerSolveA(r0,eta,zeta,beta,k,t);"
   ]
  },
  {
   "cell_type": "code",
   "execution_count": 127,
   "metadata": {
    "collapsed": false
   },
   "outputs": [
    {
     "data": {
      "text/plain": [
       "4-element Array{Float64,1}:\n",
       " 0.0\n",
       " 0.0\n",
       " 0.0\n",
       " 0.0"
      ]
     },
     "execution_count": 127,
     "metadata": {},
     "output_type": "execute_result"
    }
   ],
   "source": [
    "[X,G0,G1,G2]-[XA, G0A, G1A, G2A]"
   ]
  },
  {
   "cell_type": "code",
   "execution_count": 128,
   "metadata": {
    "collapsed": false
   },
   "outputs": [
    {
     "data": {
      "text/plain": [
       "4-element Array{Float64,1}:\n",
       " -1.6543612251060553e-24\n",
       "  0.0                   \n",
       " -1.6543612251060553e-24\n",
       " -2.465190328815662e-32 "
      ]
     },
     "execution_count": 128,
     "metadata": {},
     "output_type": "execute_result"
    }
   ],
   "source": [
    "[XV0, G0V0, G1V0, G2V0]-[XA, G0A, G1A, G2A]"
   ]
  },
  {
   "cell_type": "markdown",
   "metadata": {
    "collapsed": true
   },
   "source": [
    "## Test for Kepler Solve"
   ]
  },
  {
   "cell_type": "markdown",
   "metadata": {},
   "source": [
    "### Test-1"
   ]
  },
  {
   "cell_type": "code",
   "execution_count": 129,
   "metadata": {
    "collapsed": true
   },
   "outputs": [],
   "source": [
    "# C jatorrizko funtzioa\n",
    "(iV0,IV0,e11V0,e12V0,e21V0,e22V0)=KeplerErrorV0(0.9, 0.1, 3.,false);"
   ]
  },
  {
   "cell_type": "code",
   "execution_count": 130,
   "metadata": {
    "collapsed": false
   },
   "outputs": [
    {
     "name": "stdout",
     "output_type": "stream",
     "text": [
      "M=0.0101499, E0=3, e=0.9 \n",
      "Cubic polynomial centered at X =-2.98985\n",
      "Starting guess (exact zero of cubic polynomial): X0 =-2.9\n",
      " i=6, X=-2.9, dX=6.57494e-07, errX=1.94444e-17\n",
      "Success: E=0.1, X=-2.9, errX=1.94444e-17, iters=2\n"
     ]
    }
   ],
   "source": [
    "# C bertsio berria\n",
    "(i,I,e11,e12,e21,e22)=KeplerError(0.9, 0.1, 3.,false);"
   ]
  },
  {
   "cell_type": "code",
   "execution_count": 131,
   "metadata": {
    "collapsed": true
   },
   "outputs": [],
   "source": [
    "# Anderren Julian inplementatutako funtzioa\n",
    "(iA,IA,e11A,e12A,e21A,e22A)=KeplerErrorA(0.9, 0.1, 3.,false);"
   ]
  },
  {
   "cell_type": "code",
   "execution_count": 132,
   "metadata": {
    "collapsed": false
   },
   "outputs": [
    {
     "data": {
      "text/plain": [
       "6-element Array{Float64,1}:\n",
       " -2.0\n",
       "  0.0\n",
       "  0.0\n",
       "  0.0\n",
       "  0.0\n",
       "  0.0"
      ]
     },
     "execution_count": 132,
     "metadata": {},
     "output_type": "execute_result"
    }
   ],
   "source": [
    "[i,I,e11,e12,e21,e22]-[iA,IA,e11A,e12A,e21A,e22A]"
   ]
  },
  {
   "cell_type": "code",
   "execution_count": 133,
   "metadata": {
    "collapsed": false
   },
   "outputs": [
    {
     "data": {
      "text/plain": [
       "6-element Array{Float64,1}:\n",
       " -2.0                   \n",
       "  0.0                   \n",
       "  1.087234932884752e-16 \n",
       "  5.818530165784497e-15 \n",
       "  5.423645621480558e-15 \n",
       "  3.3986099174405402e-15"
      ]
     },
     "execution_count": 133,
     "metadata": {},
     "output_type": "execute_result"
    }
   ],
   "source": [
    "[iV0,IV0,e11V0,e12V0,e21V0,e22V0]-[iA,IA,e11A,e12A,e21A,e22A]"
   ]
  },
  {
   "cell_type": "markdown",
   "metadata": {},
   "source": [
    "### Test-2"
   ]
  },
  {
   "cell_type": "code",
   "execution_count": 134,
   "metadata": {
    "collapsed": false
   },
   "outputs": [],
   "source": [
    "# C jatorrizko funtzioa\n",
    "(iV0,IV0,e11V0,e12V0,e21V0,e22V0)=KeplerErrorV0(0.9, 0.1, 0.11, false);"
   ]
  },
  {
   "cell_type": "code",
   "execution_count": 135,
   "metadata": {
    "collapsed": false
   },
   "outputs": [
    {
     "name": "stdout",
     "output_type": "stream",
     "text": [
      "M=0.0101499, E0=0.11, e=0.9 \n",
      "Cubic polynomial centered at X =-0.00995456\n",
      "Starting guess (exact zero of cubic polynomial): X0 =-0.01\n",
      " i=5, X=-0.01, dX=-3.32016e-17, errX=4.93701e-33\n",
      "Success: E=0.1, X=-0.01, errX=4.93701e-33, iters=1\n"
     ]
    }
   ],
   "source": [
    "# C bertsio berria\n",
    "(i,I,e11,e12,e21,e22)=KeplerError(0.9, 0.1, 0.11, false);"
   ]
  },
  {
   "cell_type": "code",
   "execution_count": 136,
   "metadata": {
    "collapsed": true
   },
   "outputs": [],
   "source": [
    "# Anderren Julian inplementatutako funtzioa\n",
    "(iA,IA,e11A,e12A,e21A,e22A)=KeplerErrorA(0.9, 0.1, 0.11, false);"
   ]
  },
  {
   "cell_type": "code",
   "execution_count": 137,
   "metadata": {
    "collapsed": false
   },
   "outputs": [
    {
     "data": {
      "text/plain": [
       "6-element Array{Float64,1}:\n",
       " -1.6666666666666667\n",
       "  0.0               \n",
       "  0.0               \n",
       "  0.0               \n",
       "  0.0               \n",
       "  0.0               "
      ]
     },
     "execution_count": 137,
     "metadata": {},
     "output_type": "execute_result"
    }
   ],
   "source": [
    "[i,I,e11,e12,e21,e22]-[iA,IA,e11A,e12A,e21A,e22A]"
   ]
  },
  {
   "cell_type": "code",
   "execution_count": 138,
   "metadata": {
    "collapsed": false
   },
   "outputs": [
    {
     "data": {
      "text/plain": [
       "6-element Array{Float64,1}:\n",
       " -1.6666666666666667    \n",
       "  0.0                   \n",
       " -3.7929090002504124e-19\n",
       " -6.498393376805201e-19 \n",
       " -2.328014482331003e-16 \n",
       " -3.79289277248772e-19  "
      ]
     },
     "execution_count": 138,
     "metadata": {},
     "output_type": "execute_result"
    }
   ],
   "source": [
    "[iV0,IV0,e11V0,e12V0,e21V0,e22V0]-[iA,IA,e11A,e12A,e21A,e22A]"
   ]
  },
  {
   "cell_type": "markdown",
   "metadata": {},
   "source": [
    "### Tes-3 (ilargiaren ecc=0.055)"
   ]
  },
  {
   "cell_type": "code",
   "execution_count": 139,
   "metadata": {
    "collapsed": false
   },
   "outputs": [],
   "source": [
    "# C jatorrizko funtzioa\n",
    "(iV0,IV0,e11V0,e12V0,e21V0,e22V0)=KeplerErrorV0(0.055, 0.1, 3.,false);"
   ]
  },
  {
   "cell_type": "code",
   "execution_count": 140,
   "metadata": {
    "collapsed": false
   },
   "outputs": [
    {
     "name": "stdout",
     "output_type": "stream",
     "text": [
      "M=0.0945092, E0=3, e=0.055 \n",
      "Cubic polynomial centered at X =-2.7481\n",
      "Starting guess (approx. zero of cubic polynomial): X0 =-2.9\n",
      "i=6, X=-2.9, dX=2.83527e-07, errX=1.16442e-21\n",
      "Success: E=0.1, X=-2.9, errX=1.16442e-21, iters=2\n"
     ]
    }
   ],
   "source": [
    "# C bertsio berria\n",
    "(i,I,e11,e12,e21,e22)=KeplerError(0.055, 0.1, 3.,false);"
   ]
  },
  {
   "cell_type": "code",
   "execution_count": 141,
   "metadata": {
    "collapsed": true
   },
   "outputs": [],
   "source": [
    "# Anderren Julian inplementatutako funtzioa\n",
    "(iA,IA,e11A,e12A,e21A,e22A)=KeplerErrorA(0.055, 0.1, 3.,false);"
   ]
  },
  {
   "cell_type": "code",
   "execution_count": 142,
   "metadata": {
    "collapsed": false
   },
   "outputs": [
    {
     "data": {
      "text/plain": [
       "6-element Array{Float64,1}:\n",
       " -2.0\n",
       "  0.0\n",
       "  0.0\n",
       "  0.0\n",
       "  0.0\n",
       "  0.0"
      ]
     },
     "execution_count": 142,
     "metadata": {},
     "output_type": "execute_result"
    }
   ],
   "source": [
    "[i,I,e11,e12,e21,e22]-[iA,IA,e11A,e12A,e21A,e22A]"
   ]
  },
  {
   "cell_type": "code",
   "execution_count": 143,
   "metadata": {
    "collapsed": false
   },
   "outputs": [
    {
     "data": {
      "text/plain": [
       "6-element Array{Float64,1}:\n",
       " -2.0                   \n",
       "  0.0                   \n",
       "  0.0                   \n",
       " -4.4876405077871574e-17\n",
       " -6.714892221961597e-17 \n",
       "  0.0                   "
      ]
     },
     "execution_count": 143,
     "metadata": {},
     "output_type": "execute_result"
    }
   ],
   "source": [
    "[iV0,IV0,e11V0,e12V0,e21V0,e22V0]-[iA,IA,e11A,e12A,e21A,e22A]"
   ]
  },
  {
   "cell_type": "markdown",
   "metadata": {},
   "source": [
    "### Tes-4 (ilargiaren ecc=0.055)"
   ]
  },
  {
   "cell_type": "code",
   "execution_count": 144,
   "metadata": {
    "collapsed": false
   },
   "outputs": [],
   "source": [
    "# C jatorrizko funtzioa\n",
    "(iV0,IV0,e11V0,e12V0,e21V0,e22V0)=KeplerErrorV0(0.055, 0.1, 0.11,false);"
   ]
  },
  {
   "cell_type": "code",
   "execution_count": 145,
   "metadata": {
    "collapsed": false
   },
   "outputs": [
    {
     "name": "stdout",
     "output_type": "stream",
     "text": [
      "M=0.0945092, E0=0.11, e=0.055 \n",
      "Starting guess: X0 =0\n",
      "i=3, X=-0.01, dX=-0.01, errX=5.10793e-08\n",
      "i=6, X=-0.01, dX=9.63119e-09, errX=4.5642e-26\n",
      "Success: E=0.1, X=-0.01, errX=4.5642e-26, iters=2\n"
     ]
    }
   ],
   "source": [
    "# C bertsio berria\n",
    "(i,I,e11,e12,e21,e22)=KeplerError(0.055, 0.1, 0.11,false);"
   ]
  },
  {
   "cell_type": "code",
   "execution_count": 146,
   "metadata": {
    "collapsed": true
   },
   "outputs": [],
   "source": [
    "# Anderren Julian inplementatutako funtzioa\n",
    "(iA,IA,e11A,e12A,e21A,e22A)=KeplerErrorA(0.055, 0.1, 0.11,false);"
   ]
  },
  {
   "cell_type": "code",
   "execution_count": 147,
   "metadata": {
    "collapsed": false
   },
   "outputs": [
    {
     "data": {
      "text/plain": [
       "6-element Array{Float64,1}:\n",
       " -2.0\n",
       "  0.0\n",
       "  0.0\n",
       "  0.0\n",
       "  0.0\n",
       "  0.0"
      ]
     },
     "execution_count": 147,
     "metadata": {},
     "output_type": "execute_result"
    }
   ],
   "source": [
    "[i,I,e11,e12,e21,e22]-[iA,IA,e11A,e12A,e21A,e22A]"
   ]
  },
  {
   "cell_type": "code",
   "execution_count": 148,
   "metadata": {
    "collapsed": false
   },
   "outputs": [
    {
     "data": {
      "text/plain": [
       "6-element Array{Float64,1}:\n",
       " -2.0                   \n",
       "  0.0                   \n",
       " -2.0327715580756643e-20\n",
       " -1.7184789271820003e-18\n",
       "  0.0                   \n",
       " -2.7103620686928402e-20"
      ]
     },
     "execution_count": 148,
     "metadata": {},
     "output_type": "execute_result"
    }
   ],
   "source": [
    "[iV0,IV0,e11V0,e12V0,e21V0,e22V0]-[iA,IA,e11A,e12A,e21A,e22A]"
   ]
  }
 ],
 "metadata": {
  "anaconda-cloud": {},
  "kernelspec": {
   "display_name": "Julia 1.1.0",
   "language": "julia",
   "name": "julia-1.1"
  },
  "language_info": {
   "file_extension": ".jl",
   "mimetype": "application/julia",
   "name": "julia",
   "version": "1.1.0"
  }
 },
 "nbformat": 4,
 "nbformat_minor": 1
}

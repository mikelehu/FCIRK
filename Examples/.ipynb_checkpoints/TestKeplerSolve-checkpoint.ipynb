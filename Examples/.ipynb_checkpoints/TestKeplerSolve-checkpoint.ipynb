{
 "cells": [
  {
   "cell_type": "code",
   "execution_count": 1,
   "metadata": {
    "collapsed": true
   },
   "outputs": [],
   "source": [
    "using NBInclude;"
   ]
  },
  {
   "cell_type": "code",
   "execution_count": 2,
   "metadata": {
    "collapsed": false
   },
   "outputs": [],
   "source": [
    "@nbinclude(\"../MyPackages/MyKeplerSolve.ipynb\");"
   ]
  },
  {
   "cell_type": "code",
   "execution_count": 3,
   "metadata": {
    "collapsed": false
   },
   "outputs": [],
   "source": [
    "r0=0.7695708117944703\n",
    "eta=-0.009689337264400003\n",
    "zeta=-0.40334147346419014\n",
    "beta=1.0566299955841127\n",
    "k=0.409810130003863\n",
    "X=[0.]"
   ]
  },
  {
   "cell_type": "code",
   "execution_count": 4,
   "metadata": {
    "collapsed": false
   },
   "outputs": [
    {
     "name": "stdout",
     "output_type": "stream",
     "text": [
      "M=2.20808, E0=-3.1169, e=0.984516 \n",
      "Cubic polynomial centered at X =5.18032\n",
      "Starting guess (approx. zero of cubic polynomial): X0 =5.62144\n",
      "i=6, X=5.6221, dX=0.0006575, errX=7.3914e-11\n",
      "i=8, X=5.6221, dX=2.77555e-11, errX=2.16384e-22\n",
      "Success: E=2.66219, X=5.6221, errX=2.16384e-22, iters=2\n"
     ]
    }
   ],
   "source": [
    "dt=2.\n",
    "G=[0.,0.,0.];\n",
    "KeplerSolve(r0,eta,zeta,beta,k,dt,X,G)"
   ]
  },
  {
   "cell_type": "code",
   "execution_count": 5,
   "metadata": {
    "collapsed": false
   },
   "outputs": [
    {
     "data": {
      "text/plain": [
       "2-element Array{Array{Float64,1},1}:\n",
       " [5.6221]       \n",
       " [0.0, 0.0, 0.0]"
      ]
     },
     "execution_count": 5,
     "metadata": {},
     "output_type": "execute_result"
    }
   ],
   "source": [
    "[X,G]"
   ]
  },
  {
   "cell_type": "code",
   "execution_count": 6,
   "metadata": {
    "collapsed": false
   },
   "outputs": [
    {
     "name": "stdout",
     "output_type": "stream",
     "text": [
      "M=-2.82757, E0=-3.1169, e=0.984516 \n",
      "Cubic polynomial centered at X =0.129943\n",
      "Starting guess (approx. zero of cubic polynomial): X0 =0.130242\n",
      "i=5, X=0.130242, dX=-3.62867e-17, errX=3.51349e-34\n",
      "Success: E=-2.98303, X=0.130242, errX=3.51349e-34, iters=1\n"
     ]
    }
   ],
   "source": [
    "dt=0.1\n",
    "G=[0.,0.,0.];\n",
    "KeplerSolve(r0,eta,zeta,beta,k,dt,X,G)"
   ]
  },
  {
   "cell_type": "code",
   "execution_count": 7,
   "metadata": {
    "collapsed": false
   },
   "outputs": [
    {
     "data": {
      "text/plain": [
       "2-element Array{Array{Float64,1},1}:\n",
       " [0.130242]     \n",
       " [0.0, 0.0, 0.0]"
      ]
     },
     "execution_count": 7,
     "metadata": {},
     "output_type": "execute_result"
    }
   ],
   "source": [
    "[X,G]"
   ]
  },
  {
   "cell_type": "code",
   "execution_count": 8,
   "metadata": {
    "collapsed": false
   },
   "outputs": [
    {
     "name": "stdout",
     "output_type": "stream",
     "text": [
      "M=-3.09257, E0=-3.1169, e=0.984516 \n",
      "Starting guess: X0 =0\n",
      "i=3, X=1.29943e-05, dX=1.29943e-05, errX=5.08421e-16\n",
      "i=5, X=1.29943e-05, dX=1.91745e-16, errX=9.75098e-33\n",
      "Success: E=-3.11689, X=1.29943e-05, errX=9.75098e-33, iters=1\n"
     ]
    }
   ],
   "source": [
    "dt=0.00001\n",
    "G=[0.,0.,0.];\n",
    "KeplerSolve(r0,eta,zeta,beta,k,dt,X,G)"
   ]
  },
  {
   "cell_type": "code",
   "execution_count": 9,
   "metadata": {
    "collapsed": false
   },
   "outputs": [
    {
     "data": {
      "text/plain": [
       "2-element Array{Array{Float64,1},1}:\n",
       " [1.29943e-5]   \n",
       " [0.0, 0.0, 0.0]"
      ]
     },
     "execution_count": 9,
     "metadata": {},
     "output_type": "execute_result"
    }
   ],
   "source": [
    "[X,G]"
   ]
  },
  {
   "cell_type": "code",
   "execution_count": 10,
   "metadata": {
    "collapsed": false
   },
   "outputs": [
    {
     "name": "stdout",
     "output_type": "stream",
     "text": [
      "M=-3.0926, E0=-3.1169, e=0.984516 \n",
      "Starting guess: X0 =0\n",
      "i=3, X=1.29943e-08, dX=1.29943e-08, errX=5.08421e-25\n",
      "Success: E=-3.1169, X=1.29943e-08, errX=5.08421e-25, iters=1\n"
     ]
    }
   ],
   "source": [
    "dt=0.00000001\n",
    "G=[0.,0.,0.];\n",
    "KeplerSolve(r0,eta,zeta,beta,k,dt,X,G)"
   ]
  },
  {
   "cell_type": "code",
   "execution_count": 11,
   "metadata": {
    "collapsed": false
   },
   "outputs": [
    {
     "data": {
      "text/plain": [
       "2-element Array{Array{Float64,1},1}:\n",
       " [1.29943e-8]   \n",
       " [0.0, 0.0, 0.0]"
      ]
     },
     "execution_count": 11,
     "metadata": {},
     "output_type": "execute_result"
    }
   ],
   "source": [
    "[X,G]"
   ]
  },
  {
   "cell_type": "code",
   "execution_count": null,
   "metadata": {
    "collapsed": true
   },
   "outputs": [],
   "source": []
  }
 ],
 "metadata": {
  "anaconda-cloud": {},
  "kernelspec": {
   "display_name": "Julia 1.0.1",
   "language": "julia",
   "name": "julia-1.0"
  },
  "language_info": {
   "file_extension": ".jl",
   "mimetype": "application/julia",
   "name": "julia",
   "version": "1.0.1"
  }
 },
 "nbformat": 4,
 "nbformat_minor": 1
}

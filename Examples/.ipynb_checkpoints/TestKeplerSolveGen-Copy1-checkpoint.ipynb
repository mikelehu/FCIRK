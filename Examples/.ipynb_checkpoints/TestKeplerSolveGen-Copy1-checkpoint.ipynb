{
 "cells": [
  {
   "cell_type": "code",
   "execution_count": 1,
   "metadata": {
    "collapsed": true
   },
   "outputs": [],
   "source": [
    "using NBInclude;"
   ]
  },
  {
   "cell_type": "code",
   "execution_count": 2,
   "metadata": {
    "collapsed": true
   },
   "outputs": [],
   "source": [
    "@nbinclude(\"../MyPackages/MyKeplerSolve.ipynb\");"
   ]
  },
  {
   "cell_type": "code",
   "execution_count": 7,
   "metadata": {
    "collapsed": false
   },
   "outputs": [],
   "source": [
    "dt=0.1\n",
    "Q=[1.,1.,1.]\n",
    "V=[-1.,1.,-1.]\n",
    "k=0.;"
   ]
  },
  {
   "cell_type": "code",
   "execution_count": 8,
   "metadata": {
    "collapsed": false
   },
   "outputs": [
    {
     "data": {
      "text/plain": [
       "([0.9, 1.1, 0.9], [-1.0, 1.0, -1.0], [NaN, 0.0, 1.4822e-323, 6.95088e-310, 6.95088e-310, 6.95088e-310, 6.95088e-310, 1.4822e-323, 9.88131e-324, 6.95088e-310, 6.95088e-310, 0.0, 6.95088e-310, 6.95088e-310, 6.95088e-310])"
      ]
     },
     "execution_count": 8,
     "metadata": {},
     "output_type": "execute_result"
    }
   ],
   "source": [
    "CKeplerSolveGen(dt,Q,V,k)"
   ]
  },
  {
   "cell_type": "code",
   "execution_count": 10,
   "metadata": {
    "collapsed": true
   },
   "outputs": [],
   "source": [
    "dt=0.1\n",
    "Q=[1.,1.,1.]\n",
    "V=[-1.,1.,-1.]\n",
    "k=1.;"
   ]
  },
  {
   "cell_type": "code",
   "execution_count": 11,
   "metadata": {
    "collapsed": false
   },
   "outputs": [
    {
     "name": "stdout",
     "output_type": "stream",
     "text": [
      "M=-nan, E0=-nan, e=-nan \n",
      "Cubic polynomial centered at X =0.81547\n",
      "Starting guess (exact zero of cubic polynomial): X0 =-nan\n",
      " i=6, X=-nan, dX=nan, errX=nan\n",
      "i=9, X=-nan, dX=nan, errX=nan\n",
      "i=12, X=-nan, dX=nan, errX=nan\n",
      "i=15, X=-nan, dX=nan, errX=nan\n",
      "i=18, X=-nan, dX=nan, errX=nan\n",
      "i=21, X=-nan, dX=nan, errX=nan\n",
      "i=24, X=-nan, dX=nan, errX=nan\n",
      "i=27, X=-nan, dX=nan, errX=nan\n",
      "i=30, X=-nan, dX=nan, errX=nan\n",
      "i=33, X=-nan, dX=nan, errX=nan\n",
      "i=36, X=-nan, dX=nan, errX=nan\n",
      "i=39, X=-nan, dX=nan, errX=nan\n",
      "i=42, X=-nan, dX=nan, errX=nan\n",
      "i=45, X=-nan, dX=nan, errX=nan\n",
      "i=48, X=-nan, dX=nan, errX=nan\n",
      "i=51, X=-nan, dX=nan, errX=nan\n",
      "i=54, X=-nan, dX=nan, errX=nan\n",
      "i=57, X=-nan, dX=nan, errX=nan\n",
      "i=60, X=-nan, dX=nan, errX=nan\n",
      "i=63, X=-nan, dX=nan, errX=nan\n",
      "i=66, X=-nan, dX=nan, errX=nan\n",
      "i=69, X=-nan, dX=nan, errX=nan\n",
      "i=72, X=-nan, dX=nan, errX=nan\n",
      "i=75, X=-nan, dX=nan, errX=nan\n",
      "i=78, X=-nan, dX=nan, errX=nan\n",
      "i=81, X=-nan, dX=nan, errX=nan\n",
      "i=84, X=-nan, dX=nan, errX=nan\n",
      "i=87, X=-nan, dX=nan, errX=nan\n",
      "i=90, X=-nan, dX=nan, errX=nan\n",
      "i=93, X=-nan, dX=nan, errX=nan\n",
      "i=96, X=-nan, dX=nan, errX=nan\n",
      "i=99, X=-nan, dX=nan, errX=nan\n",
      "i=102, X=-nan, dX=nan, errX=nan\n",
      "i=105, X=-nan, dX=nan, errX=nan\n",
      "i=108, X=-nan, dX=nan, errX=nan\n",
      "i=111, X=-nan, dX=nan, errX=nan\n",
      "i=114, X=-nan, dX=nan, errX=nan\n",
      "i=117, X=-nan, dX=nan, errX=nan\n",
      "i=120, X=-nan, dX=nan, errX=nan\n",
      "i=123, X=-nan, dX=nan, errX=nan\n",
      "i=126, X=-nan, dX=nan, errX=nan\n",
      "i=129, X=-nan, dX=nan, errX=nan\n",
      "i=132, X=-nan, dX=nan, errX=nan\n",
      "i=135, X=-nan, dX=nan, errX=nan\n",
      "i=138, X=-nan, dX=nan, errX=nan\n",
      "i=141, X=-nan, dX=nan, errX=nan\n",
      "i=144, X=-nan, dX=nan, errX=nan\n",
      "i=147, X=-nan, dX=nan, errX=nan\n",
      "i=150, X=-nan, dX=nan, errX=nan\n",
      "i=153, X=-nan, dX=nan, errX=nan\n",
      "i=156, X=-nan, dX=nan, errX=nan\n",
      "i=159, X=-nan, dX=nan, errX=nan\n",
      "i=162, X=-nan, dX=nan, errX=nan\n",
      "i=165, X=-nan, dX=nan, errX=nan\n",
      "i=168, X=-nan, dX=nan, errX=nan\n",
      "i=171, X=-nan, dX=nan, errX=nan\n",
      "i=174, X=-nan, dX=nan, errX=nan\n",
      "i=177, X=-nan, dX=nan, errX=nan\n",
      "i=180, X=-nan, dX=nan, errX=nan\n",
      "i=183, X=-nan, dX=nan, errX=nan\n",
      "i=186, X=-nan, dX=nan, errX=nan\n",
      "i=189, X=-nan, dX=nan, errX=nan\n",
      "i=192, X=-nan, dX=nan, errX=nan\n",
      "i=195, X=-nan, dX=nan, errX=nan\n",
      "i=198, X=-nan, dX=nan, errX=nan\n",
      "i=201, X=-nan, dX=nan, errX=nan\n",
      "i=204, X=-nan, dX=nan, errX=nan\n",
      "i=207, X=-nan, dX=nan, errX=nan\n",
      "i=210, X=-nan, dX=nan, errX=nan\n",
      "i=213, X=-nan, dX=nan, errX=nan\n",
      "i=216, X=-nan, dX=nan, errX=nan\n",
      "i=219, X=-nan, dX=nan, errX=nan\n",
      "i=222, X=-nan, dX=nan, errX=nan\n",
      "i=225, X=-nan, dX=nan, errX=nan\n",
      "i=228, X=-nan, dX=nan, errX=nan\n",
      "i=231, X=-nan, dX=nan, errX=nan\n",
      "i=234, X=-nan, dX=nan, errX=nan\n",
      "i=237, X=-nan, dX=nan, errX=nan\n",
      "i=240, X=-nan, dX=nan, errX=nan\n",
      "i=243, X=-nan, dX=nan, errX=nan\n",
      "i=246, X=-nan, dX=nan, errX=nan\n",
      "i=249, X=-nan, dX=nan, errX=nan\n",
      "i=252, X=-nan, dX=nan, errX=nan\n",
      "i=255, X=-nan, dX=nan, errX=nan\n",
      "i=258, X=-nan, dX=nan, errX=nan\n",
      "i=261, X=-nan, dX=nan, errX=nan\n",
      "i=264, X=-nan, dX=nan, errX=nan\n",
      "i=267, X=-nan, dX=nan, errX=nan\n",
      "i=270, X=-nan, dX=nan, errX=nan\n",
      "i=273, X=-nan, dX=nan, errX=nan\n",
      "i=276, X=-nan, dX=nan, errX=nan\n",
      "i=279, X=-nan, dX=nan, errX=nan\n",
      "i=282, X=-nan, dX=nan, errX=nan\n",
      "i=285, X=-nan, dX=nan, errX=nan\n",
      "i=288, X=-nan, dX=nan, errX=nan\n",
      "i=291, X=-nan, dX=nan, errX=nan\n",
      "i=294, X=-nan, dX=nan, errX=nan\n",
      "i=297, X=-nan, dX=nan, errX=nan\n",
      "Failure: E=?, E0=-nan, e=-nan\n"
     ]
    },
    {
     "data": {
      "text/plain": [
       "([NaN, NaN, NaN], [NaN, NaN, NaN], [1.73205, -1.0, 0.57735, -1.8453, -0.541917, 4.19615, NaN, NaN, NaN, NaN, NaN, NaN, NaN, NaN, NaN])"
      ]
     },
     "execution_count": 11,
     "metadata": {},
     "output_type": "execute_result"
    }
   ],
   "source": [
    "CKeplerSolveGen(dt,Q,V,k)"
   ]
  },
  {
   "cell_type": "code",
   "execution_count": null,
   "metadata": {
    "collapsed": true
   },
   "outputs": [],
   "source": []
  }
 ],
 "metadata": {
  "anaconda-cloud": {},
  "kernelspec": {
   "display_name": "Julia 1.1.0",
   "language": "julia",
   "name": "julia-1.1"
  },
  "language_info": {
   "file_extension": ".jl",
   "mimetype": "application/julia",
   "name": "julia",
   "version": "1.1.0"
  }
 },
 "nbformat": 4,
 "nbformat_minor": 1
}

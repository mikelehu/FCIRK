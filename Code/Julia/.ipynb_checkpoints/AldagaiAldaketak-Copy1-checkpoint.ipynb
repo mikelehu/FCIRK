{
 "cells": [
  {
   "cell_type": "code",
   "execution_count": 43,
   "metadata": {
    "collapsed": true
   },
   "outputs": [],
   "source": [
    "#AldagaiAldaketaQ(qq,Gm);\n",
    "#AldagaiAldaketaQInv(QQ,Gm);\n",
    "#AldagaiAldaketaP(pp,Gm)\n",
    "#AldagaiAldaketaPInv(PP,Gm)\n",
    "#AldagaiAldaketaV(vv,Gm)\n",
    "#AldagaiAldaketaVInv(VV,Gm)\n",
    "#AldagaiAldaketa(u,Gm)\n",
    "#AldagaiAldaketaInv(U,Gm)"
   ]
  },
  {
   "cell_type": "code",
   "execution_count": 44,
   "metadata": {
    "collapsed": false
   },
   "outputs": [
    {
     "data": {
      "text/plain": [
       "AldagaiAldaketaQ (generic function with 1 method)"
      ]
     },
     "execution_count": 44,
     "metadata": {},
     "output_type": "execute_result"
    }
   ],
   "source": [
    "function AldagaiAldaketaQ(qq,Gm)\n",
    "    \n",
    "    dim=3;\n",
    "    nbody=size(Gm)[1];\n",
    "    iE=nbody-1;\n",
    "    iM=nbody;\n",
    "    iE1 = (iE-1)*dim;\n",
    "    iM1 = (iM-1)*dim;\n",
    "    MM=sum(Gm);\n",
    "    QQ=zeros(BigFloat,dim*nbody);\n",
    "    \n",
    "#    QQ[1:3]=[0,0,0];\n",
    "    for i in 1:nbody\n",
    "        i1=(i-1)*dim;\n",
    "        QQ[1:3]+=(Gm[i]*qq[i1+1:i1+3])/MM; \n",
    "    end\n",
    "    \n",
    "    for i in 2:nbody-2\n",
    "        i1=(i-1)*dim;\n",
    "        QQ[i1+1:i1+3]=qq[i1+1:i1+3]-qq[1:3];\n",
    "    end\n",
    "    \n",
    "    QQ[iE1+1:iE1+3]=(Gm[iE]*qq[iE1+1:iE1+3]+Gm[iM]*qq[iM1+1:iM1+3])/(Gm[iE]+Gm[iM])-qq[1:3];\n",
    "    QQ[iM1+1:iM1+3]=Gm[iE]/(Gm[iE]+Gm[iM])*(qq[iM1+1:iM1+3]-qq[iE1+1:iE1+3]);\n",
    "    \n",
    "    return QQ\n",
    "    \n",
    "end    "
   ]
  },
  {
   "cell_type": "code",
   "execution_count": 45,
   "metadata": {
    "collapsed": false
   },
   "outputs": [
    {
     "data": {
      "text/plain": [
       "AldagaiAldaketaQInv (generic function with 1 method)"
      ]
     },
     "execution_count": 45,
     "metadata": {},
     "output_type": "execute_result"
    }
   ],
   "source": [
    "function AldagaiAldaketaQInv(QQ,Gm)\n",
    "    \n",
    "    dim=3;\n",
    "    nbody=size(Gm)[1];\n",
    "    iE=nbody-1;\n",
    "    iM=nbody;\n",
    "    iE1 = (iE-1)*dim;\n",
    "    iM1 = (iM-1)*dim;\n",
    "    MM=sum(Gm);\n",
    "    \n",
    "    qB=QQ[iE1+1:iE1+3];\n",
    "    qMB=QQ[iM1+1:iM1+3];\n",
    "    qN=qB+qMB;\n",
    "    qE=qB-Gm[iM]*qMB/Gm[iE];\n",
    "    \n",
    "    Q=copy(QQ);\n",
    "    Q[iE1+1:iE1+3]=qE;\n",
    "    Q[iM1+1:iM1+3]=qN;\n",
    "    \n",
    "    q=zeros(BigFloat,size(Q)[1]);\n",
    "    \n",
    "    q[1:3]=Q[1:3];\n",
    "    for i in 2:nbody\n",
    "        i1=(i-1)*dim;\n",
    "        q[1:3]-=(Gm[i]*Q[i1+1:i1+3])/MM;\n",
    "    end\n",
    "    \n",
    "    for i in 2:nbody \n",
    "        i1=(i-1)*dim;\n",
    "        q[i1+1:i1+3]=Q[i1+1:i1+3]+q[1:3]\n",
    "    end\n",
    "    \n",
    "    return q\n",
    "\n",
    "end\n"
   ]
  },
  {
   "cell_type": "code",
   "execution_count": 46,
   "metadata": {
    "collapsed": false
   },
   "outputs": [
    {
     "data": {
      "text/plain": [
       "AldagaiAldaketaP (generic function with 1 method)"
      ]
     },
     "execution_count": 46,
     "metadata": {},
     "output_type": "execute_result"
    }
   ],
   "source": [
    "function AldagaiAldaketaP(pp,Gm)\n",
    "    \n",
    "    dim=3;\n",
    "    nbody=size(Gm)[1];\n",
    "    iE=nbody-1;\n",
    "    iM=nbody;\n",
    "    iE1 = (iE-1)*dim;\n",
    "    iM1 = (iM-1)*dim;\n",
    "    MM=sum(Gm);\n",
    "    PP=zeros(BigFloat,dim*nbody);\n",
    "    \n",
    "       \n",
    "#    PP[1:3]=[0,0,0];\n",
    "    for i in 1:nbody\n",
    "        i1=(i-1)*dim;\n",
    "        PP[1:3]+=pp[i1+1:i1+3]; \n",
    "    end\n",
    "    \n",
    "    for i in 2:nbody-2\n",
    "        i1=(i-1)*dim;\n",
    "        PP[i1+1:i1+3]=pp[i1+1:i1+3]-Gm[i]/MM*PP[1:3];\n",
    "    end\n",
    "    \n",
    "    PP[iE1+1:iE1+3]=pp[iE1+1:iE1+3]+pp[iM1+1:iM1+3]-(Gm[iE]+Gm[iM])/MM*PP[1:3];\n",
    "    PP[iM1+1:iM1+3]=pp[iM1+1:iM1+3]-Gm[iM]/Gm[iE]*pp[iE1+1:iE1+3];\n",
    "    \n",
    "    return PP\n",
    "    \n",
    "end\n",
    "    "
   ]
  },
  {
   "cell_type": "code",
   "execution_count": 47,
   "metadata": {
    "collapsed": false
   },
   "outputs": [
    {
     "data": {
      "text/plain": [
       "AldagaiAldaketaPInv (generic function with 1 method)"
      ]
     },
     "execution_count": 47,
     "metadata": {},
     "output_type": "execute_result"
    }
   ],
   "source": [
    "function AldagaiAldaketaPInv(PP,Gm)\n",
    "    \n",
    "    dim=3;\n",
    "    nbody=size(Gm)[1];\n",
    "    iE=nbody-1;\n",
    "    iM=nbody;\n",
    "    iE1 = (iE-1)*dim;\n",
    "    iM1 = (iM-1)*dim;\n",
    "    MM=sum(Gm);\n",
    "    pp=zeros(BigFloat,dim*nbody);\n",
    "    \n",
    "    \n",
    "    pp[iE1+1:iE1+3]=Gm[iE]/(Gm[iE]+Gm[iM])*(PP[iE1+1:iE1+3]-\n",
    "                   PP[iM1+1:iM1+3]+(Gm[iE]+Gm[iM])/MM*PP[1:3]);\n",
    "\n",
    "    pp[iM1+1:iM1+3]=PP[iM1+1:iM1+3]+Gm[iM]/Gm[iE]*pp[iE1+1:iE1+3];\n",
    "       \n",
    "    for i in 2:nbody-2\n",
    "        i1=(i-1)*dim;\n",
    "        pp[i1+1:i1+3]=PP[i1+1:i1+3]+Gm[i]/MM*PP[1:3];\n",
    "    end  \n",
    "     \n",
    "    pp[1:3]=PP[1:3];    \n",
    "    for i in 2:nbody\n",
    "        i1=(i-1)*dim;\n",
    "        pp[1:3]-=pp[i1+1:i1+3];\n",
    "    end\n",
    "          \n",
    "    return pp\n",
    "    \n",
    "end\n",
    "    "
   ]
  },
  {
   "cell_type": "code",
   "execution_count": 48,
   "metadata": {
    "collapsed": false
   },
   "outputs": [
    {
     "data": {
      "text/plain": [
       "AldagaiAldaketaV (generic function with 1 method)"
      ]
     },
     "execution_count": 48,
     "metadata": {},
     "output_type": "execute_result"
    }
   ],
   "source": [
    "function AldagaiAldaketaV(vv,Gm)\n",
    "    \n",
    "    dim=3;\n",
    "    nbody=size(Gm)[1];\n",
    "    iE=nbody-1;\n",
    "    iM=nbody;\n",
    "    iE1 = (iE-1)*dim;\n",
    "    iM1 = (iM-1)*dim;\n",
    "    MM=sum(Gm);\n",
    "    pp=zeros(BigFloat,dim*nbody);\n",
    "    \n",
    "\n",
    "    for i in 1:nbody\n",
    "        i1=(i-1)*dim;\n",
    "        pp[i1+1:i1+3]=Gm[i]*vv[i1+1:i1+3];\n",
    "    end\n",
    "    \n",
    "    PP = AldagaiAldaketaP(pp,Gm);\n",
    "    \n",
    "    mu=zeros(BigFloat,nbody);\n",
    "    GmSun=Gm[1]; \n",
    "    \n",
    "    for i in 1:nbody-2\n",
    "        mu[i]=(GmSun*Gm[i])/(GmSun+Gm[i]);\n",
    "    end\n",
    "    \n",
    "    mu[iE]=GmSun*(Gm[iE]+Gm[iM])/(GmSun+Gm[iE]+Gm[iM]);\n",
    "    mu[iM]=Gm[iM]*(Gm[iE]+Gm[iM])/Gm[iE];\n",
    "    \n",
    "    VV=zeros(BigFloat,dim*nbody);\n",
    "    \n",
    "    for i in 1:nbody\n",
    "        i1=(i-1)*dim;\n",
    "        VV[i1+1:i1+3]= PP[i1+1:i1+3]/mu[i];\n",
    "    end\n",
    "    \n",
    "    return VV\n",
    "    \n",
    "end\n"
   ]
  },
  {
   "cell_type": "code",
   "execution_count": 49,
   "metadata": {
    "collapsed": false
   },
   "outputs": [
    {
     "data": {
      "text/plain": [
       "AldagaiAldaketaVInv (generic function with 1 method)"
      ]
     },
     "execution_count": 49,
     "metadata": {},
     "output_type": "execute_result"
    }
   ],
   "source": [
    "function AldagaiAldaketaVInv(VV,Gm)\n",
    "    \n",
    "    dim=3;\n",
    "    nbody=size(Gm)[1];\n",
    "    iE=nbody-1;\n",
    "    iM=nbody;\n",
    "    iE1 = (iE-1)*dim;\n",
    "    iM1 = (iM-1)*dim;\n",
    "    MM=sum(Gm);\n",
    "    \n",
    "    mu=zeros(BigFloat,nbody);\n",
    "    GmSun=Gm[1]; \n",
    "    \n",
    "    for i in 1:nbody-2\n",
    "        mu[i]=(GmSun*Gm[i])/(GmSun+Gm[i]);\n",
    "    end\n",
    "    \n",
    "    mu[iE]=GmSun*(Gm[iE]+Gm[iM])/(GmSun+Gm[iE]+Gm[iM]);\n",
    "    mu[iM]=Gm[iM]*(Gm[iE]+Gm[iM])/Gm[iE];    \n",
    "    \n",
    "    PP=zeros(BigFloat,dim*nbody);\n",
    "    \n",
    "    for i in 1:nbody\n",
    "        i1=(i-1)*dim;\n",
    "        PP[i1+1:i1+3]=mu[i]*VV[i1+1:i1+3];\n",
    "    end\n",
    "    \n",
    "    pp = AldagaiAldaketaPInv(PP,Gm);\n",
    "    \n",
    "    \n",
    "    vv=zeros(BigFloat,dim*nbody);\n",
    "    \n",
    "    for i in 1:nbody\n",
    "        i1=(i-1)*dim;\n",
    "        vv[i1+1:i1+3]= pp[i1+1:i1+3]/Gm[i];\n",
    "    end\n",
    "    \n",
    "    return vv\n",
    "    \n",
    "end   "
   ]
  },
  {
   "cell_type": "code",
   "execution_count": 50,
   "metadata": {
    "collapsed": false
   },
   "outputs": [
    {
     "data": {
      "text/plain": [
       "AldagaiAldaketa (generic function with 1 method)"
      ]
     },
     "execution_count": 50,
     "metadata": {},
     "output_type": "execute_result"
    }
   ],
   "source": [
    "function AldagaiAldaketa(u,Gm)\n",
    "    \n",
    "    dim=3;\n",
    "    nbody=size(Gm)[1];\n",
    "    n=dim*nbody;\n",
    "    \n",
    "    q=u[1:n];\n",
    "    v=u[n+1:end];\n",
    "    Q = AldagaiAldaketaQ(q,Gm);\n",
    "    V = AldagaiAldaketaV(v,Gm);\n",
    "\n",
    "    return vcat(Q,V);\n",
    "    \n",
    "end"
   ]
  },
  {
   "cell_type": "code",
   "execution_count": 51,
   "metadata": {
    "collapsed": false
   },
   "outputs": [
    {
     "data": {
      "text/plain": [
       "AldagaiAldaketaInv (generic function with 1 method)"
      ]
     },
     "execution_count": 51,
     "metadata": {},
     "output_type": "execute_result"
    }
   ],
   "source": [
    "function AldagaiAldaketaInv(U,Gm)\n",
    "    \n",
    "    dim=3;\n",
    "    nbody=size(Gm)[1];\n",
    "    n=dim*nbody;\n",
    "    \n",
    "    Q=U[1:n];\n",
    "    V=U[n+1:end];\n",
    "    q = AldagaiAldaketaQInv(Q,Gm);\n",
    "    v = AldagaiAldaketaVInv(V,Gm);\n",
    "\n",
    "    return vcat(q,v);\n",
    "    \n",
    "end"
   ]
  },
  {
   "cell_type": "code",
   "execution_count": 52,
   "metadata": {
    "collapsed": false
   },
   "outputs": [],
   "source": [
    "setprecision(100)   #number of bit of sigfinicant\n",
    "dim=3;\n",
    "nbody=11;"
   ]
  },
  {
   "cell_type": "code",
   "execution_count": 53,
   "metadata": {
    "collapsed": false
   },
   "outputs": [
    {
     "data": {
      "text/plain": [
       "1.3663471679475690676516519897628e-30"
      ]
     },
     "execution_count": 53,
     "metadata": {},
     "output_type": "execute_result"
    }
   ],
   "source": [
    "aux=rand(dim*nbody);\n",
    "qqs=map((x) -> BigFloat(x), aux)\n",
    "aux=rand(nbody);\n",
    "Gms=map((x) -> BigFloat(x), aux);\n",
    "QQs=AldagaiAldaketaQ(qqs,Gms);\n",
    "qqb=AldagaiAldaketaQInv(QQs,Gms);\n",
    "norm(qqb-qqs)"
   ]
  },
  {
   "cell_type": "code",
   "execution_count": 54,
   "metadata": {
    "collapsed": false
   },
   "outputs": [
    {
     "data": {
      "text/plain": [
       "2.3686361500759641936439456287463e-30"
      ]
     },
     "execution_count": 54,
     "metadata": {},
     "output_type": "execute_result"
    }
   ],
   "source": [
    "aux=rand(dim*nbody);\n",
    "pps=map((x) -> BigFloat(x), aux);\n",
    "aux=rand(nbody);\n",
    "Gms=map((x) -> BigFloat(x), aux);\n",
    "PPs=AldagaiAldaketaP(pps,Gms);\n",
    "ppb=AldagaiAldaketaPInv(PPs,Gms);\n",
    "norm(ppb-pps)"
   ]
  },
  {
   "cell_type": "code",
   "execution_count": 55,
   "metadata": {
    "collapsed": false
   },
   "outputs": [
    {
     "data": {
      "text/plain": [
       "1.203093703659451011818305565315e-29"
      ]
     },
     "execution_count": 55,
     "metadata": {},
     "output_type": "execute_result"
    }
   ],
   "source": [
    "aux=rand(dim*nbody);\n",
    "vvs=map((x) -> BigFloat(x), aux);\n",
    "aux=rand(nbody);\n",
    "Gms=map((x) -> BigFloat(x), aux);\n",
    "VVs=AldagaiAldaketaV(vvs,Gms);\n",
    "vvb=AldagaiAldaketaVInv(VVs,Gms);\n",
    "norm(vvb-vvs)"
   ]
  },
  {
   "cell_type": "code",
   "execution_count": 56,
   "metadata": {
    "collapsed": false
   },
   "outputs": [
    {
     "data": {
      "text/plain": [
       "1.7094775193875860556063134195143e-29"
      ]
     },
     "execution_count": 56,
     "metadata": {},
     "output_type": "execute_result"
    }
   ],
   "source": [
    "aux=rand(2*dim*nbody);\n",
    "uus=map((x) -> BigFloat(x), aux);\n",
    "aux=rand(nbody);\n",
    "Gms=map((x) -> BigFloat(x), aux);\n",
    "UUs=AldagaiAldaketa(uus,Gms);\n",
    "uub=AldagaiAldaketaInv(UUs,Gms);\n",
    "norm(uub-uus)"
   ]
  },
  {
   "cell_type": "code",
   "execution_count": null,
   "metadata": {
    "collapsed": true
   },
   "outputs": [],
   "source": []
  }
 ],
 "metadata": {
  "anaconda-cloud": {},
  "kernelspec": {
   "display_name": "Julia 0.6.2",
   "language": "julia",
   "name": "julia-0.6"
  },
  "language_info": {
   "file_extension": ".jl",
   "mimetype": "application/julia",
   "name": "julia",
   "version": "0.6.2"
  }
 },
 "nbformat": 4,
 "nbformat_minor": 1
}

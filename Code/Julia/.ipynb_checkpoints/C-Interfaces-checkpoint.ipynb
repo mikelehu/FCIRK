{
 "cells": [
  {
   "cell_type": "markdown",
   "metadata": {},
   "source": [
    "# C-Interfaces"
   ]
  },
  {
   "cell_type": "markdown",
   "metadata": {},
   "source": [
    "<ul id=\"top\">\n",
    "  <li><a href=\"#My-Structs\">My Structs</a></li>\n",
    "  <li><a href=\"#FCIRK-implementation\">FCIRK-implementation</a></li>\n",
    "  <li><a href=\"#IRK-implementation\">IRK-implementation</a></li>\n",
    "  <li><a href=\"#Composition-implementation\">Composition-implementation</a></li>\n",
    "    <li><a href=\"#Binary-IO\">Binary-IO</a></li>\n",
    "</ul>"
   ]
  },
  {
   "cell_type": "markdown",
   "metadata": {},
   "source": [
    "## My Structs"
   ]
  },
  {
   "cell_type": "code",
   "execution_count": 1,
   "metadata": {
    "collapsed": false
   },
   "outputs": [],
   "source": [
    "struct MyODEProblem\n",
    "           Nkepler::Int64\n",
    "           Moreq::Int64\n",
    "           codfun::Int64  \n",
    "           tspan::Tuple{Float64,Float64}\n",
    "           h::Float64           \n",
    "           u0:: Array{BigFloat,1}\n",
    "           k:: Array{BigFloat,1} \n",
    "           rpar:: Array{BigFloat,1}\n",
    "           ipar::Array{Int32,1}\n",
    "end"
   ]
  },
  {
   "cell_type": "code",
   "execution_count": 3,
   "metadata": {
    "collapsed": false
   },
   "outputs": [],
   "source": [
    "function MySolve(prob:: MyODEProblem,\n",
    "                  alg:: Function,\n",
    "                  ns::Int64,\n",
    "                  myfilename::String, \n",
    "                  saveat::Int64, \n",
    "                  threads=1::Int64)   # Optional argument \n",
    "\n",
    "    alg(prob,ns,myfilename,saveat,threads)\n",
    "    \n",
    "end;    "
   ]
  },
  {
   "cell_type": "markdown",
   "metadata": {},
   "source": [
    "<a href=\"#top\">Back to the top</a>"
   ]
  },
  {
   "cell_type": "markdown",
   "metadata": {},
   "source": [
    "## FCIRK implementation"
   ]
  },
  {
   "cell_type": "code",
   "execution_count": 31,
   "metadata": {
    "collapsed": true
   },
   "outputs": [],
   "source": [
    "#   FCIRK implementation:\n",
    "#      doubleFCIRK\n",
    "#      longFCIRK\n",
    "#      quadFCIRK\n",
    "#"
   ]
  },
  {
   "cell_type": "code",
   "execution_count": 2,
   "metadata": {
    "collapsed": false
   },
   "outputs": [
    {
     "data": {
      "text/plain": [
       "quadFCIRK (generic function with 2 methods)"
      ]
     },
     "execution_count": 2,
     "metadata": {},
     "output_type": "execute_result"
    }
   ],
   "source": [
    "function quadFCIRK( prob::MyODEProblem,\n",
    "                     ns:: Int64,\n",
    "                     myfilename::String, \n",
    "                     saveat::Int64, \n",
    "                     threads=1::Int64   # Optional argument\n",
    "    ) \n",
    "    #\n",
    "    result_array=Array{Float64}(undef,10)\n",
    "    ulen=size(prob.u0)[1]\n",
    "    klen=size(prob.k)[1]\n",
    "    rlen=size(prob.rpar)[1]\n",
    "    ilen=size(prob.ipar)[1]\n",
    "    errorcode=ccall(\n",
    "     # name of C function and library\n",
    "    (:quadFCIRK, :\"../../../Code/C/Code-FCIRK/libFCIRKQUAD\"),\n",
    "    # output type\n",
    "     Cint,     \n",
    "    # tuple of input types\n",
    "    (Cint,Cint,Cint,Cdouble,Cdouble,                         \n",
    "     Ptr{BigFloat},Cint,\n",
    "     Cdouble,\n",
    "     Ptr{BigFloat},Cint,\n",
    "     Ptr{BigFloat},Cint,\n",
    "     Ptr{Cint},Cint,\n",
    "     Cstring,Cint, Cint,\n",
    "     Cint,\n",
    "     Ref{Cdouble}),\n",
    "    # name of Julia variables to pass in\n",
    "     prob.Nkepler,prob.Moreq,ns,prob.tspan[1],prob.tspan[2],   \n",
    "     prob.u0,ulen,prob.h,prob.k,klen,prob.rpar,rlen,prob.ipar,ilen,\n",
    "     myfilename,saveat,\n",
    "     prob.codfun,\n",
    "     threads,\n",
    "     result_array\n",
    "    )\n",
    "    if errorcode !=0 \n",
    "        print(\"error at quad-FCIRK.c\")\n",
    "    end\n",
    "    return result_array\n",
    "\n",
    "end"
   ]
  },
  {
   "cell_type": "code",
   "execution_count": 33,
   "metadata": {
    "collapsed": false
   },
   "outputs": [
    {
     "data": {
      "text/plain": [
       "longFCIRK (generic function with 2 methods)"
      ]
     },
     "execution_count": 33,
     "metadata": {},
     "output_type": "execute_result"
    }
   ],
   "source": [
    "function longFCIRK( prob::MyODEProblem,\n",
    "                     ns:: Int64,\n",
    "                     myfilename::String, \n",
    "                     saveat::Int64, \n",
    "                     threads=1::Int64   # Optional argument\n",
    "    ) \n",
    "    #\n",
    "    result_array=Array{Float64}(undef,10)\n",
    "    ulen=size(prob.u0)[1];\n",
    "    klen=size(prob.k)[1];\n",
    "    rlen=size(prob.rpar)[1];\n",
    "    ilen=size(prob.ipar)[1];\n",
    "    errorcode=ccall(\n",
    "    # name of C function and library\n",
    "    (:longFCIRK, :\"../../../Code/C/Code-FCIRK/libFCIRKLONG\"),\n",
    "    # output type\n",
    "     Cint,  \n",
    "    # tuple of input types\n",
    "    (Cint,Cint,Cint,Cdouble,Cdouble,                         \n",
    "     Ptr{BigFloat},Cint,\n",
    "     Cdouble,\n",
    "     Ptr{BigFloat},Cint,\n",
    "     Ptr{BigFloat},Cint,\n",
    "     Ptr{Cint},Cint,\n",
    "     Cstring,Cint, Cint,\n",
    "     Cint,\n",
    "     Ref{Cdouble}),\n",
    "    # name of Julia variables to pass in\n",
    "     prob.Nkepler,prob.Moreq,ns,prob.tspan[1],prob.tspan[2],    \n",
    "     prob.u0,ulen,prob.h,prob.k,klen,prob.rpar,rlen,prob.ipar,ilen,\n",
    "     myfilename,saveat,\n",
    "     prob.codfun,\n",
    "     threads,\n",
    "     result_array\n",
    "    )\n",
    "    if errorcode !=0 \n",
    "        print(\"error at long-FCIRK.c\")\n",
    "    end\n",
    "    return result_array\n",
    "\n",
    "end"
   ]
  },
  {
   "cell_type": "code",
   "execution_count": 34,
   "metadata": {
    "collapsed": false
   },
   "outputs": [
    {
     "data": {
      "text/plain": [
       "doubleFCIRK (generic function with 2 methods)"
      ]
     },
     "execution_count": 34,
     "metadata": {},
     "output_type": "execute_result"
    }
   ],
   "source": [
    "function doubleFCIRK( prob::MyODEProblem,\n",
    "                      ns:: Int64,\n",
    "                      myfilename::String, \n",
    "                      saveat::Int64, \n",
    "                      threads=1::Int64   # Optional argument\n",
    "    ) \n",
    "    #\n",
    "    result_array=Array{Float64}(undef,10)\n",
    "    ulen=size(prob.u0)[1];\n",
    "    klen=size(prob.k)[1];\n",
    "    rlen=size(prob.rpar)[1];\n",
    "    ilen=size(prob.ipar)[1];\n",
    "    errorcode=ccall(\n",
    "    # name of C function and library\n",
    "    (:doubleFCIRK, :\"../../../Code/C/Code-FCIRK/libFCIRKDOUBLE\"),\n",
    "     # output type\n",
    "     Cint,            \n",
    "    # tuple of input types\n",
    "    (Cint,Cint,Cint,Cdouble,Cdouble,                         \n",
    "     Ptr{BigFloat},Cint,\n",
    "     Cdouble,\n",
    "     Ptr{BigFloat},Cint,\n",
    "     Ptr{BigFloat},Cint,\n",
    "     Ptr{Cint},Cint,\n",
    "     Cstring,Cint, Cint,\n",
    "     Cint,\n",
    "     Ref{Cdouble}),\n",
    "     # name of Julia variables to pass in\n",
    "     prob.Nkepler,prob.Moreq,ns,prob.tspan[1],prob.tspan[2],   \n",
    "     prob.u0,ulen,prob.h,prob.k,klen,prob.rpar,rlen,prob.ipar,ilen,\n",
    "     myfilename,saveat,\n",
    "     prob.codfun,\n",
    "     threads,\n",
    "     result_array\n",
    "    )\n",
    "    \n",
    "   if errorcode !=0 \n",
    "        print(\"error at double-FCIRK.c\")\n",
    "    end\n",
    "    return result_array\n",
    "\n",
    "end"
   ]
  },
  {
   "cell_type": "markdown",
   "metadata": {},
   "source": [
    "<a href=\"#top\">Back to the top</a>"
   ]
  },
  {
   "cell_type": "markdown",
   "metadata": {},
   "source": [
    "## Binary-IO"
   ]
  },
  {
   "cell_type": "code",
   "execution_count": 43,
   "metadata": {
    "collapsed": true
   },
   "outputs": [],
   "source": [
    "#   Binary-Output\n",
    "#       Readbin\n",
    "#       Appendbin"
   ]
  },
  {
   "cell_type": "code",
   "execution_count": 54,
   "metadata": {
    "collapsed": false
   },
   "outputs": [
    {
     "data": {
      "text/plain": [
       "Readbin (generic function with 2 methods)"
      ]
     },
     "execution_count": 54,
     "metadata": {},
     "output_type": "execute_result"
    }
   ],
   "source": [
    "function Readbin(nout::Integer,neq::Integer,myfilename::String,\n",
    "                 ret=0::Int64   # Optional argument\n",
    "                 )\n",
    "\n",
    "    result_array=Vector{BigFloat}(undef,nout*(neq+1));     \n",
    "    \n",
    "     for i in 1:(nout*(neq+1)) \n",
    "       result_array[i]=BigFloat(0)\n",
    "    end\n",
    "\n",
    "    errorcode=ccall(\n",
    "    # name of C function and library\n",
    "    (:CReadBin, :\"../../../Code/C/Code-Binary/libCBinFilesWRA\"), \n",
    "    # output type\n",
    "    Cint,       \n",
    "    # tuple of input types\n",
    "   (Cint,Cint,Cstring,Ptr{BigFloat}),\n",
    "    # name of Julia variables to pass in\n",
    "    nout, neq, myfilename,result_array                 \n",
    "    )\n",
    "    if errorcode !=0 \n",
    "        error(\"error at CBinFilesWRA.c\")\n",
    "    end\n",
    "    \n",
    "    sol=transpose(reshape(result_array,neq+1,:))\n",
    "    \n",
    "    # Covert to sol as Array{Array{BigFloat,1},1}\n",
    "    \n",
    "    (rows,cols)=size(sol)\n",
    "    ti=Vector{BigFloat}(undef,rows) \n",
    "    ui=Vector{Vector{BigFloat}}(undef,rows)\n",
    "    \n",
    "    if (ret==0)\n",
    "        ti.=sol[:,1]\n",
    "        for i in 1:rows\n",
    "           ui[i]=sol[i,2:end]\n",
    "        end       \n",
    "        return ti,ui\n",
    "    else\n",
    "        return result_array\n",
    "    end\n",
    "end"
   ]
  },
  {
   "cell_type": "code",
   "execution_count": 46,
   "metadata": {
    "collapsed": false
   },
   "outputs": [
    {
     "data": {
      "text/plain": [
       "Appendbin (generic function with 1 method)"
      ]
     },
     "execution_count": 46,
     "metadata": {},
     "output_type": "execute_result"
    }
   ],
   "source": [
    "function Appendbin(nout::Integer,neq::Integer,myfilename::String,\n",
    "                   sol1::Array{Array{BigFloat,1},1})\n",
    "      \n",
    "    errorcode=ccall(\n",
    "    # name of C function and library\n",
    "    (:CAppendBin, :\"../../../Code/C/Code-Binary/libCBinFilesWRA\"),  \n",
    "    # output type\n",
    "     Cint,               \n",
    "    # tuple of input types\n",
    "    (Cint,Cint,Cstring,Ptr{BigFloat}),     \n",
    "    # name of Julia variables to pass in\n",
    "     nout,neq,myfilename,soli                           \n",
    "     )\n",
    "    if errorcode !=0 \n",
    "        error(\"error at CBinFilesWRA.c\")\n",
    "    end\n",
    "end"
   ]
  },
  {
   "cell_type": "markdown",
   "metadata": {},
   "source": [
    "<a href=\"#top\">Back to the top</a>"
   ]
  },
  {
   "cell_type": "code",
   "execution_count": null,
   "metadata": {
    "collapsed": true
   },
   "outputs": [],
   "source": []
  }
 ],
 "metadata": {
  "anaconda-cloud": {},
  "kernelspec": {
   "display_name": "Julia 1.0.1",
   "language": "julia",
   "name": "julia-1.0"
  },
  "language_info": {
   "file_extension": ".jl",
   "mimetype": "application/julia",
   "name": "julia",
   "version": "1.0.1"
  }
 },
 "nbformat": 4,
 "nbformat_minor": 1
}

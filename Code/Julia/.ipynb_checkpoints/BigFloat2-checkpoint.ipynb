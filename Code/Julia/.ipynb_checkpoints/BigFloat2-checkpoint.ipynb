{
 "cells": [
  {
   "cell_type": "code",
   "execution_count": 1,
   "metadata": {
    "collapsed": false
   },
   "outputs": [
    {
     "data": {
      "text/plain": [
       "256"
      ]
     },
     "execution_count": 1,
     "metadata": {},
     "output_type": "execute_result"
    }
   ],
   "source": [
    "precision(BigFloat)"
   ]
  },
  {
   "cell_type": "code",
   "execution_count": 2,
   "metadata": {
    "collapsed": false
   },
   "outputs": [
    {
     "data": {
      "text/plain": [
       "3-element Array{BigFloat,1}:\n",
       " 4.502508784640554470590778635141759878024458885192871093750000000000000000000000e-03\n",
       " 7.670764270910070906778210897414282953832298517227172851562500000000000000000000e-04\n",
       " 2.660579177669776399298151581263027765089645981788635253906250000000000000000000e-04"
      ]
     },
     "execution_count": 2,
     "metadata": {},
     "output_type": "execute_result"
    }
   ],
   "source": [
    "a1=BigFloat[0.0045025087846405547799999999999999,0.00076707642709100705,0.00026605791776697764]"
   ]
  },
  {
   "cell_type": "code",
   "execution_count": 3,
   "metadata": {
    "collapsed": true
   },
   "outputs": [],
   "source": [
    "a2=[BigFloat(0.00450250878464055477),BigFloat(0.00076707642709100705),BigFloat(0.00026605791776697764)];"
   ]
  },
  {
   "cell_type": "code",
   "execution_count": 4,
   "metadata": {
    "collapsed": false
   },
   "outputs": [
    {
     "data": {
      "text/plain": [
       "3-element Array{BigFloat,1}:\n",
       " 4.502508784640554770000000000000000000000000000000000000000000000000000000000004e-03\n",
       " 7.670764270910070500000000000000000000000000000000000000000000000000000000000008e-04\n",
       " 2.660579177669776400000000000000000000000000000000000000000000000000000000000006e-04"
      ]
     },
     "execution_count": 4,
     "metadata": {},
     "output_type": "execute_result"
    }
   ],
   "source": [
    "a3=[parse(BigFloat,\"0.00450250878464055477\"),parse(BigFloat,\"0.00076707642709100705\"),parse(BigFloat,\"0.00026605791776697764\")]"
   ]
  },
  {
   "cell_type": "code",
   "execution_count": 5,
   "metadata": {
    "collapsed": true
   },
   "outputs": [],
   "source": [
    "a4=Float64[0.00450250878464055477,0.00076707642709100705,0.00026605791776697764];"
   ]
  },
  {
   "cell_type": "code",
   "execution_count": 6,
   "metadata": {
    "collapsed": true
   },
   "outputs": [],
   "source": [
    "a5=Float32[0.00450250878464055477,0.00076707642709100705,0.00026605791776697764];"
   ]
  },
  {
   "cell_type": "code",
   "execution_count": 7,
   "metadata": {
    "collapsed": false
   },
   "outputs": [
    {
     "data": {
      "text/plain": [
       "5-element Array{DataType,1}:\n",
       " Array{BigFloat,1}\n",
       " Array{BigFloat,1}\n",
       " Array{BigFloat,1}\n",
       " Array{Float64,1} \n",
       " Array{Float32,1} "
      ]
     },
     "execution_count": 7,
     "metadata": {},
     "output_type": "execute_result"
    }
   ],
   "source": [
    "[typeof(a1),typeof(a2),typeof(a3),typeof(a4),typeof(a5)]"
   ]
  },
  {
   "cell_type": "code",
   "execution_count": 8,
   "metadata": {
    "collapsed": false
   },
   "outputs": [
    {
     "data": {
      "text/plain": [
       "3-element Array{BigFloat,1}:\n",
       " 0.000000000000000000000000000000000000000000000000000000000000000000000000000000\n",
       " 0.000000000000000000000000000000000000000000000000000000000000000000000000000000\n",
       " 0.000000000000000000000000000000000000000000000000000000000000000000000000000000"
      ]
     },
     "execution_count": 8,
     "metadata": {},
     "output_type": "execute_result"
    }
   ],
   "source": [
    "a12=a1-a2"
   ]
  },
  {
   "cell_type": "code",
   "execution_count": 9,
   "metadata": {
    "collapsed": false
   },
   "outputs": [
    {
     "data": {
      "text/plain": [
       "3-element Array{BigFloat,1}:\n",
       " -2.994092213648582401219755411148071289062500000000000000000000037123925256387283e-19\n",
       "  4.067782108974142829538322985172271728515624999999999999999999922467475581640156e-20\n",
       " -7.018484187369722349103540182113647460937500000000000000000063653256731476252114e-23"
      ]
     },
     "execution_count": 9,
     "metadata": {},
     "output_type": "execute_result"
    }
   ],
   "source": [
    "a13=a1-a3"
   ]
  },
  {
   "cell_type": "code",
   "execution_count": 10,
   "metadata": {
    "collapsed": false
   },
   "outputs": [
    {
     "data": {
      "text/plain": [
       "3-element Array{BigFloat,1}:\n",
       " 0.000000000000000000000000000000000000000000000000000000000000000000000000000000\n",
       " 0.000000000000000000000000000000000000000000000000000000000000000000000000000000\n",
       " 0.000000000000000000000000000000000000000000000000000000000000000000000000000000"
      ]
     },
     "execution_count": 10,
     "metadata": {},
     "output_type": "execute_result"
    }
   ],
   "source": [
    "a14=a1-a4"
   ]
  },
  {
   "cell_type": "code",
   "execution_count": 11,
   "metadata": {
    "collapsed": false
   },
   "outputs": [
    {
     "data": {
      "text/plain": [
       "3-element Array{BigFloat,1}:\n",
       " -4.660364108510783864858240121975541114807128906250000000000000000000000000000000e-12\n",
       " -1.911809577835599238682107170461677014827728271484375000000000000000000000000000e-11\n",
       "  1.295726427628235422062630277650896459817886352539062500000000000000000000000000e-11"
      ]
     },
     "execution_count": 11,
     "metadata": {},
     "output_type": "execute_result"
    }
   ],
   "source": [
    "a15=a1-a5"
   ]
  },
  {
   "cell_type": "code",
   "execution_count": 12,
   "metadata": {
    "collapsed": false
   },
   "outputs": [
    {
     "data": {
      "text/plain": [
       "5-element Array{DataType,1}:\n",
       " Array{BigFloat,1}\n",
       " Array{BigFloat,1}\n",
       " Array{BigFloat,1}\n",
       " Array{BigFloat,1}\n",
       " Array{BigFloat,1}"
      ]
     },
     "execution_count": 12,
     "metadata": {},
     "output_type": "execute_result"
    }
   ],
   "source": [
    "[typeof(a1),typeof(a12),typeof(a13),typeof(a14),typeof(a15)]"
   ]
  },
  {
   "cell_type": "code",
   "execution_count": 1,
   "metadata": {
    "collapsed": true
   },
   "outputs": [],
   "source": [
    "x0=BigFloat(0.0045025087846405547799999999999999);\n",
    "xf64=Float64(0.00450250878464055477);\n",
    "xBig=convert(BigFloat,xf64);"
   ]
  },
  {
   "cell_type": "code",
   "execution_count": 2,
   "metadata": {
    "collapsed": false
   },
   "outputs": [
    {
     "data": {
      "text/plain": [
       "0.000000000000000000000000000000000000000000000000000000000000000000000000000000"
      ]
     },
     "execution_count": 2,
     "metadata": {},
     "output_type": "execute_result"
    }
   ],
   "source": [
    "x0-xf64"
   ]
  },
  {
   "cell_type": "code",
   "execution_count": 3,
   "metadata": {
    "collapsed": false
   },
   "outputs": [
    {
     "data": {
      "text/plain": [
       "0.000000000000000000000000000000000000000000000000000000000000000000000000000000"
      ]
     },
     "execution_count": 3,
     "metadata": {},
     "output_type": "execute_result"
    }
   ],
   "source": [
    "x0-xBig"
   ]
  },
  {
   "cell_type": "code",
   "execution_count": null,
   "metadata": {
    "collapsed": true
   },
   "outputs": [],
   "source": []
  }
 ],
 "metadata": {
  "anaconda-cloud": {},
  "kernelspec": {
   "display_name": "Julia 0.6.2",
   "language": "julia",
   "name": "julia-0.6"
  },
  "language_info": {
   "file_extension": ".jl",
   "mimetype": "application/julia",
   "name": "julia",
   "version": "0.6.2"
  }
 },
 "nbformat": 4,
 "nbformat_minor": 1
}

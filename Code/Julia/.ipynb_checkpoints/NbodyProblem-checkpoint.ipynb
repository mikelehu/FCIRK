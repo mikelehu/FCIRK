{
 "cells": [
  {
   "cell_type": "code",
   "execution_count": 5,
   "metadata": {
    "collapsed": false
   },
   "outputs": [
    {
     "data": {
      "text/plain": [
       "NBodyHam (generic function with 2 methods)"
      ]
     },
     "execution_count": 5,
     "metadata": {},
     "output_type": "execute_result"
    }
   ],
   "source": [
    "function NBodyHam(neq, out, params, doi=100)\n",
    "    \n",
    "    # Nbody problem Hamiltonian (Cartesian Coordinates)\n",
    "    \n",
    "    # Declarations  \n",
    "    \n",
    "    dim=3;\n",
    "    d::Int8 = neq/2;\n",
    "    nbody::Int8=neq/(2*dim);\n",
    "    \n",
    "    # Implementation\n",
    "  \n",
    "    uu=out[2:end];\n",
    "    Gm=params;\n",
    "    \n",
    "    H=0.;\n",
    "    P=0.;\n",
    "    \n",
    "    for i in 1:nbody\n",
    "        \n",
    "        i1=(i-1)*dim;\n",
    "        i2=d+i1;\n",
    "        qi=uu[i1+1:i1+dim];\n",
    "        vi=uu[i2+1:i2+dim];\n",
    "        H+=Gm[i]*dot(vi,vi);\n",
    "        \n",
    "        for j in i+1:nbody           \n",
    "            j1=(j-1)*dim;\n",
    "            j2=d+j1;\n",
    "            qj=uu[j1+1:j1+dim];\n",
    "            qij=qi-qj;\n",
    "            r=norm(qij);\n",
    "            P+=(Gm[i]/r)*Gm[j];\n",
    "        end\n",
    "    end\n",
    "    \n",
    "    return(H/2-P)\n",
    "        \n",
    "end"
   ]
  },
  {
   "cell_type": "code",
   "execution_count": null,
   "metadata": {
    "collapsed": true
   },
   "outputs": [],
   "source": []
  }
 ],
 "metadata": {
  "anaconda-cloud": {},
  "kernelspec": {
   "display_name": "Julia 0.6.2",
   "language": "julia",
   "name": "julia-0.6"
  },
  "language_info": {
   "file_extension": ".jl",
   "mimetype": "application/julia",
   "name": "julia",
   "version": "0.6.2"
  }
 },
 "nbformat": 4,
 "nbformat_minor": 1
}

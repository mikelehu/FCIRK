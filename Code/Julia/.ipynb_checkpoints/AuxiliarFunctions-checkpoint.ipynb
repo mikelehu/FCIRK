{
 "cells": [
  {
   "cell_type": "markdown",
   "metadata": {},
   "source": [
    "# Auxiliar Functions"
   ]
  },
  {
   "cell_type": "code",
   "execution_count": 1,
   "metadata": {
    "collapsed": true
   },
   "outputs": [],
   "source": [
    "# MyFunctions.ipynb\n",
    "\n",
    "#   EnergyError\n",
    "#   MomentumError\n",
    "#   QVError\n",
    "#   NormList\n",
    "#   ListRelDist\n",
    "#   ListDist\n",
    "#   ListRelErr\n",
    "#   DataToPlot\n",
    "#   Assing_results"
   ]
  },
  {
   "cell_type": "code",
   "execution_count": 2,
   "metadata": {
    "collapsed": true
   },
   "outputs": [],
   "source": [
    "using LinearAlgebra"
   ]
  },
  {
   "cell_type": "code",
   "execution_count": 3,
   "metadata": {
    "collapsed": false
   },
   "outputs": [
    {
     "data": {
      "text/plain": [
       "EnergyError (generic function with 1 method)"
      ]
     },
     "execution_count": 3,
     "metadata": {},
     "output_type": "execute_result"
    }
   ],
   "source": [
    "function EnergyError(outAll, nstat, nout, HAM,neq, params)    \n",
    "\n",
    "    SHamerr=zeros(BigFloat,nout)\n",
    "    DHamerr=zeros(BigFloat,nout)\n",
    "    \n",
    "    for i in 1:nstat\n",
    "          outA=outAll[i]   \n",
    "          Ham0 = HAM(neq,outA[1],params)                       \n",
    "          Hamerr = map(x->HAM(neq,x,params)/Ham0-1,outA)      \n",
    "          SHamerr+=Hamerr\n",
    "          DHamerr+=Hamerr.^2       \n",
    "    end\n",
    "    \n",
    "    MeanE=SHamerr/nstat\n",
    "    DesvE=sqrt.(DHamerr/nstat-MeanE.^2)\n",
    "    \n",
    "    return(MeanE,DesvE)\n",
    "    \n",
    "end"
   ]
  },
  {
   "cell_type": "code",
   "execution_count": 1,
   "metadata": {
    "collapsed": false
   },
   "outputs": [
    {
     "data": {
      "text/plain": [
       "MomentumError (generic function with 1 method)"
      ]
     },
     "execution_count": 1,
     "metadata": {},
     "output_type": "execute_result"
    }
   ],
   "source": [
    "function MomentumError(outAll, nstat, nout, MOM,neq, params)    \n",
    "\n",
    "    SLerr=zeros(BigFloat,nout)\n",
    "    DLerr=zeros(BigFloat,nout)\n",
    "    \n",
    "    for i in 1:nstat\n",
    "          outA=outAll[i]   \n",
    "          L0 = norm(MOM(neq,outA[1],params))                       \n",
    "          Lerr = map(x->norm(MOM(neq,x,params))/L0-1,outA)      \n",
    "          SLerr+=Lerr\n",
    "          DLerr+=Lerr.^2       \n",
    "    end\n",
    "    \n",
    "    MeanL=SLerr/nstat\n",
    "    DesvL=sqrt.(DLerr/nstat-MeanL.^2)\n",
    "    \n",
    "    return(MeanL,DesvL)\n",
    "    \n",
    "end"
   ]
  },
  {
   "cell_type": "code",
   "execution_count": 4,
   "metadata": {
    "collapsed": false
   },
   "outputs": [
    {
     "data": {
      "text/plain": [
       "QVError (generic function with 1 method)"
      ]
     },
     "execution_count": 4,
     "metadata": {},
     "output_type": "execute_result"
    }
   ],
   "source": [
    "function QVError(outExact, outAll, nstat, nout, neq)    \n",
    "\n",
    "    dim=3\n",
    "    d::Int8 = neq/2\n",
    "    nbody::Int8=neq/(2*dim)\n",
    "\n",
    "    Qerr=zeros(BigFloat,nbody,nout)\n",
    "    Verr=zeros(BigFloat,nbody,nout)\n",
    "    \n",
    "    for i in 1:nstat\n",
    "        out=outExact[i]\n",
    "        outA=outAll[i]   \n",
    "        q1=map(x->x[2:d+1],out)\n",
    "        v1=map(x->x[d+2:neq+1],out)\n",
    "        q2=map(x->x[2:d+1],outA)\n",
    "        v2=map(x->x[d+2:neq+1],outA)\n",
    "        qerr=ListRelDist(q1,q2)\n",
    "        verr=ListRelDist(v1,v2)\n",
    "        q_vect,v_vect=DataToPlot(qerr,verr)\n",
    "        for k in 1:nbody \n",
    "              Qerr[k,:]+=q_vect[k]\n",
    "              Verr[k,:]+=v_vect[k]\n",
    "        end \n",
    "    end\n",
    "    \n",
    "    MeanQ=Qerr./nstat\n",
    "    MeanV=Verr./nstat\n",
    "    \n",
    "    Q_vect=Vector{Vector{BigFloat}}(undef,16)\n",
    "    V_vect=Vector{Vector{BigFloat}}(undef,16)\n",
    "\n",
    "    for i in 1:nbody\n",
    "        Q_vect[i]=Qerr[i,:]\n",
    "        V_vect[i]=Verr[i,:]    \n",
    "    end\n",
    "    \n",
    "    return(Q_vect,V_vect)\n",
    "    \n",
    "end"
   ]
  },
  {
   "cell_type": "code",
   "execution_count": 5,
   "metadata": {
    "collapsed": false
   },
   "outputs": [
    {
     "data": {
      "text/plain": [
       "NormList (generic function with 1 method)"
      ]
     },
     "execution_count": 5,
     "metadata": {},
     "output_type": "execute_result"
    }
   ],
   "source": [
    "function NormList(u)\n",
    "   \n",
    "    dim=3\n",
    "    elems::Int8=size(u)[1]/dim\n",
    "    res=[]\n",
    "    \n",
    "    for i in 1:elems\n",
    "        i1=(i-1)*dim\n",
    "        push!(res,norm(u[i1+1:i1+dim]))\n",
    "    end\n",
    "    return res\n",
    "end"
   ]
  },
  {
   "cell_type": "code",
   "execution_count": 6,
   "metadata": {
    "collapsed": false
   },
   "outputs": [
    {
     "data": {
      "text/plain": [
       "ListRelDist (generic function with 1 method)"
      ]
     },
     "execution_count": 6,
     "metadata": {},
     "output_type": "execute_result"
    }
   ],
   "source": [
    "function ListRelDist(u1,u2)  \n",
    "    \n",
    "    d1=map(x->NormList(x), u1 - u2)\n",
    "    d2=map(x->NormList(x), u2)\n",
    "    \n",
    "    elems=size(d1)[1]\n",
    "    res=Vector{Vector{BigFloat}}(undef,elems) \n",
    "    \n",
    "    for i in 1:elems\n",
    "        res[i]=d1[i]./d2[i]\n",
    "    end\n",
    "    return res\n",
    "end"
   ]
  },
  {
   "cell_type": "code",
   "execution_count": null,
   "metadata": {
    "collapsed": true
   },
   "outputs": [],
   "source": [
    "function ListDist(u1,u2)  \n",
    "    \n",
    "    d1=map(x->NormList(x), u1 - u2)\n",
    "    \n",
    "    elems=size(d1)[1]\n",
    "    res=Vector{Vector{BigFloat}}(undef,elems) \n",
    "    \n",
    "    for i in 1:elems\n",
    "        res[i]=d1[i]\n",
    "    end\n",
    "    return res\n",
    "end"
   ]
  },
  {
   "cell_type": "code",
   "execution_count": 7,
   "metadata": {
    "collapsed": false
   },
   "outputs": [
    {
     "data": {
      "text/plain": [
       "ListRelErr (generic function with 1 method)"
      ]
     },
     "execution_count": 7,
     "metadata": {},
     "output_type": "execute_result"
    }
   ],
   "source": [
    "function ListRelErr(u1,u2)  \n",
    "       \n",
    "    elems=size(u1)[1];\n",
    "    res=Vector{Vector{BigFloat}}(undef,elems) \n",
    "    \n",
    "    for i in 1:elems\n",
    "        res[i]=u1[i]./u2[i].-1\n",
    "    end\n",
    "    return res\n",
    "end"
   ]
  },
  {
   "cell_type": "code",
   "execution_count": 10,
   "metadata": {
    "collapsed": false
   },
   "outputs": [
    {
     "data": {
      "text/plain": [
       "DataToPlot (generic function with 1 method)"
      ]
     },
     "execution_count": 10,
     "metadata": {},
     "output_type": "execute_result"
    }
   ],
   "source": [
    "function DataToPlot(qerr,verr)\n",
    "    \n",
    "    nout=size(qerr)[1]\n",
    "    nbody=size(qerr[1])[1]\n",
    "    \n",
    "    #   First: transpose\n",
    "    q_vals = zeros(nbody,nout)\n",
    "    v_vals = similar(q_vals)\n",
    "    \n",
    "    for i in 1:nout\n",
    "        datai=qerr[i]\n",
    "        datavi=verr[i]\n",
    "        for j in 1:nbody       \n",
    "            q_vals[j,i]=datai[j]\n",
    "            v_vals[j,i]=datavi[j]\n",
    "        end                \n",
    "    end\n",
    "    \n",
    "    #  Second: save as vector \n",
    "    \n",
    "    q_vect=Vector{Vector{BigFloat}}(undef,nbody)\n",
    "    v_vect=Vector{Vector{BigFloat}}(undef,nbody)\n",
    "\n",
    "    for i in 1:nbody\n",
    "        q_vect[i]=q_vals[i,:]\n",
    "        v_vect[i]=v_vals[i,:]\n",
    "    end\n",
    "    \n",
    "    return q_vect,v_vect\n",
    "end"
   ]
  },
  {
   "cell_type": "code",
   "execution_count": 11,
   "metadata": {
    "collapsed": false
   },
   "outputs": [
    {
     "data": {
      "text/plain": [
       "Assing_results (generic function with 1 method)"
      ]
     },
     "execution_count": 11,
     "metadata": {},
     "output_type": "execute_result"
    }
   ],
   "source": [
    "function Assing_results(nk::Integer, results)\n",
    "    \n",
    "    nsuccess=nk+sum(results[:,5])   #\n",
    "    nsteps=results[:,1]\n",
    "    nfcn=log10.(results[:,2])\n",
    "    MaxDE=log10.(abs.(results[:,9]))\n",
    "    CTime=log10.(results[:,3])\n",
    "    WTime=log10.(results[:,4])\n",
    "    \n",
    "    return nsuccess, nsteps, nfcn, MaxDE, CTime, WTime\n",
    "\n",
    "end   "
   ]
  }
 ],
 "metadata": {
  "anaconda-cloud": {},
  "kernelspec": {
   "display_name": "Julia 1.0.1",
   "language": "julia",
   "name": "julia-1.0"
  },
  "language_info": {
   "file_extension": ".jl",
   "mimetype": "application/julia",
   "name": "julia",
   "version": "1.0.1"
  }
 },
 "nbformat": 4,
 "nbformat_minor": 1
}

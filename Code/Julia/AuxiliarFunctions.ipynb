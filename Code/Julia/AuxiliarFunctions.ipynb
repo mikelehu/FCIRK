{
 "cells": [
  {
   "cell_type": "markdown",
   "metadata": {},
   "source": [
    "# Auxiliar Functions"
   ]
  },
  {
   "cell_type": "code",
   "execution_count": 1,
   "metadata": {
    "collapsed": true
   },
   "outputs": [],
   "source": [
    "# AuxFunctions.ipynb\n",
    "\n",
    "#   NormList\n",
    "#   ListRelDist\n",
    "#   ListDist\n",
    "#   ListRelErr\n",
    "#   DataToPlot\n",
    "#   Assing_results\n",
    "#   diCoeffs"
   ]
  },
  {
   "cell_type": "code",
   "execution_count": 2,
   "metadata": {
    "collapsed": true
   },
   "outputs": [],
   "source": [
    "using LinearAlgebra"
   ]
  },
  {
   "cell_type": "code",
   "execution_count": 5,
   "metadata": {},
   "outputs": [
    {
     "data": {
      "text/plain": [
       "NormList (generic function with 1 method)"
      ]
     },
     "execution_count": 5,
     "metadata": {},
     "output_type": "execute_result"
    }
   ],
   "source": [
    "function NormList(u)\n",
    "   \n",
    "    dim=3\n",
    "    elems::Int8=size(u)[1]/dim\n",
    "    res=[]\n",
    "    d\n",
    "    for i in 1:elems\n",
    "        i1=(i-1)*dim\n",
    "        push!(res,norm(u[i1+1:i1+dim]))\n",
    "    end\n",
    "    return res\n",
    "end"
   ]
  },
  {
   "cell_type": "code",
   "execution_count": 6,
   "metadata": {},
   "outputs": [
    {
     "data": {
      "text/plain": [
       "ListRelDist (generic function with 1 method)"
      ]
     },
     "execution_count": 6,
     "metadata": {},
     "output_type": "execute_result"
    }
   ],
   "source": [
    "function ListRelDist(u1,u2)  \n",
    "    \n",
    "    d1=map(x->NormList(x), u1 - u2)\n",
    "    d2=map(x->NormList(x), u2)\n",
    "    \n",
    "    elems=length(d1)\n",
    "    res=Vector{Vector{BigFloat}}(undef,elems) \n",
    "    \n",
    "    for i in 1:elems\n",
    "        res[i]=d1[i]./d2[i]\n",
    "    end\n",
    "    return res\n",
    "end"
   ]
  },
  {
   "cell_type": "code",
   "execution_count": null,
   "metadata": {
    "collapsed": true
   },
   "outputs": [],
   "source": [
    "function ListDist(u1,u2)  \n",
    "    \n",
    "    d1=map(x->NormList(x), u1 - u2)\n",
    "    \n",
    "    elems=size(d1)[1]\n",
    "    res=Vector{Vector{BigFloat}}(undef,elems) \n",
    "    \n",
    "    for i in 1:elems\n",
    "        res[i]=d1[i]\n",
    "    end\n",
    "    return res\n",
    "end"
   ]
  },
  {
   "cell_type": "code",
   "execution_count": 7,
   "metadata": {},
   "outputs": [
    {
     "data": {
      "text/plain": [
       "ListRelErr (generic function with 1 method)"
      ]
     },
     "execution_count": 7,
     "metadata": {},
     "output_type": "execute_result"
    }
   ],
   "source": [
    "function ListRelErr(u1,u2)  \n",
    "       \n",
    "    elems=size(u1)[1];\n",
    "    res=Vector{Vector{BigFloat}}(undef,elems) \n",
    "    \n",
    "    for i in 1:elems\n",
    "        res[i]=u1[i]./u2[i].-1\n",
    "    end\n",
    "    return res\n",
    "end"
   ]
  },
  {
   "cell_type": "code",
   "execution_count": 10,
   "metadata": {},
   "outputs": [
    {
     "data": {
      "text/plain": [
       "DataToPlot (generic function with 1 method)"
      ]
     },
     "execution_count": 10,
     "metadata": {},
     "output_type": "execute_result"
    }
   ],
   "source": [
    "function DataToPlot(qerr,verr)\n",
    "    \n",
    "    nout=length(qerr)\n",
    "    nbody=length(qerr[1])\n",
    "    \n",
    "    #   First: transpose\n",
    "    q_vals = zeros(nbody,nout)\n",
    "    v_vals = similar(q_vals)\n",
    "    \n",
    "    for i in 1:nout\n",
    "        datai=qerr[i]\n",
    "        datavi=verr[i]\n",
    "        for j in 1:nbody       \n",
    "            q_vals[j,i]=datai[j]\n",
    "            v_vals[j,i]=datavi[j]\n",
    "        end                \n",
    "    end\n",
    "    \n",
    "    #  Second: save as vector \n",
    "    \n",
    "    q_vect=Vector{Vector{BigFloat}}(undef,nbody)\n",
    "    v_vect=Vector{Vector{BigFloat}}(undef,nbody)\n",
    "\n",
    "    for i in 1:nbody\n",
    "        q_vect[i]=q_vals[i,:]\n",
    "        v_vect[i]=v_vals[i,:]\n",
    "    end\n",
    "    \n",
    "    return q_vect,v_vect\n",
    "end"
   ]
  },
  {
   "cell_type": "code",
   "execution_count": null,
   "metadata": {},
   "outputs": [],
   "source": [
    "function ResizeByBody(q)\n",
    "    \n",
    "    nout=length(q)\n",
    "    nbody=length(q[1])\n",
    "    \n",
    "    #   First: transpose\n",
    "    q_vals = zeros(nbody,nout)\n",
    "   \n",
    "    for i in 1:nout\n",
    "        datai=q[i]\n",
    "        for j in 1:nbody       \n",
    "            q_vals[j,i]=datai[j]\n",
    "        end                \n",
    "    end\n",
    "    \n",
    "    #  Second: save as vector \n",
    "    \n",
    "    q_vect=Vector{Vector{BigFloat}}(undef,nbody)\n",
    "\n",
    "    for i in 1:nbody\n",
    "        q_vect[i]=q_vals[i,:]\n",
    "    end\n",
    "    \n",
    "    return q_vect\n",
    "end"
   ]
  },
  {
   "cell_type": "code",
   "execution_count": 11,
   "metadata": {},
   "outputs": [
    {
     "data": {
      "text/plain": [
       "Assing_results (generic function with 1 method)"
      ]
     },
     "execution_count": 11,
     "metadata": {},
     "output_type": "execute_result"
    }
   ],
   "source": [
    "function Assing_results(nk::Integer, results)\n",
    "    \n",
    "    nsuccess=nk+sum(results[:,5])   #\n",
    "    nsteps=results[:,1]\n",
    "#    nfcn=log10.(results[:,2])\n",
    "#    MaxDE=log10.(abs.(results[:,9]))\n",
    "#    CTime=log10.(results[:,3])\n",
    "#    WTime=log10.(results[:,4])\n",
    "     nfcn=results[:,2]\n",
    "     MaxDE=results[:,9]\n",
    "     CTime=results[:,3]\n",
    "     WTime=results[:,4]\n",
    "     h=results[:,11]\n",
    "\n",
    "    return h,nsuccess,nsteps, nfcn, MaxDE, CTime, WTime\n",
    "\n",
    "end   "
   ]
  },
  {
   "cell_type": "code",
   "execution_count": null,
   "metadata": {},
   "outputs": [],
   "source": [
    "function diCoeffs!(alpha,T)\n",
    "\n",
    "\n",
    "    c = [parse(T,\"+1.9855071751231884158219565715263505e-02\"),\n",
    "          parse(T,\"+1.0166676129318663020422303176208480e-01\"),\n",
    "          parse(T,\"+2.3723379504183550709113047540537686e-01\"),\n",
    "          parse(T,\"+4.0828267875217509753026192881990801e-01\"),\n",
    "          parse(T,\"+5.9171732124782490246973807118009203e-01\"),\n",
    "          parse(T,\"+7.6276620495816449290886952459462321e-01\"),\n",
    "          parse(T,\"+8.9833323870681336979577696823791522e-01\"),\n",
    "          parse(T,\"+9.8014492824876811584178043428473653e-01\")\n",
    "        ]\n",
    "\n",
    "\n",
    "    s = length(c)\n",
    "\n",
    "    B=vcat(zeros(T,s-1),1)\n",
    "    M=[(c[i]-1/2)^(k-1) for i in 1:s, k in 1:s]'\n",
    "    alpha.=1000*M\\B\n",
    "\n",
    "\n",
    "return\n",
    "\n",
    "end"
   ]
  }
 ],
 "metadata": {
  "@webio": {
   "lastCommId": null,
   "lastKernelId": null
  },
  "anaconda-cloud": {},
  "kernelspec": {
   "display_name": "Julia 1.0.1",
   "language": "julia",
   "name": "julia-1.0"
  },
  "language_info": {
   "file_extension": ".jl",
   "mimetype": "application/julia",
   "name": "julia",
   "version": "1.0.1"
  }
 },
 "nbformat": 4,
 "nbformat_minor": 1
}

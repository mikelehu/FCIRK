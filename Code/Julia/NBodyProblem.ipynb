{
 "cells": [
  {
   "cell_type": "markdown",
   "metadata": {},
   "source": [
    "# NBodyProblem"
   ]
  },
  {
   "cell_type": "markdown",
   "metadata": {},
   "source": [
    "<ul id=\"top\">\n",
    "  <li><a href=\"#Initial-values\">Initial-values</a></li>\n",
    "      <ul>\n",
    "        <li><a href=\"#N16-Body-Problem-(Initial-values)\">N16-Body</a></li>\n",
    "        <li><a href=\"#N11-Body-Problem-(Initial-values)\">N11-Body</a></li>\n",
    "        <li><a href=\"#N10-Body-Problem-(Initial-values)\">N10-Body</a></li>\n",
    "        <li><a href=\"#N6-Body-Problem-(Initial-values)\">N6-Body</a></li>\n",
    "      </ul>\n",
    "  <li><a href=\"#Hamiltonian-and-Momentum\">Hamiltonian and Momentum</a></li>\n",
    "  <li><a href=\"#Change-variables\">Change-variables (canonical heliocentric coordinates)</a></li>\n",
    "      <ul>\n",
    "        <li><a href=\"#N16-Body-Problem-(Change-variables)\">N16-Body</a></li>\n",
    "        <li><a href=\"#N10-Body-Problem-(Change-variables)\">N10-Body</a></li>\n",
    "      </ul>\n",
    "   <li><a href=\"#GetBaricentric\">GetBaricentric</a></li>\n",
    "    <li><a href=\"#Semi-Major-Axis-And-Eccentricity\">Semi Major Axis And Eccentricity</a></li>\n",
    "</ul>"
   ]
  },
  {
   "cell_type": "code",
   "execution_count": 1,
   "metadata": {
    "collapsed": true
   },
   "outputs": [],
   "source": [
    "using LinearAlgebra"
   ]
  },
  {
   "cell_type": "markdown",
   "metadata": {},
   "source": [
    "## Initial values"
   ]
  },
  {
   "cell_type": "markdown",
   "metadata": {},
   "source": [
    "### N16-Body Problem (Initial values)"
   ]
  },
  {
   "cell_type": "code",
   "execution_count": 2,
   "metadata": {
    "collapsed": true
   },
   "outputs": [],
   "source": [
    "#   N16_InitialValues()\n",
    "#   N16_KComputation() \n",
    "#   N16_Barycentric()"
   ]
  },
  {
   "cell_type": "code",
   "execution_count": 3,
   "metadata": {
    "collapsed": false
   },
   "outputs": [
    {
     "data": {
      "text/plain": [
       "N16_InitialValues (generic function with 1 method)"
      ]
     },
     "execution_count": 3,
     "metadata": {},
     "output_type": "execute_result"
    }
   ],
   "source": [
    "function N16_InitialValues()\n",
    "\"\"\"    \n",
    "    Initial values have been take from the planetary and lunar ephemeris DE430 (2014).\n",
    "    Given in the next order:\n",
    "       Sun, Mercury, Venus, Mars, Jupiter, Saturn, Uranus, Neptune, Pluto,\n",
    "       Ceres, Pallas, Vesta, Iris, Bamberga, \n",
    "       Earth + Moon, Moon\n",
    "\"\"\"    \n",
    "    #setprecision(prec);   #number of bit of sigfinicant\n",
    "    \n",
    "    nbody=16;\n",
    "    iE=nbody-1;  # Earth indice\n",
    "    iM=nbody;    # Moon  indice\n",
    "    \n",
    "    # Position\n",
    "    \n",
    "    Sunq = [parse(BigFloat,\"0.00450250878464055477\"),\n",
    "            parse(BigFloat,\"0.00076707642709100705\"),\n",
    "            parse(BigFloat,\"0.00026605791776697764\")]\n",
    "    \n",
    "    Ceresq = Sunq + [parse(BigFloat,\"1.438681809676469747\"),\n",
    "                     parse(BigFloat,\"-2.204373633189407045\"),\n",
    "                     parse(BigFloat,\"-1.326397853361325874\")]\n",
    "    \n",
    "    Pallasq =Sunq + [parse(BigFloat,\"0.203832272462290465\"),\n",
    "                     parse(BigFloat,\"-3.209619436062307152\"),\n",
    "                     parse(BigFloat,\"0.623843179079393351\")]\n",
    "    \n",
    "    Vestaq = Sunq + [parse(BigFloat,\"0.182371836377417107\"),\n",
    "                     parse(BigFloat,\"2.386628211277654010\"),\n",
    "                     parse(BigFloat,\"0.924596062836265498\")]\n",
    "    \n",
    "    Irisq = Sunq +  [parse(BigFloat,\"1.892475267790300286\"),\n",
    "                     parse(BigFloat,\"-0.848414748075139946\"),\n",
    "                     parse(BigFloat,\"-0.157159319044464590\")]\n",
    "    \n",
    "    Bambergaq = Sunq + [parse(BigFloat,\"1.398759064223541682\"),\n",
    "                        parse(BigFloat,\"-1.287476729008325105\"),\n",
    "                        parse(BigFloat,\"-0.669098428660833799\")]\n",
    "    \n",
    "    asteroideakq = vcat(Ceresq, Pallasq, Vestaq, Irisq, Bambergaq);\n",
    "    \n",
    "    \n",
    "     q0= vcat(\n",
    "         [parse(BigFloat,\"0.00450250878464055477\"),\n",
    "          parse(BigFloat,\"0.00076707642709100705\"),\n",
    "          parse(BigFloat,\"0.00026605791776697764\"),\n",
    "        \n",
    "          parse(BigFloat,\"0.36176271656028195477\"),\n",
    "          parse(BigFloat,\"-0.09078197215676599295\"),\n",
    "          parse(BigFloat,\"-0.08571497256275117236\"),\n",
    "        \n",
    "          parse(BigFloat,\"0.61275194083507215477\"),\n",
    "          parse(BigFloat,\"-0.34836536903362219295\"),\n",
    "          parse(BigFloat,\"-0.19527828667594382236\"),\n",
    "        \n",
    "          parse(BigFloat,\"-0.11018607714879824523\"),\n",
    "          parse(BigFloat,\"-1.32759945030298299295\"),\n",
    "          parse(BigFloat,\"-0.60588914048429142236\"),\n",
    "        \n",
    "          parse(BigFloat,\"-5.37970676855393644523\"),\n",
    "          parse(BigFloat,\"-0.83048132656339789295\"),\n",
    "          parse(BigFloat,\"-0.22482887442656542236\"),\n",
    "        \n",
    "          parse(BigFloat,\"7.89439068290953155477\"),\n",
    "          parse(BigFloat,\"4.59647805517127300705\"),\n",
    "          parse(BigFloat,\"1.55869584283189997764\"),\n",
    "        \n",
    "          parse(BigFloat,\"-18.26540225387235944523\"),\n",
    "          parse(BigFloat,\"-1.16195541867586999295\"),\n",
    "          parse(BigFloat,\"-0.25010605772133802236\"),\n",
    "        \n",
    "          parse(BigFloat,\"-16.05503578023336944523\"),\n",
    "          parse(BigFloat,\"-23.94219155985470899295\"),\n",
    "          parse(BigFloat,\"-9.40015796880239402236\"),\n",
    "         \n",
    "          parse(BigFloat,\"-30.48331376718383944523\"),\n",
    "          parse(BigFloat,\"-0.87240555684104999295\"),\n",
    "          parse(BigFloat,\"8.91157617249954997764\")],\n",
    "          asteroideakq, \n",
    "        # EM Bary and Moon\n",
    "         [parse(BigFloat,\"0.12051741410138465477\"),\n",
    "          parse(BigFloat,\"-0.92583847476914859295\"),\n",
    "          parse(BigFloat,\"-0.40154022645315222236\"),\n",
    "        \n",
    "          parse(BigFloat,\"-0.00080817735147818490\"),\n",
    "          parse(BigFloat,\"-0.0019946299854970130\"),\n",
    "          parse(BigFloat,\"-0.00108726268307068900\")])\n",
    "\n",
    "    \n",
    "    # Velocity\n",
    "    \n",
    "    Sunv = [parse(BigFloat,\"-0.00000035174953607552\"),\n",
    "            parse(BigFloat,\"0.00000517762640983341\"),\n",
    "            parse(BigFloat,\"0.00000222910217891203\")]\n",
    "    \n",
    "    Ceresv = Sunv + [parse(BigFloat,\"0.008465406136316316\"),\n",
    "                     parse(BigFloat,\"0.004684247977335608\"),\n",
    "                     parse(BigFloat,\"0.000466157738595739\")]\n",
    "    \n",
    "    Pallasv = Sunv + [parse(BigFloat,\"0.008534313855651248\"),\n",
    "                      parse(BigFloat,\"-0.000860659210123161\"),\n",
    "                      parse(BigFloat,\"-0.000392901992572746\")]\n",
    "    \n",
    "    Vestav = Sunv + [parse(BigFloat,\"-0.010174496747119257\"),\n",
    "                     parse(BigFloat,\"0.000041478190529952\"),\n",
    "                     parse(BigFloat,\"0.001344157634155624\")]\n",
    "    \n",
    "    Irisv = Sunv + [parse(BigFloat,\"0.002786950314570632\"),\n",
    "                    parse(BigFloat,\"0.011314057384917047\"),\n",
    "                    parse(BigFloat,\"0.004975132577079665\")]\n",
    "    \n",
    "    Bambergav = Sunv + [parse(BigFloat,\"0.007164363244556328\"),\n",
    "                        parse(BigFloat,\"0.009219958777618218\"),\n",
    "                        parse(BigFloat,\"0.006857861727407507\")]\n",
    "    \n",
    "    asteroideakv = vcat(Ceresv, Pallasv, Vestav, Irisv, Bambergav)\n",
    "    \n",
    "    v0 = vcat(\n",
    "        [parse(BigFloat,\"-0.00000035174953607552\"),\n",
    "         parse(BigFloat,\"0.00000517762640983341\"),\n",
    "         parse(BigFloat,\"0.00000222910217891203\"),\n",
    "        \n",
    "         parse(BigFloat,\"0.00336749397200575848\"),\n",
    "         parse(BigFloat,\"0.02489452055768343341\"),\n",
    "         parse(BigFloat,\"0.01294630040970409203\"),\n",
    "        \n",
    "         parse(BigFloat,\"0.01095206842352823448\"),\n",
    "         parse(BigFloat,\"0.01561768426786768341\"),\n",
    "         parse(BigFloat,\"0.00633110570297786403\"),\n",
    "        \n",
    "         parse(BigFloat,\"0.01448165305704756448\"),\n",
    "         parse(BigFloat,\"0.00024246307683646861\"),\n",
    "         parse(BigFloat,\"-0.00028152072792433877\"),\n",
    "        \n",
    "         parse(BigFloat,\"0.00109201259423733748\"),\n",
    "         parse(BigFloat,\"-0.00651811661280738459\"),\n",
    "         parse(BigFloat,\"-0.00282078276229867897\"),\n",
    "        \n",
    "         parse(BigFloat,\"-0.00321755651650091552\"),\n",
    "         parse(BigFloat,\"0.00433581034174662541\"),\n",
    "         parse(BigFloat,\"0.00192864631686015503\"),\n",
    "        \n",
    "         parse(BigFloat,\"0.00022119039101561468\"),\n",
    "         parse(BigFloat,\"-0.00376247500810884459\"),\n",
    "         parse(BigFloat,\"-0.00165101502742994997\"),\n",
    "        \n",
    "         parse(BigFloat,\"0.00264276984798005548\"),\n",
    "         parse(BigFloat,\"-0.00149831255054097759\"),\n",
    "         parse(BigFloat,\"-0.00067904196080291327\"),\n",
    "        \n",
    "         parse(BigFloat,\"0.00032220737349778078\"),\n",
    "         parse(BigFloat,\"-0.00314357639364532859\"),\n",
    "         parse(BigFloat,\"-0.00107794975959731297\")],\n",
    "    \n",
    "          asteroideakv,\n",
    "    \n",
    "          #EM Bary and Moon*)\n",
    "         [parse(BigFloat,\"0.01681126830978379448\"),\n",
    "          parse(BigFloat,\"0.00174830923073434441\"),\n",
    "          parse(BigFloat,\"0.00075820289738312913\"),\n",
    "        \n",
    "          parse(BigFloat,\"0.00060108481561422370\"),\n",
    "          parse(BigFloat,\"-0.00016744546915764980\"),\n",
    "          parse(BigFloat,\"-0.00008556214140094871\")])\n",
    "    \n",
    "    # Masses\n",
    "    \n",
    "    Gm=[parse(BigFloat,\"0.295912208285591100e-3\"),\n",
    "        parse(BigFloat,\"0.491248045036476000e-10\"),\n",
    "        parse(BigFloat,\"0.724345233264412000e-9\"),\n",
    "        parse(BigFloat,\"0.954954869555077000e-10\"),\n",
    "        parse(BigFloat,\"0.282534584083387000e-6\"),\n",
    "        parse(BigFloat,\"0.845970607324503000e-7\"),\n",
    "        parse(BigFloat,\"0.129202482578296000e-7\"),\n",
    "        parse(BigFloat,\"0.152435734788511000e-7\"),\n",
    "        parse(BigFloat,\"0.217844105197418000e-11\"),\n",
    "    #Ceres, Pallas, Vesta, Iris, Bamberga\n",
    "        parse(BigFloat,\"0.140047655617234400e-12\"),\n",
    "        parse(BigFloat,\"0.310444819893871300e-13\"),\n",
    "        parse(BigFloat,\"0.385475018780881000e-13\"),\n",
    "        parse(BigFloat,\"0.213643444257140700e-14\"),\n",
    "        parse(BigFloat,\"0.138862658985619900e-14\"),\n",
    "    # Earth and Moon\n",
    "        parse(BigFloat,\"0.888769244512563400e-9\"),\n",
    "        parse(BigFloat,\"0.109318945074237400e-10\")\n",
    "];\n",
    "    return(nbody,q0,v0,Gm,iE,iM)\n",
    "    \n",
    "end"
   ]
  },
  {
   "cell_type": "code",
   "execution_count": 4,
   "metadata": {
    "collapsed": false
   },
   "outputs": [
    {
     "data": {
      "text/plain": [
       "N16_KComputation (generic function with 1 method)"
      ]
     },
     "execution_count": 4,
     "metadata": {},
     "output_type": "execute_result"
    }
   ],
   "source": [
    "function N16_KComputation(nbody,Gm,iE,iM)\n",
    "\n",
    "    kbody=nbody-1;\n",
    "    k=Array{BigFloat}(undef,kbody) \n",
    "    \n",
    "    GmSun=Gm[1]\n",
    "    \n",
    "    for i in 1:kbody\n",
    "        k[i]=GmSun+Gm[i+1]\n",
    "    end\n",
    "    \n",
    "    k[iE-1]=GmSun+Gm[iE]+Gm[iM]\n",
    "    k[iM-1]=Gm[iE]*Gm[iE]*Gm[iE]/((Gm[iE]+Gm[iM])*(Gm[iE]+Gm[iM]))\n",
    "    \n",
    "    return(k)\n",
    "end"
   ]
  },
  {
   "cell_type": "code",
   "execution_count": 5,
   "metadata": {
    "collapsed": false
   },
   "outputs": [
    {
     "data": {
      "text/plain": [
       "N16_Barycentric (generic function with 1 method)"
      ]
     },
     "execution_count": 5,
     "metadata": {},
     "output_type": "execute_result"
    }
   ],
   "source": [
    "function N16_Barycentric()\n",
    "\"\"\"    \n",
    "    Compute Earth and Moon Cartesian Coordinates\n",
    "\"\"\"\n",
    "    # Declarations \n",
    "\n",
    "    (nbody,q0,v0,Gm,iE,iM)=N16_InitialValues()\n",
    "    \n",
    "    dim=3\n",
    "    d::Int8 = size(q0)[1]\n",
    "    \n",
    "    iE1 = (iE-1)*dim\n",
    "    iM1 = (iM-1)*dim\n",
    "    MM=sum(Gm)\n",
    "    \n",
    "    # Implementation \n",
    "    \n",
    "    qB = q0[iE1+1:iE1+dim]\n",
    "    vB = v0[iE1+1:iE1+dim]\n",
    "    \n",
    "    qG = q0[iM1+1:iM1+dim]     # Moon position respect to Earth\n",
    "    vG = v0[iM1+1:iM1+dim]     # Moon velocity respect to Earth\n",
    "    \n",
    "    qE = qB - Gm[iM]*qG/(Gm[iM]+Gm[iE])\n",
    "    vE = vB - Gm[iM]*vG/(Gm[iM]+Gm[iE])\n",
    "    \n",
    "    qN = qE + qG\n",
    "    vN = vE + vG\n",
    "    \n",
    "    q0[iE1+1:iE1+dim] = qE\n",
    "    v0[iE1+1:iE1+dim] = vE\n",
    "    q0[iM1+1:iM1+dim] = qN\n",
    "    v0[iM1+1:iM1+dim] = vN\n",
    "    \n",
    "    \n",
    "    Qbarycenter=BigFloat[0.,0.,0.]\n",
    "    Vbarycenter=BigFloat[0.,0.,0.]\n",
    "    \n",
    "    for i in 1:nbody\n",
    "        i1=(i-1)*dim\n",
    "        Qbarycenter+=(Gm[i]*q0[i1+1:i1+dim])/MM \n",
    "        Vbarycenter+=(Gm[i]*v0[i1+1:i1+dim])/MM \n",
    "    end\n",
    "    \n",
    "    for i in 1:nbody\n",
    "        i1=(i-1)*dim;\n",
    "        q0[i1+1:i1+dim]-=Qbarycenter; \n",
    "        v0[i1+1:i1+dim]-=Vbarycenter[1:dim] \n",
    "    end\n",
    "       \n",
    "    # KComputation\n",
    "    \n",
    "    (k)=N16_KComputation(nbody,Gm,iE,iM)\n",
    "    \n",
    "    return(nbody,vcat(q0,v0),k,Gm,iE,iM)\n",
    "      \n",
    "    \n",
    "end\n",
    "\n",
    "        "
   ]
  },
  {
   "cell_type": "code",
   "execution_count": 6,
   "metadata": {
    "collapsed": false
   },
   "outputs": [
    {
     "data": {
      "text/plain": [
       "N16_Barycentric (generic function with 2 methods)"
      ]
     },
     "execution_count": 6,
     "metadata": {},
     "output_type": "execute_result"
    }
   ],
   "source": [
    "function N16_Barycentric(u0)\n",
    "\"\"\"    \n",
    "    Compute N16 Body's Cartesian Coordinates\n",
    "\"\"\"\n",
    "\n",
    "    (nbody,qx,vx,Gm,iE,iM)=N16_InitialValues()\n",
    "        \n",
    "    dim=3\n",
    "    d::Int8 = size(u0)[1]/2    \n",
    "    \n",
    "    q0=u0[1:d]  \n",
    "    v0=u0[d+1:2*d]\n",
    "    \n",
    "    iE1 = (iE-1)*dim\n",
    "    iM1 = (iM-1)*dim\n",
    "    MM=sum(Gm)\n",
    "    \n",
    "    # Implementation\n",
    "    \n",
    "    qB = q0[iE1+1:iE1+dim]\n",
    "    vB = v0[iE1+1:iE1+dim]\n",
    "    \n",
    "    qG = q0[iM1+1:iM1+dim]     # Moon position respect to Earth\n",
    "    vG = v0[iM1+1:iM1+dim]     # Moon velocity respect to Earth\n",
    "    \n",
    "    qE = qB - Gm[iM]*qG/(Gm[iM]+Gm[iE])\n",
    "    vE = vB - Gm[iM]*vG/(Gm[iM]+Gm[iE])\n",
    "    \n",
    "    qN = qE + qG\n",
    "    vN = vE + vG    \n",
    "    \n",
    "    q0[iE1+1:iE1+dim] = qE\n",
    "    v0[iE1+1:iE1+dim] = vE\n",
    "    q0[iM1+1:iM1+dim] = qN\n",
    "    v0[iM1+1:iM1+dim] = vN\n",
    "    \n",
    "    Qbarycenter=BigFloat[0.,0.,0.]\n",
    "    Vbarycenter=BigFloat[0.,0.,0.]\n",
    "    \n",
    "    for i in 1:nbody\n",
    "        i1=(i-1)*dim\n",
    "        Qbarycenter+=(Gm[i]*q0[i1+1:i1+dim])/MM \n",
    "        Vbarycenter+=(Gm[i]*v0[i1+1:i1+dim])/MM \n",
    "    end\n",
    "    \n",
    "    for i in 1:nbody\n",
    "        i1=(i-1)*dim\n",
    "        q0[i1+1:i1+dim]-=Qbarycenter \n",
    "        v0[i1+1:i1+dim]-=Vbarycenter[1:dim] \n",
    "    end\n",
    "       \n",
    "    \n",
    "    (k)=N16_KComputation(nbody,Gm,iE,iM)\n",
    "    \n",
    "    return(nbody,vcat(q0,v0),k,Gm,iE,iM);\n",
    "      \n",
    "    \n",
    "end\n",
    "\n",
    "        "
   ]
  },
  {
   "cell_type": "code",
   "execution_count": 7,
   "metadata": {
    "collapsed": false
   },
   "outputs": [
    {
     "data": {
      "text/plain": [
       "256"
      ]
     },
     "execution_count": 7,
     "metadata": {},
     "output_type": "execute_result"
    }
   ],
   "source": [
    "#setprecision(512);\n",
    "precision(BigFloat)"
   ]
  },
  {
   "cell_type": "code",
   "execution_count": 8,
   "metadata": {
    "collapsed": false
   },
   "outputs": [],
   "source": [
    "(nbody,u,k,Gm,iE,iM)=N16_Barycentric(); "
   ]
  },
  {
   "cell_type": "markdown",
   "metadata": {},
   "source": [
    "<a href=\"#top\">Back to the top</a>"
   ]
  },
  {
   "cell_type": "markdown",
   "metadata": {},
   "source": [
    "### N11-Body Problem (Initial values)"
   ]
  },
  {
   "cell_type": "code",
   "execution_count": 9,
   "metadata": {
    "collapsed": true
   },
   "outputs": [],
   "source": [
    "#   N11_InitialValues()\n",
    "#   N11_KComputation() \n",
    "#   N11_Barycentric()"
   ]
  },
  {
   "cell_type": "code",
   "execution_count": 10,
   "metadata": {
    "collapsed": false
   },
   "outputs": [
    {
     "data": {
      "text/plain": [
       "N11_InitialValues (generic function with 1 method)"
      ]
     },
     "execution_count": 10,
     "metadata": {},
     "output_type": "execute_result"
    }
   ],
   "source": [
    "function N11_InitialValues()\n",
    "\"\"\"    \n",
    "    Initial values have been take from the planetary and lunar ephemeris DE430 (2014).\n",
    "     Given in the next order:\n",
    "       Sun, Mercury, Venus, Mars, Jupiter, Saturn, Uranus, Neptune, Pluto, \n",
    "       Earth + Moon, Moon\n",
    "\"\"\"    \n",
    "    #setprecision(prec);   #number of bit of sigfinicant\n",
    "    \n",
    "    nbody=11\n",
    "    iE=nbody-1  # Earth indice\n",
    "    iM=nbody    # Moon  indice\n",
    "    \n",
    "    # Position\n",
    "    \n",
    "    Sunq = [parse(BigFloat,\"0.00450250878464055477\"),\n",
    "            parse(BigFloat,\"0.00076707642709100705\"),\n",
    "            parse(BigFloat,\"0.00026605791776697764\")]\n",
    "        \n",
    "     q0= vcat(\n",
    "         [parse(BigFloat,\"0.00450250878464055477\"),\n",
    "          parse(BigFloat,\"0.00076707642709100705\"),\n",
    "          parse(BigFloat,\"0.00026605791776697764\"),\n",
    "        \n",
    "          parse(BigFloat,\"0.36176271656028195477\"),\n",
    "          parse(BigFloat,\"-0.09078197215676599295\"),\n",
    "          parse(BigFloat,\"-0.08571497256275117236\"),\n",
    "        \n",
    "          parse(BigFloat,\"0.61275194083507215477\"),\n",
    "          parse(BigFloat,\"-0.34836536903362219295\"),\n",
    "          parse(BigFloat,\"-0.19527828667594382236\"),\n",
    "        \n",
    "          parse(BigFloat,\"-0.11018607714879824523\"),\n",
    "          parse(BigFloat,\"-1.32759945030298299295\"),\n",
    "          parse(BigFloat,\"-0.60588914048429142236\"),\n",
    "        \n",
    "          parse(BigFloat,\"-5.37970676855393644523\"),\n",
    "          parse(BigFloat,\"-0.83048132656339789295\"),\n",
    "          parse(BigFloat,\"-0.22482887442656542236\"),\n",
    "        \n",
    "          parse(BigFloat,\"7.89439068290953155477\"),\n",
    "          parse(BigFloat,\"4.59647805517127300705\"),\n",
    "          parse(BigFloat,\"1.55869584283189997764\"),\n",
    "        \n",
    "          parse(BigFloat,\"-18.26540225387235944523\"),\n",
    "          parse(BigFloat,\"-1.16195541867586999295\"),\n",
    "          parse(BigFloat,\"-0.25010605772133802236\"),\n",
    "        \n",
    "          parse(BigFloat,\"-16.05503578023336944523\"),\n",
    "          parse(BigFloat,\"-23.94219155985470899295\"),\n",
    "          parse(BigFloat,\"-9.40015796880239402236\"),\n",
    "        \n",
    "          parse(BigFloat,\"-30.48331376718383944523\"),\n",
    "          parse(BigFloat,\"-0.87240555684104999295\"),\n",
    "          parse(BigFloat,\"8.91157617249954997764\")],\n",
    "    \n",
    "        # EM Bary and Moon\n",
    "         [parse(BigFloat,\"0.12051741410138465477\"),\n",
    "          parse(BigFloat,\"-0.92583847476914859295\"),\n",
    "          parse(BigFloat,\"-0.40154022645315222236\"),\n",
    "          parse(BigFloat,\"-0.00080817735147818490\"),\n",
    "          parse(BigFloat,\"-0.0019946299854970130\"),\n",
    "          parse(BigFloat,\"-0.00108726268307068900\")])\n",
    "\n",
    "    \n",
    "    # Velocity\n",
    "    \n",
    "    Sunv = [parse(BigFloat,\"-0.00000035174953607552\"),\n",
    "            parse(BigFloat,\"0.00000517762640983341\"),\n",
    "            parse(BigFloat,\"0.00000222910217891203\")]   \n",
    "    \n",
    "    v0 = vcat(\n",
    "        [parse(BigFloat,\"-0.00000035174953607552\"),\n",
    "         parse(BigFloat,\"0.00000517762640983341\"),\n",
    "         parse(BigFloat,\"0.00000222910217891203\"),\n",
    "        \n",
    "         parse(BigFloat,\"0.00336749397200575848\"),\n",
    "         parse(BigFloat,\"0.02489452055768343341\"),\n",
    "         parse(BigFloat,\"0.01294630040970409203\"),\n",
    "        \n",
    "         parse(BigFloat,\"0.01095206842352823448\"),\n",
    "         parse(BigFloat,\"0.01561768426786768341\"),\n",
    "         parse(BigFloat,\"0.00633110570297786403\"),\n",
    "        \n",
    "         parse(BigFloat,\"0.01448165305704756448\"),\n",
    "         parse(BigFloat,\"0.00024246307683646861\"),\n",
    "         parse(BigFloat,\"-0.00028152072792433877\"),\n",
    "        \n",
    "         parse(BigFloat,\"0.00109201259423733748\"),\n",
    "         parse(BigFloat,\"-0.00651811661280738459\"),\n",
    "         parse(BigFloat,\"-0.00282078276229867897\"),\n",
    "\n",
    "         parse(BigFloat,\"-0.00321755651650091552\"),\n",
    "         parse(BigFloat,\"0.00433581034174662541\"),\n",
    "         parse(BigFloat,\"0.00192864631686015503\"),\n",
    "        \n",
    "         parse(BigFloat,\"0.00022119039101561468\"),\n",
    "         parse(BigFloat,\"-0.00376247500810884459\"),\n",
    "         parse(BigFloat,\"-0.00165101502742994997\"),\n",
    "        \n",
    "         parse(BigFloat,\"0.00264276984798005548\"),\n",
    "         parse(BigFloat,\"-0.00149831255054097759\"),\n",
    "         parse(BigFloat,\"-0.00067904196080291327\"),\n",
    "        \n",
    "         parse(BigFloat,\"0.00032220737349778078\"),\n",
    "         parse(BigFloat,\"-0.00314357639364532859\"),\n",
    "         parse(BigFloat,\"-0.00107794975959731297\")],\n",
    "    \n",
    "          #EM Bary and Moon*)\n",
    "         [parse(BigFloat,\"0.01681126830978379448\"),\n",
    "          parse(BigFloat,\"0.00174830923073434441\"),\n",
    "          parse(BigFloat,\"0.00075820289738312913\"),\n",
    "        \n",
    "          parse(BigFloat,\"0.00060108481561422370\"),\n",
    "          parse(BigFloat,\"-0.00016744546915764980\"),\n",
    "          parse(BigFloat,\"-0.00008556214140094871\")])\n",
    "    \n",
    "    # Masses\n",
    "    \n",
    "    Gm=[parse(BigFloat,\"0.295912208285591100e-3\"),\n",
    "        parse(BigFloat,\"0.491248045036476000e-10\"),\n",
    "        parse(BigFloat,\"0.724345233264412000e-9\"),\n",
    "        parse(BigFloat,\"0.954954869555077000e-10\"),\n",
    "        parse(BigFloat,\"0.282534584083387000e-6\"),\n",
    "        parse(BigFloat,\"0.845970607324503000e-7\"),\n",
    "        parse(BigFloat,\"0.129202482578296000e-7\"),\n",
    "        parse(BigFloat,\"0.152435734788511000e-7\"),\n",
    "        parse(BigFloat,\"0.217844105197418000e-11\"),\n",
    "    # Earth and Moon\n",
    "        parse(BigFloat,\"0.888769244512563400e-9\"),\n",
    "        parse(BigFloat,\"0.109318945074237400e-10\")]\n",
    "    \n",
    "    return(nbody,q0,v0,Gm,iE,iM)\n",
    "    \n",
    "end"
   ]
  },
  {
   "cell_type": "code",
   "execution_count": 11,
   "metadata": {
    "collapsed": false
   },
   "outputs": [
    {
     "data": {
      "text/plain": [
       "N11_KComputation (generic function with 1 method)"
      ]
     },
     "execution_count": 11,
     "metadata": {},
     "output_type": "execute_result"
    }
   ],
   "source": [
    "function N11_KComputation(nbody,Gm,iE,iM)\n",
    "\n",
    "    return(N16_KComputation(nbody,Gm,iE,iM))\n",
    "    \n",
    "end"
   ]
  },
  {
   "cell_type": "code",
   "execution_count": 12,
   "metadata": {
    "collapsed": false
   },
   "outputs": [
    {
     "data": {
      "text/plain": [
       "N11_Barycentric (generic function with 1 method)"
      ]
     },
     "execution_count": 12,
     "metadata": {},
     "output_type": "execute_result"
    }
   ],
   "source": [
    "function N11_Barycentric()\n",
    "\"\"\"    \n",
    "    Compute N11 Body's Cartesian Coordinates\n",
    "\"\"\"\n",
    "    # Declarations \n",
    "    \n",
    "\n",
    "    (nbody,q0,v0,Gm,iE,iM)=N11_InitialValues()\n",
    "    \n",
    "    dim=3\n",
    "    d::Int8 = size(q0)[1]\n",
    "    \n",
    "    iE1 = (iE-1)*dim\n",
    "    iM1 = (iM-1)*dim\n",
    "    MM=sum(Gm)\n",
    "    \n",
    "    # Implementation\n",
    "     \n",
    "    qB = q0[iE1+1:iE1+dim]\n",
    "    vB = v0[iE1+1:iE1+dim]\n",
    "    \n",
    "    qG = q0[iM1+1:iM1+dim]     # Moon position respect to Earth\n",
    "    vG = v0[iM1+1:iM1+dim]     # Moon velocity respect to Earth\n",
    "    \n",
    "    qE = qB - Gm[iM]*qG/(Gm[iM]+Gm[iE])\n",
    "    vE = vB - Gm[iM]*vG/(Gm[iM]+Gm[iE])\n",
    "    \n",
    "    qN = qE + qG\n",
    "    vN = vE + vG\n",
    "    \n",
    "    q0[iE1+1:iE1+dim] = qE\n",
    "    v0[iE1+1:iE1+dim] = vE\n",
    "    q0[iM1+1:iM1+dim] = qN\n",
    "    v0[iM1+1:iM1+dim] = vN\n",
    "    \n",
    "    Qbarycenter=BigFloat[0.,0.,0.]\n",
    "    Vbarycenter=BigFloat[0.,0.,0.]\n",
    "    \n",
    "    for i in 1:nbody\n",
    "        i1=(i-1)*dim\n",
    "        Qbarycenter+=(Gm[i]*q0[i1+1:i1+dim])/MM \n",
    "        Vbarycenter+=(Gm[i]*v0[i1+1:i1+dim])/MM \n",
    "    end\n",
    "    \n",
    "    for i in 1:nbody\n",
    "        i1=(i-1)*dim\n",
    "        q0[i1+1:i1+dim]-=Qbarycenter \n",
    "        v0[i1+1:i1+dim]-=Vbarycenter[1:dim]\n",
    "    end     \n",
    "    \n",
    "    (k)=N11_KComputation(nbody,Gm,iE,iM)\n",
    "    \n",
    "    return(nbody,vcat(q0,v0),k,Gm,iE,iM)\n",
    "      \n",
    "    \n",
    "end\n"
   ]
  },
  {
   "cell_type": "markdown",
   "metadata": {},
   "source": [
    "<a href=\"#top\">Back to the top</a>"
   ]
  },
  {
   "cell_type": "markdown",
   "metadata": {},
   "source": [
    "### N10-Body Problem (Initial values)"
   ]
  },
  {
   "cell_type": "code",
   "execution_count": 13,
   "metadata": {
    "collapsed": true
   },
   "outputs": [],
   "source": [
    "#   N10_InitialValues()\n",
    "#   N10_KComputation() \n",
    "#   N10_Barycentric()"
   ]
  },
  {
   "cell_type": "code",
   "execution_count": 14,
   "metadata": {
    "collapsed": false
   },
   "outputs": [
    {
     "data": {
      "text/plain": [
       "N10_InitialValues (generic function with 1 method)"
      ]
     },
     "execution_count": 14,
     "metadata": {},
     "output_type": "execute_result"
    }
   ],
   "source": [
    "function N10_InitialValues()   \n",
    "\"\"\"    \n",
    "     Initial Value from DE430\n",
    "     Given in the next order:\n",
    "       Sun,Mercury,Venus,Earth+Moon,Mars,Jupiter,Saturn,Uranus,Neptune,Pluto\n",
    "\"\"\"\n",
    "    #setprecision(prec);   #number of bit of sigfinicant\n",
    "    \n",
    "    nbody=10;\n",
    "    \n",
    "     \n",
    "    # Position   \n",
    "    \n",
    "     q0= [parse(BigFloat,\"0.00450250878464055477\"),\n",
    "          parse(BigFloat,\"0.00076707642709100705\"),\n",
    "          parse(BigFloat,\"0.00026605791776697764\"),\n",
    "        \n",
    "          parse(BigFloat,\"0.36176271656028195477\"),\n",
    "          parse(BigFloat,\"-0.09078197215676599295\"),\n",
    "          parse(BigFloat,\"-0.08571497256275117236\"),\n",
    "        \n",
    "          parse(BigFloat,\"0.61275194083507215477\"),\n",
    "          parse(BigFloat,\"-0.34836536903362219295\"),\n",
    "          parse(BigFloat,\"-0.19527828667594382236\"),\n",
    "        \n",
    "          parse(BigFloat,\"0.12051741410138465477\"),\n",
    "          parse(BigFloat,\"-0.92583847476914859295\"),\n",
    "          parse(BigFloat,\"-0.40154022645315222236\"),\n",
    "        \n",
    "          parse(BigFloat,\"-0.11018607714879824523\"),\n",
    "          parse(BigFloat,\"-1.32759945030298299295\"),\n",
    "          parse(BigFloat,\"-0.60588914048429142236\"),\n",
    "        \n",
    "          parse(BigFloat,\"-5.37970676855393644523\"),\n",
    "          parse(BigFloat,\"-0.83048132656339789295\"),\n",
    "          parse(BigFloat,\"-0.22482887442656542236\"),\n",
    "        \n",
    "          parse(BigFloat,\"7.89439068290953155477\"),\n",
    "          parse(BigFloat,\"4.59647805517127300705\"),\n",
    "          parse(BigFloat,\"1.55869584283189997764\"),\n",
    "         \n",
    "          parse(BigFloat,\"-18.26540225387235944523\"),\n",
    "          parse(BigFloat,\"-1.16195541867586999295\"),\n",
    "          parse(BigFloat,\"-0.25010605772133802236\"),\n",
    "        \n",
    "          parse(BigFloat,\"-16.05503578023336944523\"),\n",
    "          parse(BigFloat,\"-23.94219155985470899295\"),\n",
    "          parse(BigFloat,\"-9.40015796880239402236\"),\n",
    "        \n",
    "          parse(BigFloat,\"-30.48331376718383944523\"),\n",
    "          parse(BigFloat,\"-0.87240555684104999295\"),\n",
    "          parse(BigFloat,\"8.91157617249954997764\")]\n",
    "\n",
    "    \n",
    "    # Velocity\n",
    "\n",
    "   v0 = [parse(BigFloat,\"-0.00000035174953607552\"),\n",
    "         parse(BigFloat,\"0.00000517762640983341\"),\n",
    "         parse(BigFloat,\"0.00000222910217891203\"),\n",
    "        \n",
    "         parse(BigFloat,\"0.00336749397200575848\"),\n",
    "         parse(BigFloat,\"0.02489452055768343341\"),\n",
    "         parse(BigFloat,\"0.01294630040970409203\"), \n",
    "        \n",
    "         parse(BigFloat,\"0.01095206842352823448\"),\n",
    "         parse(BigFloat,\"0.01561768426786768341\"),\n",
    "         parse(BigFloat,\"0.00633110570297786403\"),\n",
    "        \n",
    "         parse(BigFloat,\"0.01681126830978379448\"),\n",
    "         parse(BigFloat,\"0.00174830923073434441\"),\n",
    "         parse(BigFloat,\"0.00075820289738312913\"),\n",
    "        \n",
    "         parse(BigFloat,\"0.01448165305704756448\"),\n",
    "         parse(BigFloat,\"0.00024246307683646861\"),\n",
    "         parse(BigFloat,\"-0.00028152072792433877\"),\n",
    "        \n",
    "         parse(BigFloat,\"0.00109201259423733748\"),\n",
    "         parse(BigFloat,\"-0.00651811661280738459\"),\n",
    "         parse(BigFloat,\"-0.00282078276229867897\"),\n",
    "        \n",
    "         parse(BigFloat,\"-0.00321755651650091552\"),\n",
    "         parse(BigFloat,\"0.00433581034174662541\"),\n",
    "         parse(BigFloat,\"0.00192864631686015503\"),\n",
    "        \n",
    "         parse(BigFloat,\"0.00022119039101561468\"),\n",
    "         parse(BigFloat,\"-0.00376247500810884459\"),\n",
    "         parse(BigFloat,\"-0.00165101502742994997\"),\n",
    "        \n",
    "         parse(BigFloat,\"0.00264276984798005548\"),\n",
    "         parse(BigFloat,\"-0.00149831255054097759\"),\n",
    "         parse(BigFloat,\"-0.00067904196080291327\"),\n",
    "        \n",
    "         parse(BigFloat,\"0.00032220737349778078\"),\n",
    "         parse(BigFloat,\"-0.00314357639364532859\"),\n",
    "         parse(BigFloat,\"-0.00107794975959731297\")]\n",
    "    \n",
    "    # Masses\n",
    "      \n",
    "    Gm=[parse(BigFloat,\"0.295912208285591100e-3\"),\n",
    "        parse(BigFloat,\"0.491248045036476000e-10\"),\n",
    "        parse(BigFloat,\"0.724345233264412000e-9\"),\n",
    "        parse(BigFloat,\"0.888769244512563400e-9\")+parse(BigFloat,\"0.109318945074237400e-10\"),\n",
    "        parse(BigFloat,\"0.954954869555077000e-10\"),\n",
    "        parse(BigFloat,\"0.282534584083387000e-6\"),\n",
    "        parse(BigFloat,\"0.845970607324503000e-7\"),\n",
    "        parse(BigFloat,\"0.129202482578296000e-7\"),\n",
    "        parse(BigFloat,\"0.152435734788511000e-7\"),\n",
    "        parse(BigFloat,\"0.217844105197418000e-11\")]\n",
    "    \n",
    "    return(nbody,q0,v0,Gm);\n",
    "    \n",
    "end"
   ]
  },
  {
   "cell_type": "code",
   "execution_count": 15,
   "metadata": {
    "collapsed": false
   },
   "outputs": [
    {
     "data": {
      "text/plain": [
       "N10_KComputation (generic function with 1 method)"
      ]
     },
     "execution_count": 15,
     "metadata": {},
     "output_type": "execute_result"
    }
   ],
   "source": [
    "function N10_KComputation(nbody,Gm)\n",
    "\n",
    "    kbody=nbody-1;\n",
    "    k=Array{BigFloat}(undef,kbody)\n",
    "    \n",
    "    GmSun=Gm[1]\n",
    "    \n",
    "    for i in 1:kbody\n",
    "        k[i]=GmSun+Gm[i+1]\n",
    "    end\n",
    "    \n",
    "    return(k)\n",
    "end"
   ]
  },
  {
   "cell_type": "code",
   "execution_count": 16,
   "metadata": {
    "collapsed": false
   },
   "outputs": [
    {
     "data": {
      "text/plain": [
       "N10_Barycentric (generic function with 1 method)"
      ]
     },
     "execution_count": 16,
     "metadata": {},
     "output_type": "execute_result"
    }
   ],
   "source": [
    "function N10_Barycentric()\n",
    "    \n",
    "\n",
    "    (nbody,q0,v0,Gm)=N10_InitialValues();\n",
    "    \n",
    "    dim=3;\n",
    "    d::Int8 = size(q0)[1];\n",
    "    \n",
    "    MM=sum(Gm);\n",
    "    \n",
    "    # Implementation\n",
    "             \n",
    "    Qbarycenter=BigFloat[0.,0.,0.]\n",
    "    Vbarycenter=BigFloat[0.,0.,0.]\n",
    "    \n",
    "    for i in 1:nbody\n",
    "        i1=(i-1)*dim\n",
    "        Qbarycenter+=(Gm[i]*q0[i1+1:i1+dim])/MM \n",
    "        Vbarycenter+=(Gm[i]*v0[i1+1:i1+dim])/MM \n",
    "    end\n",
    "    \n",
    "    for i in 1:nbody\n",
    "        i1=(i-1)*dim\n",
    "        q0[i1+1:i1+dim]-=Qbarycenter \n",
    "        v0[i1+1:i1+dim]-=Vbarycenter[1:dim] \n",
    "    end\n",
    "       \n",
    "    k=N10_KComputation(nbody,Gm)        \n",
    "    return(nbody,vcat(q0,v0),k,Gm)      \n",
    "    \n",
    "end        "
   ]
  },
  {
   "cell_type": "code",
   "execution_count": 17,
   "metadata": {
    "collapsed": false
   },
   "outputs": [],
   "source": [
    "(nbody,u,k,Gm)=N10_Barycentric();"
   ]
  },
  {
   "cell_type": "markdown",
   "metadata": {},
   "source": [
    "### N6-Body Problem (Initial values)"
   ]
  },
  {
   "cell_type": "code",
   "execution_count": 18,
   "metadata": {
    "collapsed": true
   },
   "outputs": [],
   "source": [
    "#   N6_InitialValues()\n",
    "#   N6_KComputation() \n",
    "#   N6_Barycentric()"
   ]
  },
  {
   "cell_type": "code",
   "execution_count": 19,
   "metadata": {
    "collapsed": false
   },
   "outputs": [
    {
     "data": {
      "text/plain": [
       "N6_InitialValues (generic function with 1 method)"
      ]
     },
     "execution_count": 19,
     "metadata": {},
     "output_type": "execute_result"
    }
   ],
   "source": [
    "function N6_InitialValues()   \n",
    "\"\"\"    \n",
    "    Initial Value from \"Geometric Numerical Integration (Hairer, Wanner,...), pag.14)\n",
    "    Given in the next order:\n",
    "    Sun,Jupiter,Saturn,Uranus,Neptune,Pluto\n",
    "\"\"\"\n",
    "    #setprecision(prec);   #number of bit of sigfinicant\n",
    "    \n",
    "    nbody=6;\n",
    "    \n",
    "     \n",
    "    # Position   \n",
    "    \n",
    "   q0= [parse(BigFloat,\"0.0\"),parse(BigFloat,\"0.0\"),parse(BigFloat,\"0.0\"),\n",
    "        parse(BigFloat,\"-3.5023653\"),parse(BigFloat,\"-3.8169847\"),parse(BigFloat,\"-1.5507963\"),\n",
    "        parse(BigFloat,\"9.0755314\"),parse(BigFloat,\"-3.0458353\"), parse(BigFloat,\"-1.6483708\"),        \n",
    "        parse(BigFloat,\"8.3101420\"),parse(BigFloat,\"-16.2901086\"),parse(BigFloat,\"-7.2521278\"),        \n",
    "        parse(BigFloat,\"11.4707666\"),parse(BigFloat,\"-25.7294829\"),parse(BigFloat,\"-10.8169456\"),\n",
    "        parse(BigFloat,\"-15.5387357\"),parse(BigFloat,\"-25.2225594\"),parse(BigFloat,\"-3.1902382\")]\n",
    "        \n",
    "        \n",
    "    # Velocity\n",
    "\n",
    "  v0 = [parse(BigFloat,\"0.0\"),parse(BigFloat,\"0.0\"),parse(BigFloat,\"0.0\"),\n",
    "        parse(BigFloat,\"0.00565429\"),parse(BigFloat,\"-0.00412490\"),parse(BigFloat,\"-0.00190589\"),        \n",
    "        parse(BigFloat,\"0.00168318\"),parse(BigFloat,\"0.00483525\"), parse(BigFloat,\"0.00192462\"),\n",
    "        parse(BigFloat,\"0.00354178\"),parse(BigFloat,\"0.00137102\"), parse(BigFloat,\"0.00055029\"),        \n",
    "        parse(BigFloat,\"0.00288930\"),parse(BigFloat,\"0.00114527\"), parse(BigFloat,\"0.00039677\"),\n",
    "        parse(BigFloat,\"0.00276725\"),parse(BigFloat,\"-0.00170702\"),parse(BigFloat,\"-0.00136504\")]\n",
    "  \n",
    "    \n",
    "    # Masses\n",
    "    \n",
    "    G = parse(BigFloat,\"2.95912208286e-4\")\n",
    "    \n",
    "    Gm=G.*[parse(BigFloat,\"1.00000597682\"),\n",
    "        parse(BigFloat,\"0.000954786104043\"),\n",
    "        parse(BigFloat,\"0.000285583733151\"),\n",
    "        parse(BigFloat,\"0.0000437273164546\"),\n",
    "        parse(BigFloat,\"0.0000517759138449\"),\n",
    "        parse(BigFloat,\"7.692307692307693e-9\")]   ##\"1.0/(1.3e8) \n",
    "    \n",
    "    return(nbody,q0,v0,Gm)\n",
    "    \n",
    "end"
   ]
  },
  {
   "cell_type": "code",
   "execution_count": 20,
   "metadata": {
    "collapsed": false
   },
   "outputs": [
    {
     "data": {
      "text/plain": [
       "N6_KComputation (generic function with 1 method)"
      ]
     },
     "execution_count": 20,
     "metadata": {},
     "output_type": "execute_result"
    }
   ],
   "source": [
    "function N6_KComputation(nbody,Gm)\n",
    "\n",
    "    kbody=nbody-1;\n",
    "    k=Array{BigFloat}(undef,kbody)\n",
    "    \n",
    "    GmSun=Gm[1]\n",
    "    \n",
    "    for i in 1:kbody\n",
    "        k[i]=GmSun+Gm[i+1]\n",
    "    end\n",
    "    \n",
    "    return(k)\n",
    "end"
   ]
  },
  {
   "cell_type": "code",
   "execution_count": 21,
   "metadata": {
    "collapsed": false
   },
   "outputs": [
    {
     "data": {
      "text/plain": [
       "N6_Barycentric (generic function with 1 method)"
      ]
     },
     "execution_count": 21,
     "metadata": {},
     "output_type": "execute_result"
    }
   ],
   "source": [
    "function N6_Barycentric()\n",
    "    \n",
    "\n",
    "    (nbody,q0,v0,Gm)=N6_InitialValues()\n",
    "    \n",
    "    dim=3\n",
    "    d::Int8 = size(q0)[1]    \n",
    "    MM=sum(Gm)\n",
    "    \n",
    "    # Implementation\n",
    "    \n",
    "    Qbarycenter=BigFloat[0.,0.,0.]\n",
    "    Vbarycenter=BigFloat[0.,0.,0.]\n",
    "    \n",
    "    for i in 1:nbody\n",
    "        i1=(i-1)*dim\n",
    "        Qbarycenter+=(Gm[i]*q0[i1+1:i1+dim])/MM \n",
    "        Vbarycenter+=(Gm[i]*v0[i1+1:i1+dim])/MM \n",
    "    end\n",
    "    \n",
    "    for i in 1:nbody\n",
    "        i1=(i-1)*dim\n",
    "        q0[i1+1:i1+dim]-=Qbarycenter \n",
    "        v0[i1+1:i1+dim]-=Vbarycenter[1:dim] \n",
    "    end      \n",
    "    \n",
    "    k=N6_KComputation(nbody,Gm)        \n",
    "    return(nbody,vcat(q0,v0),k,Gm)      \n",
    "    \n",
    "end "
   ]
  },
  {
   "cell_type": "code",
   "execution_count": 22,
   "metadata": {
    "collapsed": false
   },
   "outputs": [],
   "source": [
    "(nbody,u,k,Gm)=N6_Barycentric();"
   ]
  },
  {
   "cell_type": "markdown",
   "metadata": {},
   "source": [
    "<a href=\"#top\">Back to the top</a>"
   ]
  },
  {
   "cell_type": "markdown",
   "metadata": {
    "collapsed": true
   },
   "source": [
    "## Hamiltonian and Momentum"
   ]
  },
  {
   "cell_type": "code",
   "execution_count": 23,
   "metadata": {
    "collapsed": false
   },
   "outputs": [
    {
     "data": {
      "text/plain": [
       "NBodyHam (generic function with 1 method)"
      ]
     },
     "execution_count": 23,
     "metadata": {},
     "output_type": "execute_result"
    }
   ],
   "source": [
    "function NBodyHam(neq, out, params)\n",
    "\"\"\"    \n",
    "     Nbody problem Hamiltonian (Cartesian Coordinates)     \n",
    "\"\"\"    \n",
    "    \n",
    "    # Declarations \n",
    "    \n",
    "    dim=3\n",
    "    d::Int8 = neq/2\n",
    "    nbody::Int8=neq/(2*dim)\n",
    "    \n",
    "    # Implementation\n",
    "  \n",
    "    uu=out[2:end]\n",
    "    Gm=params\n",
    "    \n",
    "    H=0.\n",
    "    P=0.\n",
    "    \n",
    "    for i in 1:nbody\n",
    "        \n",
    "        i1=(i-1)*dim\n",
    "        i2=d+i1\n",
    "        qi=uu[i1+1:i1+dim]\n",
    "        vi=uu[i2+1:i2+dim]\n",
    "        H+=Gm[i]*dot(vi,vi)\n",
    "        \n",
    "        for j in i+1:nbody           \n",
    "            j1=(j-1)*dim\n",
    "            j2=d+j1\n",
    "            qj=uu[j1+1:j1+dim]\n",
    "            qij=qi-qj\n",
    "            r=norm(qij)\n",
    "            P+=(Gm[i]/r)*Gm[j]\n",
    "        end\n",
    "    end\n",
    "    \n",
    "    return(H/2-P)\n",
    "        \n",
    "end"
   ]
  },
  {
   "cell_type": "code",
   "execution_count": 24,
   "metadata": {
    "collapsed": false
   },
   "outputs": [
    {
     "data": {
      "text/plain": [
       "NBodyMom (generic function with 1 method)"
      ]
     },
     "execution_count": 24,
     "metadata": {},
     "output_type": "execute_result"
    }
   ],
   "source": [
    "function NBodyMom(neq, out, params)\n",
    "\"\"\"    \n",
    "   \n",
    "    Nbody problem Angular momemtum (Cartesian Coordinates)     \n",
    "\"\"\"    \n",
    "    \n",
    "    # Declarations \n",
    "    \n",
    "    dim=3\n",
    "    d::Int8 = neq/2\n",
    "    nbody::Int8=neq/(2*dim)\n",
    "    \n",
    "    L=BigFloat[0.,0.,0.]\n",
    "    \n",
    "    # Implementation\n",
    "  \n",
    "    uu=out[2:end]\n",
    "    Gm=params\n",
    "    \n",
    "    for i in 1:nbody\n",
    "        \n",
    "        i1=(i-1)*dim\n",
    "        i2=d+i1\n",
    "        qi=uu[i1+1:i1+dim]\n",
    "        vi=uu[i2+1:i2+dim]\n",
    "        L+=cross(qi, Gm[i]*vi)\n",
    " \n",
    "    end\n",
    "      \n",
    "    return (L)\n",
    "    \n",
    "end"
   ]
  },
  {
   "cell_type": "markdown",
   "metadata": {},
   "source": [
    "<a href=\"#top\">Back to the top</a>"
   ]
  },
  {
   "cell_type": "markdown",
   "metadata": {},
   "source": [
    "## Change variables"
   ]
  },
  {
   "cell_type": "markdown",
   "metadata": {},
   "source": [
    "### N16-Body-Problem-(Change-variables)"
   ]
  },
  {
   "cell_type": "code",
   "execution_count": 25,
   "metadata": {
    "collapsed": true
   },
   "outputs": [],
   "source": [
    "#  N16-BodyProblem (With Moon as separate body)\n",
    "#     Valid for N16, and N11-BodyProblem\n",
    "#     From baricentric coordinates (u) to heliocentric canonical coordinates (U)\n",
    "#     and also, inverse functions\n",
    "#\n",
    "#     ChangeVariableQ(qq,Gm);\n",
    "#     ChangeVariableQInv(QQ,Gm);\n",
    "#     ChangeVariableP(pp,Gm)\n",
    "#     ChangeVariablePInv(PP,Gm)\n",
    "#     ChangeVariableV(vv,Gm)\n",
    "#     ChangeVariableVInv(VV,Gm)\n",
    "#     ChangeVariable(u,Gm)\n",
    "#     ChangeVariableInv(U,Gm)"
   ]
  },
  {
   "cell_type": "code",
   "execution_count": 26,
   "metadata": {
    "collapsed": false
   },
   "outputs": [
    {
     "data": {
      "text/plain": [
       "ChangeVariableQ (generic function with 1 method)"
      ]
     },
     "execution_count": 26,
     "metadata": {},
     "output_type": "execute_result"
    }
   ],
   "source": [
    "function ChangeVariableQ(qq,Gm)\n",
    "    \n",
    "    dim=3\n",
    "    nbody=size(Gm)[1]\n",
    "    iE=nbody-1\n",
    "    iM=nbody\n",
    "    iE1 = (iE-1)*dim\n",
    "    iM1 = (iM-1)*dim\n",
    "    MM=sum(Gm)\n",
    "    QQ=zeros(BigFloat,dim*nbody)\n",
    "    \n",
    "    for i in 1:nbody\n",
    "        i1=(i-1)*dim\n",
    "        QQ[1:dim]+=(Gm[i]*qq[i1+1:i1+dim])/MM \n",
    "    end\n",
    "    \n",
    "    for i in 2:nbody-2\n",
    "        i1=(i-1)*dim\n",
    "        QQ[i1+1:i1+dim]=qq[i1+1:i1+dim]-qq[1:dim]\n",
    "    end\n",
    "    \n",
    "    QQ[iE1+1:iE1+dim]=(Gm[iE]*qq[iE1+1:iE1+dim]+Gm[iM]*qq[iM1+1:iM1+dim])/(Gm[iE]+Gm[iM])-qq[1:dim]\n",
    "    QQ[iM1+1:iM1+dim]=Gm[iE]/(Gm[iE]+Gm[iM])*(qq[iM1+1:iM1+dim]-qq[iE1+1:iE1+dim])  \n",
    "\n",
    "    \n",
    "    return QQ\n",
    "    \n",
    "end    "
   ]
  },
  {
   "cell_type": "code",
   "execution_count": 27,
   "metadata": {
    "collapsed": false
   },
   "outputs": [
    {
     "data": {
      "text/plain": [
       "ChangeVariableQInv (generic function with 1 method)"
      ]
     },
     "execution_count": 27,
     "metadata": {},
     "output_type": "execute_result"
    }
   ],
   "source": [
    "function ChangeVariableQInv(QQ,Gm)\n",
    "    \n",
    "    dim=3\n",
    "    nbody=size(Gm)[1]\n",
    "    iE=nbody-1\n",
    "    iM=nbody\n",
    "    iE1 = (iE-1)*dim\n",
    "    iM1 = (iM-1)*dim\n",
    "    MM=sum(Gm)\n",
    "    \n",
    "    qB=QQ[iE1+1:iE1+dim]\n",
    "    qMB=QQ[iM1+1:iM1+dim]\n",
    "    qN=qB+qMB\n",
    "    qE=qB-Gm[iM]*qMB/Gm[iE]    \n",
    "\n",
    "    \n",
    "    Q=copy(QQ)\n",
    "    Q[iE1+1:iE1+dim]=qE\n",
    "    Q[iM1+1:iM1+dim]=qN\n",
    "    \n",
    "    q=zeros(BigFloat,size(Q)[1])\n",
    "    \n",
    "    q[1:dim]=Q[1:dim]\n",
    "    for i in 2:nbody\n",
    "        i1=(i-1)*dim\n",
    "        q[1:dim]-=(Gm[i]*Q[i1+1:i1+dim])/MM\n",
    "    end\n",
    "    \n",
    "    for i in 2:nbody \n",
    "        i1=(i-1)*dim\n",
    "        q[i1+1:i1+dim]=Q[i1+1:i1+dim]+q[1:dim]\n",
    "    end\n",
    "    \n",
    "    return q\n",
    "\n",
    "end"
   ]
  },
  {
   "cell_type": "code",
   "execution_count": 28,
   "metadata": {
    "collapsed": false
   },
   "outputs": [
    {
     "data": {
      "text/plain": [
       "ChangeVariableP (generic function with 1 method)"
      ]
     },
     "execution_count": 28,
     "metadata": {},
     "output_type": "execute_result"
    }
   ],
   "source": [
    "function ChangeVariableP(pp,Gm)\n",
    "    \n",
    "    dim=3\n",
    "    nbody=size(Gm)[1]\n",
    "    iE=nbody-1\n",
    "    iM=nbody\n",
    "    iE1 = (iE-1)*dim\n",
    "    iM1 = (iM-1)*dim\n",
    "    MM=sum(Gm)\n",
    "    PP=zeros(BigFloat,dim*nbody)\n",
    "           \n",
    "\n",
    "    for i in 1:nbody\n",
    "        i1=(i-1)*dim\n",
    "        PP[1:dim]+=pp[i1+1:i1+dim]\n",
    "    end\n",
    "    \n",
    "    for i in 2:nbody-2\n",
    "        i1=(i-1)*dim\n",
    "        PP[i1+1:i1+dim]=pp[i1+1:i1+dim]-Gm[i]/MM*PP[1:dim]\n",
    "    end\n",
    "    \n",
    "    PP[iE1+1:iE1+dim]=pp[iE1+1:iE1+dim]+pp[iM1+1:iM1+dim]-(Gm[iE]+Gm[iM])/MM*PP[1:dim]\n",
    "    PP[iM1+1:iM1+dim]=pp[iM1+1:iM1+dim]-Gm[iM]/Gm[iE]*pp[iE1+1:iE1+dim]\n",
    "    \n",
    "    return PP\n",
    "    \n",
    "end"
   ]
  },
  {
   "cell_type": "code",
   "execution_count": 29,
   "metadata": {
    "collapsed": false
   },
   "outputs": [
    {
     "data": {
      "text/plain": [
       "ChangeVariablePInv (generic function with 1 method)"
      ]
     },
     "execution_count": 29,
     "metadata": {},
     "output_type": "execute_result"
    }
   ],
   "source": [
    "function ChangeVariablePInv(PP,Gm)\n",
    "    \n",
    "    dim=3\n",
    "    nbody=size(Gm)[1]\n",
    "    iE=nbody-1\n",
    "    iM=nbody\n",
    "    iE1 = (iE-1)*dim\n",
    "    iM1 = (iM-1)*dim\n",
    "    MM=sum(Gm)\n",
    "    pp=zeros(BigFloat,dim*nbody)\n",
    "    \n",
    "    \n",
    "    pp[iE1+1:iE1+dim]=Gm[iE]/(Gm[iE]+Gm[iM])*(PP[iE1+1:iE1+dim]-\n",
    "    PP[iM1+1:iM1+dim]+(Gm[iE]+Gm[iM])/MM*PP[1:dim])\n",
    "\n",
    "    pp[iM1+1:iM1+dim]=PP[iM1+1:iM1+dim]+Gm[iM]/Gm[iE]*pp[iE1+1:iE1+dim]\n",
    "       \n",
    "    for i in 2:nbody-2\n",
    "        i1=(i-1)*dim\n",
    "        pp[i1+1:i1+dim]=PP[i1+1:i1+dim]+Gm[i]/MM*PP[1:dim]\n",
    "    end  \n",
    "     \n",
    "    pp[1:dim]=PP[1:dim]    \n",
    "    for i in 2:nbody\n",
    "        i1=(i-1)*dim\n",
    "        pp[1:dim]-=pp[i1+1:i1+dim]\n",
    "    end\n",
    "          \n",
    "    return pp\n",
    "    \n",
    "end"
   ]
  },
  {
   "cell_type": "code",
   "execution_count": 30,
   "metadata": {
    "collapsed": false
   },
   "outputs": [
    {
     "data": {
      "text/plain": [
       "ChangeVariableV (generic function with 1 method)"
      ]
     },
     "execution_count": 30,
     "metadata": {},
     "output_type": "execute_result"
    }
   ],
   "source": [
    "function ChangeVariableV(vv,Gm)\n",
    "    \n",
    "    dim=3\n",
    "    nbody=size(Gm)[1]\n",
    "    iE=nbody-1\n",
    "    iM=nbody\n",
    "    iE1 = (iE-1)*dim\n",
    "    iM1 = (iM-1)*dim\n",
    "    MM=sum(Gm)\n",
    "    pp=zeros(BigFloat,dim*nbody)\n",
    "    \n",
    "\n",
    "    for i in 1:nbody\n",
    "        i1=(i-1)*dim\n",
    "        pp[i1+1:i1+dim]=Gm[i]*vv[i1+1:i1+dim]\n",
    "    end\n",
    "    \n",
    "    PP = ChangeVariableP(pp,Gm)\n",
    "    \n",
    "    mu=zeros(BigFloat,nbody)\n",
    "    GmSun=Gm[1]\n",
    "    \n",
    "    for i in 1:nbody-2\n",
    "        mu[i]=(GmSun*Gm[i])/(GmSun+Gm[i])\n",
    "    end\n",
    "    \n",
    "    mu[iE]=GmSun*(Gm[iE]+Gm[iM])/(GmSun+Gm[iE]+Gm[iM])\n",
    "    mu[iM]=Gm[iM]*(Gm[iE]+Gm[iM])/Gm[iE]\n",
    "    \n",
    "    VV=zeros(BigFloat,dim*nbody)\n",
    "    \n",
    "    for i in 1:nbody\n",
    "        i1=(i-1)*dim\n",
    "        VV[i1+1:i1+dim]= PP[i1+1:i1+dim]/mu[i]\n",
    "    end\n",
    "    \n",
    "    return VV\n",
    "    \n",
    "end\n"
   ]
  },
  {
   "cell_type": "code",
   "execution_count": 31,
   "metadata": {
    "collapsed": false
   },
   "outputs": [
    {
     "data": {
      "text/plain": [
       "ChangeVariableVInv (generic function with 1 method)"
      ]
     },
     "execution_count": 31,
     "metadata": {},
     "output_type": "execute_result"
    }
   ],
   "source": [
    "function ChangeVariableVInv(VV,Gm)\n",
    "    \n",
    "    dim=3\n",
    "    nbody=size(Gm)[1]\n",
    "    iE=nbody-1\n",
    "    iM=nbody\n",
    "    iE1 = (iE-1)*dim\n",
    "    iM1 = (iM-1)*dim\n",
    "    MM=sum(Gm)\n",
    "    \n",
    "    mu=zeros(BigFloat,nbody)\n",
    "    GmSun=Gm[1] \n",
    "    \n",
    "    for i in 1:nbody-2\n",
    "        mu[i]=(GmSun*Gm[i])/(GmSun+Gm[i])\n",
    "    end\n",
    "    \n",
    "    mu[iE]=GmSun*(Gm[iE]+Gm[iM])/(GmSun+Gm[iE]+Gm[iM])\n",
    "    mu[iM]=Gm[iM]*(Gm[iE]+Gm[iM])/Gm[iE]    \n",
    "    \n",
    "    PP=zeros(BigFloat,dim*nbody)\n",
    "    \n",
    "    for i in 1:nbody\n",
    "        i1=(i-1)*dim\n",
    "        PP[i1+1:i1+dim]=mu[i]*VV[i1+1:i1+dim]\n",
    "    end\n",
    "    \n",
    "    pp = ChangeVariablePInv(PP,Gm)  \n",
    "    \n",
    "    vv=zeros(BigFloat,dim*nbody)\n",
    "    \n",
    "    for i in 1:nbody\n",
    "        i1=(i-1)*dim\n",
    "        vv[i1+1:i1+dim]= pp[i1+1:i1+dim]/Gm[i]\n",
    "    end\n",
    "    \n",
    "    return vv\n",
    "    \n",
    "end   "
   ]
  },
  {
   "cell_type": "code",
   "execution_count": 32,
   "metadata": {
    "collapsed": false
   },
   "outputs": [
    {
     "data": {
      "text/plain": [
       "ChangeVariable (generic function with 1 method)"
      ]
     },
     "execution_count": 32,
     "metadata": {},
     "output_type": "execute_result"
    }
   ],
   "source": [
    "function ChangeVariable(u,Gm)\n",
    "    \n",
    "    dim=3\n",
    "    nbody=size(Gm)[1]\n",
    "    n=dim*nbody\n",
    "    \n",
    "    q=u[1:n]\n",
    "    v=u[n+1:end]\n",
    "    Q = ChangeVariableQ(q,Gm)\n",
    "    V = ChangeVariableV(v,Gm)\n",
    "\n",
    "    return vcat(Q,V)\n",
    "    \n",
    "end"
   ]
  },
  {
   "cell_type": "code",
   "execution_count": 33,
   "metadata": {
    "collapsed": false
   },
   "outputs": [
    {
     "data": {
      "text/plain": [
       "ChangeVariableInv (generic function with 1 method)"
      ]
     },
     "execution_count": 33,
     "metadata": {},
     "output_type": "execute_result"
    }
   ],
   "source": [
    "function ChangeVariableInv(U,Gm)\n",
    "    \n",
    "    dim=3\n",
    "    nbody=size(Gm)[1]\n",
    "    n=dim*nbody\n",
    "    \n",
    "    Q=U[1:n]\n",
    "    V=U[n+1:end]\n",
    "    q = ChangeVariableQInv(Q,Gm)\n",
    "    v = ChangeVariableVInv(V,Gm)\n",
    "\n",
    "    return vcat(q,v)\n",
    "    \n",
    "end"
   ]
  },
  {
   "cell_type": "markdown",
   "metadata": {},
   "source": [
    "### Some test"
   ]
  },
  {
   "cell_type": "code",
   "execution_count": 34,
   "metadata": {
    "collapsed": false
   },
   "outputs": [
    {
     "data": {
      "text/plain": [
       "11"
      ]
     },
     "execution_count": 34,
     "metadata": {},
     "output_type": "execute_result"
    }
   ],
   "source": [
    "dim=3\n",
    "nbody=11"
   ]
  },
  {
   "cell_type": "code",
   "execution_count": 35,
   "metadata": {
    "collapsed": false
   },
   "outputs": [
    {
     "ename": "UndefVarError",
     "evalue": "UndefVarError: di not defined",
     "output_type": "error",
     "traceback": [
      "UndefVarError: di not defined",
      "",
      "Stacktrace:",
      " [1] ChangeVariableQInv(::Array{BigFloat,1}, ::Array{BigFloat,1}) at ./In[27]:7",
      " [2] top-level scope at In[35]:6"
     ]
    }
   ],
   "source": [
    "aux=rand(dim*nbody)\n",
    "qqs=map((x) -> BigFloat(x), aux)\n",
    "aux=rand(nbody)\n",
    "Gms=map((x) -> BigFloat(x), aux)\n",
    "QQs=ChangeVariableQ(qqs,Gms)\n",
    "qqb=ChangeVariableQInv(QQs,Gms)\n",
    "norm(qqb-qqs) "
   ]
  },
  {
   "cell_type": "code",
   "execution_count": 36,
   "metadata": {
    "collapsed": false
   },
   "outputs": [
    {
     "data": {
      "text/plain": [
       "1.079521069386805578173293982850049946389500045554535173127962933771073975395303e-77"
      ]
     },
     "execution_count": 36,
     "metadata": {},
     "output_type": "execute_result"
    }
   ],
   "source": [
    "aux=rand(dim*nbody)\n",
    "pps=map((x) -> BigFloat(x), aux)\n",
    "aux=rand(nbody)\n",
    "Gms=map((x) -> BigFloat(x), aux)\n",
    "PPs=ChangeVariableP(pps,Gms)\n",
    "ppb=ChangeVariablePInv(PPs,Gms)\n",
    "norm(ppb-pps) "
   ]
  },
  {
   "cell_type": "code",
   "execution_count": 37,
   "metadata": {
    "collapsed": false
   },
   "outputs": [
    {
     "data": {
      "text/plain": [
       "1.815626393496208136710428182649025632943501817939081909616538490249682842994399e-76"
      ]
     },
     "execution_count": 37,
     "metadata": {},
     "output_type": "execute_result"
    }
   ],
   "source": [
    "aux=rand(dim*nbody)\n",
    "vvs=map((x) -> BigFloat(x), aux)\n",
    "aux=rand(nbody)\n",
    "Gms=map((x) -> BigFloat(x), aux)\n",
    "VVs=ChangeVariableV(vvs,Gms)\n",
    "vvb=ChangeVariableVInv(VVs,Gms)\n",
    "norm(vvb-vvs) "
   ]
  },
  {
   "cell_type": "code",
   "execution_count": 38,
   "metadata": {
    "collapsed": false
   },
   "outputs": [
    {
     "ename": "UndefVarError",
     "evalue": "UndefVarError: di not defined",
     "output_type": "error",
     "traceback": [
      "UndefVarError: di not defined",
      "",
      "Stacktrace:",
      " [1] ChangeVariableQInv(::Array{BigFloat,1}, ::Array{BigFloat,1}) at ./In[27]:7",
      " [2] ChangeVariableInv(::Array{BigFloat,1}, ::Array{BigFloat,1}) at ./In[33]:9",
      " [3] top-level scope at In[38]:6"
     ]
    }
   ],
   "source": [
    "aux=rand(2*dim*nbody)\n",
    "uus=map((x) -> BigFloat(x), aux)\n",
    "aux=rand(nbody)\n",
    "Gms=map((x) -> BigFloat(x), aux)\n",
    "UUs=ChangeVariable(uus,Gms)\n",
    "uub=ChangeVariableInv(UUs,Gms)\n",
    "norm(uub-uus) "
   ]
  },
  {
   "cell_type": "markdown",
   "metadata": {},
   "source": [
    "<a href=\"#top\">Back to the top</a>"
   ]
  },
  {
   "cell_type": "markdown",
   "metadata": {},
   "source": [
    "### N10-Body-Problem-(Change-variables)"
   ]
  },
  {
   "cell_type": "code",
   "execution_count": 39,
   "metadata": {
    "collapsed": true
   },
   "outputs": [],
   "source": [
    "#  N10-BodyProblem (Earth+Moon one body)\n",
    "#     Valid for N6, and N10-BodyProblem\n",
    "#     From baricentric coordinates (u) to heliocentric canonical coordinates (U)\n",
    "#     and also, inverse functions\n",
    "#\n",
    "#\n",
    "#     ChangeVariable10Q(qq,Gm);\n",
    "#     ChangeVariable10QInv(QQ,Gm);\n",
    "#     ChangeVariable10P(pp,Gm)\n",
    "#     ChangeVariable10PInv(PP,Gm)\n",
    "#     ChangeVariable10V(vv,Gm)\n",
    "#     ChangeVariable10VInv(VV,Gm)\n",
    "#     ChangeVariable10(u,Gm)\n",
    "#     ChangeVariable10Inv(U,Gm)"
   ]
  },
  {
   "cell_type": "code",
   "execution_count": 40,
   "metadata": {
    "collapsed": false
   },
   "outputs": [
    {
     "data": {
      "text/plain": [
       "ChangeVariable10Q (generic function with 1 method)"
      ]
     },
     "execution_count": 40,
     "metadata": {},
     "output_type": "execute_result"
    }
   ],
   "source": [
    "function ChangeVariable10Q(qq,Gm)\n",
    "          \n",
    "    dim=3\n",
    "    nbody=size(Gm)[1]\n",
    "    MM=sum(Gm)\n",
    "    QQ=zeros(BigFloat,dim*nbody)\n",
    "    \n",
    "    for i in 1:nbody\n",
    "        i1=(i-1)*dim\n",
    "        QQ[1:dim]+=(Gm[i]*qq[i1+1:i1+dim])/MM \n",
    "    end\n",
    "    \n",
    "    for i in 2:nbody\n",
    "        i1=(i-1)*dim\n",
    "        QQ[i1+1:i1+dim]=qq[i1+1:i1+dim]-qq[1:dim]\n",
    "    end\n",
    "       \n",
    "    return QQ\n",
    "    \n",
    "end    "
   ]
  },
  {
   "cell_type": "code",
   "execution_count": 41,
   "metadata": {
    "collapsed": false
   },
   "outputs": [
    {
     "data": {
      "text/plain": [
       "ChangeVariable10QInv (generic function with 1 method)"
      ]
     },
     "execution_count": 41,
     "metadata": {},
     "output_type": "execute_result"
    }
   ],
   "source": [
    "function ChangeVariable10QInv(QQ,Gm)\n",
    "      \n",
    "    dim=3\n",
    "    nbody=size(Gm)[1]\n",
    "    MM=sum(Gm)\n",
    "   \n",
    "    Q=copy(QQ)    \n",
    "    q=zeros(BigFloat,size(Q)[1])\n",
    "    \n",
    "    q[1:dim]=Q[1:dim]\n",
    "    for i in 2:nbody\n",
    "        i1=(i-1)*dim\n",
    "        q[1:dim]-=(Gm[i]*Q[i1+1:i1+dim])/MM\n",
    "    end\n",
    "    \n",
    "    for i in 2:nbody \n",
    "        i1=(i-1)*dim\n",
    "        q[i1+1:i1+dim]=Q[i1+1:i1+dim]+q[1:dim]\n",
    "    end\n",
    "    \n",
    "    return q\n",
    "\n",
    "end"
   ]
  },
  {
   "cell_type": "code",
   "execution_count": 42,
   "metadata": {
    "collapsed": false
   },
   "outputs": [
    {
     "data": {
      "text/plain": [
       "ChangeVariable10P (generic function with 1 method)"
      ]
     },
     "execution_count": 42,
     "metadata": {},
     "output_type": "execute_result"
    }
   ],
   "source": [
    "function ChangeVariable10P(pp,Gm)\n",
    "    \n",
    "    dim=3\n",
    "    nbody=size(Gm)[1]\n",
    "    MM=sum(Gm)\n",
    "    PP=zeros(BigFloat,dim*nbody)\n",
    "           \n",
    "\n",
    "    for i in 1:nbody\n",
    "        i1=(i-1)*dim\n",
    "        PP[1:dim]+=pp[i1+1:i1+dim] \n",
    "    end\n",
    "    \n",
    "    for i in 2:nbody\n",
    "        i1=(i-1)*dim\n",
    "        PP[i1+1:i1+dim]=pp[i1+1:i1+dim]-Gm[i]/MM*PP[1:dim]\n",
    "    end   \n",
    "     \n",
    "    return PP\n",
    "    \n",
    "end  "
   ]
  },
  {
   "cell_type": "code",
   "execution_count": 43,
   "metadata": {
    "collapsed": false
   },
   "outputs": [
    {
     "data": {
      "text/plain": [
       "ChangeVariable10PInv (generic function with 1 method)"
      ]
     },
     "execution_count": 43,
     "metadata": {},
     "output_type": "execute_result"
    }
   ],
   "source": [
    "function ChangeVariable10PInv(PP,Gm)\n",
    "    \n",
    "    dim=3\n",
    "    nbody=size(Gm)[1]\n",
    "    MM=sum(Gm)\n",
    "    pp=zeros(BigFloat,dim*nbody)\n",
    "    \n",
    "       \n",
    "    for i in 2:nbody\n",
    "        i1=(i-1)*dim\n",
    "        pp[i1+1:i1+dim]=PP[i1+1:i1+dim]+Gm[i]/MM*PP[1:dim]\n",
    "    end  \n",
    "     \n",
    "    pp[1:dim]=PP[1:dim]  \n",
    "    \n",
    "    for i in 2:nbody\n",
    "        i1=(i-1)*dim\n",
    "        pp[1:dim]-=pp[i1+1:i1+dim]\n",
    "    end\n",
    "          \n",
    "    return pp\n",
    "    \n",
    "end"
   ]
  },
  {
   "cell_type": "code",
   "execution_count": 44,
   "metadata": {
    "collapsed": false
   },
   "outputs": [
    {
     "data": {
      "text/plain": [
       "ChangeVariable10V (generic function with 1 method)"
      ]
     },
     "execution_count": 44,
     "metadata": {},
     "output_type": "execute_result"
    }
   ],
   "source": [
    "function ChangeVariable10V(vv,Gm)\n",
    "    \n",
    "    dim=3\n",
    "    nbody=size(Gm)[1]\n",
    "    MM=sum(Gm)\n",
    "    pp=zeros(BigFloat,dim*nbody)\n",
    "    \n",
    "\n",
    "    for i in 1:nbody\n",
    "        i1=(i-1)*dim\n",
    "        pp[i1+1:i1+dim]=Gm[i]*vv[i1+1:i1+dim]\n",
    "    end\n",
    "    \n",
    "    PP = ChangeVariable10P(pp,Gm)\n",
    "    \n",
    "    mu=zeros(BigFloat,nbody)\n",
    "    GmSun=Gm[1]\n",
    "    \n",
    "    for i in 1:nbody\n",
    "        mu[i]=(GmSun*Gm[i])/(GmSun+Gm[i])\n",
    "    end\n",
    "       \n",
    "    VV=zeros(BigFloat,dim*nbody)\n",
    "    \n",
    "    for i in 1:nbody\n",
    "        i1=(i-1)*dim\n",
    "        VV[i1+1:i1+dim]= PP[i1+1:i1+dim]/mu[i]\n",
    "    end\n",
    "    \n",
    "    return VV\n",
    "    \n",
    "end"
   ]
  },
  {
   "cell_type": "code",
   "execution_count": 45,
   "metadata": {
    "collapsed": false
   },
   "outputs": [
    {
     "data": {
      "text/plain": [
       "ChangeVariable10VInv (generic function with 1 method)"
      ]
     },
     "execution_count": 45,
     "metadata": {},
     "output_type": "execute_result"
    }
   ],
   "source": [
    "function ChangeVariable10VInv(VV,Gm)\n",
    "    \n",
    "    dim=3\n",
    "    nbody=size(Gm)[1]\n",
    "    MM=sum(Gm)\n",
    "    \n",
    "    mu=zeros(BigFloat,nbody)\n",
    "    GmSun=Gm[1] \n",
    "    \n",
    "    for i in 1:nbody\n",
    "        mu[i]=(GmSun*Gm[i])/(GmSun+Gm[i])\n",
    "    end   \n",
    "    \n",
    "    PP=zeros(BigFloat,dim*nbody)\n",
    "    \n",
    "    for i in 1:nbody\n",
    "        i1=(i-1)*dim\n",
    "        PP[i1+1:i1+dim]=mu[i]*VV[i1+1:i1+dim]\n",
    "    end\n",
    "    \n",
    "    pp = ChangeVariable10PInv(PP,Gm)\n",
    "    \n",
    "    \n",
    "    vv=zeros(BigFloat,dim*nbody)\n",
    "    \n",
    "    for i in 1:nbody\n",
    "        i1=(i-1)*dim\n",
    "        vv[i1+1:i1+dim]= pp[i1+1:i1+dim]/Gm[i]\n",
    "    end\n",
    "    \n",
    "    return vv\n",
    "    \n",
    "end   "
   ]
  },
  {
   "cell_type": "code",
   "execution_count": 46,
   "metadata": {
    "collapsed": false
   },
   "outputs": [
    {
     "data": {
      "text/plain": [
       "ChangeVariable10 (generic function with 1 method)"
      ]
     },
     "execution_count": 46,
     "metadata": {},
     "output_type": "execute_result"
    }
   ],
   "source": [
    "function ChangeVariable10(u,Gm)\n",
    "    \n",
    "    dim=3\n",
    "    nbody=size(Gm)[1]\n",
    "    n=dim*nbody\n",
    "    \n",
    "    q=u[1:n]\n",
    "    v=u[n+1:end]\n",
    "    Q = ChangeVariable10Q(q,Gm)\n",
    "    V = ChangeVariable10V(v,Gm)\n",
    "\n",
    "    return vcat(Q,V)\n",
    "    \n",
    "end"
   ]
  },
  {
   "cell_type": "code",
   "execution_count": 47,
   "metadata": {
    "collapsed": false
   },
   "outputs": [
    {
     "data": {
      "text/plain": [
       "ChangeVariable10Inv (generic function with 1 method)"
      ]
     },
     "execution_count": 47,
     "metadata": {},
     "output_type": "execute_result"
    }
   ],
   "source": [
    "function ChangeVariable10Inv(U,Gm)\n",
    "    \n",
    "    dim=3\n",
    "    nbody=size(Gm)[1]\n",
    "    n=dim*nbody\n",
    "    \n",
    "    Q=U[1:n]\n",
    "    V=U[n+1:end]\n",
    "    q = ChangeVariable10QInv(Q,Gm)\n",
    "    v = ChangeVariable10VInv(V,Gm)\n",
    "\n",
    "    return vcat(q,v)\n",
    "    \n",
    "end"
   ]
  },
  {
   "cell_type": "markdown",
   "metadata": {},
   "source": [
    "### Some tests"
   ]
  },
  {
   "cell_type": "code",
   "execution_count": 48,
   "metadata": {
    "collapsed": true
   },
   "outputs": [],
   "source": [
    "#setprecision(100)   #number of bit of sigfinicant\n",
    "dim=3;\n",
    "nbody=10;"
   ]
  },
  {
   "cell_type": "code",
   "execution_count": 49,
   "metadata": {
    "collapsed": false
   },
   "outputs": [
    {
     "data": {
      "text/plain": [
       "2.92966186949560578744338039559740506371828671850952602439246759437970351925476e-77"
      ]
     },
     "execution_count": 49,
     "metadata": {},
     "output_type": "execute_result"
    }
   ],
   "source": [
    "aux=rand(dim*nbody);\n",
    "qqs=map((x) -> BigFloat(x), aux)\n",
    "aux=rand(nbody);\n",
    "Gms=map((x) -> BigFloat(x), aux);\n",
    "QQs=ChangeVariable10Q(qqs,Gms);\n",
    "qqb=ChangeVariable10QInv(QQs,Gms);\n",
    "norm(qqb-qqs) "
   ]
  },
  {
   "cell_type": "code",
   "execution_count": 50,
   "metadata": {
    "collapsed": false
   },
   "outputs": [
    {
     "data": {
      "text/plain": [
       "0.0"
      ]
     },
     "execution_count": 50,
     "metadata": {},
     "output_type": "execute_result"
    }
   ],
   "source": [
    "aux=rand(dim*nbody);\n",
    "pps=map((x) -> BigFloat(x), aux);\n",
    "aux=rand(nbody);\n",
    "Gms=map((x) -> BigFloat(x), aux);\n",
    "PPs=ChangeVariable10P(pps,Gms);\n",
    "ppb=ChangeVariable10PInv(PPs,Gms);\n",
    "norm(ppb-pps)"
   ]
  },
  {
   "cell_type": "code",
   "execution_count": 51,
   "metadata": {
    "collapsed": false
   },
   "outputs": [
    {
     "data": {
      "text/plain": [
       "0.0"
      ]
     },
     "execution_count": 51,
     "metadata": {},
     "output_type": "execute_result"
    }
   ],
   "source": [
    "aux=rand(dim*nbody);\n",
    "vvs=map((x) -> BigFloat(x), aux);\n",
    "aux=rand(nbody);\n",
    "Gms=map((x) -> BigFloat(x), aux);\n",
    "VVs=ChangeVariable10V(vvs,Gms);\n",
    "vvb=ChangeVariable10VInv(VVs,Gms);\n",
    "norm(vvb-vvs) "
   ]
  },
  {
   "cell_type": "code",
   "execution_count": 52,
   "metadata": {
    "collapsed": false
   },
   "outputs": [
    {
     "data": {
      "text/plain": [
       "8.320194608649490232002187099924649536671369959566358511057945264207352943434137e-77"
      ]
     },
     "execution_count": 52,
     "metadata": {},
     "output_type": "execute_result"
    }
   ],
   "source": [
    "aux=rand(2*dim*nbody);\n",
    "uus=map((x) -> BigFloat(x), aux);\n",
    "aux=rand(nbody);\n",
    "Gms=map((x) -> BigFloat(x), aux);\n",
    "UUs=ChangeVariable10(uus,Gms);\n",
    "uub=ChangeVariable10Inv(UUs,Gms);\n",
    "norm(uub-uus) "
   ]
  },
  {
   "cell_type": "markdown",
   "metadata": {},
   "source": [
    "<a href=\"#top\">Back to the top</a>"
   ]
  },
  {
   "cell_type": "markdown",
   "metadata": {},
   "source": [
    "## GetBaricentric"
   ]
  },
  {
   "cell_type": "code",
   "execution_count": 53,
   "metadata": {
    "collapsed": false
   },
   "outputs": [
    {
     "data": {
      "text/plain": [
       "GetBarycentric (generic function with 1 method)"
      ]
     },
     "execution_count": 53,
     "metadata": {},
     "output_type": "execute_result"
    }
   ],
   "source": [
    "function GetBarycentric(u::Array{Array{BigFloat,1},1}, \n",
    "                        Gm::Array{BigFloat,1},\n",
    "                        ti::Array{BigFloat,1},\n",
    "                        nbodyH::Int64) \n",
    "\n",
    "\"\"\"    \n",
    "    Valid for N-11,N16-BodyProblem    \n",
    "    Moon as separate body\n",
    "\"\"\"  \n",
    "    \n",
    "    nout=size(ti)[1]\n",
    "    q=map(x->x[1:3*nbodyH],u)\n",
    "    v=map(x->x[3*nbodyH+1:end],u)\n",
    "    qq=map(x->ChangeVariableQInv(vcat(BigFloat[0.,0.,0.],x),Gm),q)\n",
    "    vv=map(x->ChangeVariableVInv(vcat(BigFloat[0.,0.,0.],x),Gm),v)\n",
    "    outCar=[vcat(ti[1],qq[1],vv[1])]\n",
    "    for i in 2:nout\n",
    "       push!(outCar,vcat(ti[i],qq[i],vv[i]))\n",
    "    end\n",
    "    \n",
    "    return qq,vv,outCar\n",
    "\n",
    "end   "
   ]
  },
  {
   "cell_type": "code",
   "execution_count": 54,
   "metadata": {
    "collapsed": false
   },
   "outputs": [
    {
     "data": {
      "text/plain": [
       "GetBarycentric10 (generic function with 1 method)"
      ]
     },
     "execution_count": 54,
     "metadata": {},
     "output_type": "execute_result"
    }
   ],
   "source": [
    "function GetBarycentric10(u::Array{Array{BigFloat,1},1}, \n",
    "                          Gm::Array{BigFloat,1},\n",
    "                          ti::Array{BigFloat,1},\n",
    "                          nbodyH::Int64)  \n",
    "\"\"\"    \n",
    "    Valid for N6,N10-BodyProblem    \n",
    "\"\"\"    \n",
    "    nout=size(ti)[1]\n",
    "    \n",
    "    q=map(x->x[1:3*nbodyH],u)\n",
    "    v=map(x->x[3*nbodyH+1:end],u)\n",
    "    qq=map(x->ChangeVariable10QInv(vcat(BigFloat[0.,0.,0.],x),Gm),q)\n",
    "    vv=map(x->ChangeVariable10VInv(vcat(BigFloat[0.,0.,0.],x),Gm),v)\n",
    "    outCar=[vcat(ti[1],qq[1],vv[1])]\n",
    "    for i in 2:nout\n",
    "       push!(outCar,vcat(ti[i],qq[i],vv[i]))\n",
    "    end\n",
    "    \n",
    "    return qq,vv,outCar\n",
    "\n",
    "end   "
   ]
  },
  {
   "cell_type": "markdown",
   "metadata": {},
   "source": [
    "<a href=\"#top\">Back to the top</a>"
   ]
  },
  {
   "cell_type": "markdown",
   "metadata": {},
   "source": [
    "## Semi-Major-Axis-And-Eccentricity"
   ]
  },
  {
   "cell_type": "code",
   "execution_count": 55,
   "metadata": {
    "collapsed": false
   },
   "outputs": [
    {
     "data": {
      "text/plain": [
       "KeplerA (generic function with 1 method)"
      ]
     },
     "execution_count": 55,
     "metadata": {},
     "output_type": "execute_result"
    }
   ],
   "source": [
    "function KeplerA(qv, mu)  \n",
    "\"\"\"\n",
    "    Compute Semi Major Axis    \n",
    "\"\"\"    \n",
    "    \n",
    "    #Position\n",
    "    q1=qv[1]\n",
    "    q2=qv[2]\n",
    "    q3=qv[3]\n",
    "\n",
    "    #Velocity\n",
    "    v1=qv[4]\n",
    "    v2=qv[5]\n",
    "    v3=qv[6]\n",
    "    \n",
    "    r0 = sqrt(q1*q1 + q2*q2 + q3*q3)\n",
    "    eta = (q1*v1 + q2*v2 + q3*v3)\n",
    "    alpha = mu/r0\n",
    "    beta = 2*alpha - (v1*v1 + v2*v2 + v3*v3)\n",
    "    \n",
    "    return mu/beta\n",
    "    \n",
    "end    "
   ]
  },
  {
   "cell_type": "code",
   "execution_count": 56,
   "metadata": {
    "collapsed": false
   },
   "outputs": [
    {
     "data": {
      "text/plain": [
       "KeplerE (generic function with 1 method)"
      ]
     },
     "execution_count": 56,
     "metadata": {},
     "output_type": "execute_result"
    }
   ],
   "source": [
    "function KeplerE(qv,mu)\n",
    "\"\"\"\n",
    "    Compute Eccentricity    \n",
    "\"\"\"        \n",
    "    \n",
    "    #Position\n",
    "    q1=qv[1]\n",
    "    q2=qv[2]\n",
    "    q3=qv[3]\n",
    "\n",
    "    #Velocity    \n",
    "    v1=qv[4]\n",
    "    v2=qv[5]\n",
    "    v3=qv[6]\n",
    "\n",
    "    r0 = sqrt(q1*q1 + q2*q2 + q3*q3)\n",
    "    eta = (q1*v1 + q2*v2 + q3*v3)\n",
    "    alpha = mu/r0\n",
    "    beta = 2*alpha - (v1*v1 + v2*v2 + v3*v3)\n",
    "    zeta = mu - beta*r0\n",
    "    \n",
    "    return sqrt(beta*eta^2 + zeta^2)/mu\n",
    "\n",
    "end      "
   ]
  },
  {
   "cell_type": "code",
   "execution_count": 57,
   "metadata": {
    "collapsed": false
   },
   "outputs": [
    {
     "data": {
      "text/plain": [
       "KeplerAList (generic function with 1 method)"
      ]
     },
     "execution_count": 57,
     "metadata": {},
     "output_type": "execute_result"
    }
   ],
   "source": [
    "function KeplerAList(u,muak)     \n",
    "   \n",
    "    dim=3\n",
    "    neq::Int8=length(u)\n",
    "    n::Int8=neq/(2*dim)\n",
    "    \n",
    "    res=[];\n",
    "    \n",
    "    for i in 0:n-1\n",
    "        ui=vcat(u[dim*i+1:dim*i+dim],u[dim*(n+i)+1:dim*(n+i)+dim]) \n",
    "        mui=muak[i+1]\n",
    "        push!(res,KeplerA(ui,mui))\n",
    "    end\n",
    "    \n",
    "    return res \n",
    "end  "
   ]
  },
  {
   "cell_type": "code",
   "execution_count": 58,
   "metadata": {
    "collapsed": false
   },
   "outputs": [
    {
     "data": {
      "text/plain": [
       "KeplerEList (generic function with 1 method)"
      ]
     },
     "execution_count": 58,
     "metadata": {},
     "output_type": "execute_result"
    }
   ],
   "source": [
    "function KeplerEList(u,muak)     \n",
    "   \n",
    "    dim=3\n",
    "    neq::Int8=length(u)\n",
    "    n::Int8=neq/(2*dim)\n",
    "    \n",
    "    res=[];\n",
    "\n",
    "    \n",
    "    for i in 0:n-1\n",
    "        ui=vcat(u[dim*i+1:dim*i+dim],u[dim*(n+i)+1:dim*(n+i)+dim])     \n",
    "        mui=muak[i+1]\n",
    "        push!(res,KeplerE(ui,mui))\n",
    "    end\n",
    "    \n",
    "    return res \n",
    "    \n",
    "end   "
   ]
  },
  {
   "cell_type": "markdown",
   "metadata": {},
   "source": [
    "<a href=\"#top\">Back to the top</a>"
   ]
  }
 ],
 "metadata": {
  "anaconda-cloud": {},
  "kernelspec": {
   "display_name": "Julia 1.0.1",
   "language": "julia",
   "name": "julia-1.0"
  },
  "language_info": {
   "file_extension": ".jl",
   "mimetype": "application/julia",
   "name": "julia",
   "version": "1.0.1"
  }
 },
 "nbformat": 4,
 "nbformat_minor": 1
}

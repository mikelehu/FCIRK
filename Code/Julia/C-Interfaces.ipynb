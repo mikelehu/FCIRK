{
 "cells": [
  {
   "cell_type": "markdown",
   "metadata": {},
   "source": [
    "# C-Interfaces"
   ]
  },
  {
   "cell_type": "markdown",
   "metadata": {},
   "source": [
    "<ul id=\"top\">\n",
    "  <li><a href=\"#My-Structs\">My Structs</a></li>\n",
    "  <li><a href=\"#FCIRK-integrator\">FCIRK-integrator</a></li>\n",
    "  <li><a href=\"#Composition-integrator\">Composition-integrator</a></li>\n",
    "  <li><a href=\"#Binary-IO\">Binary-IO</a></li>\n",
    "</ul>"
   ]
  },
  {
   "cell_type": "markdown",
   "metadata": {},
   "source": [
    "## My Structs"
   ]
  },
  {
   "cell_type": "code",
   "execution_count": 3,
   "metadata": {},
   "outputs": [],
   "source": [
    "\"\"\"\n",
    "FCIRK \n",
    "\"\"\"\n",
    "struct ODEProblem\n",
    "           Nkepler::Int64\n",
    "           Moreq::Int64\n",
    "           ode::Int64  \n",
    "           tspan::Tuple{Float64,Float64}\n",
    "           u0:: Array{BigFloat,1}\n",
    "           k::  Array{BigFloat,1} \n",
    "           rpar:: Array{BigFloat,1}\n",
    "           ipar::Array{Int32,1}\n",
    "end\n",
    "\n",
    "function ODEProblem(ode,tspan,u0,k,rpar;Nkepler=length(k),Moreq=0,ipar=[0])\n",
    "        return ODEProblem(Nkepler,Moreq,ode,tspan,u0,k,rpar,ipar)\n",
    "end;\n",
    "\n",
    "\"\"\"\n",
    "Composition and Splitting methods\n",
    "\"\"\"\n",
    "struct ODEProblem2\n",
    "           neq::Int64\n",
    "           ode::Int64\n",
    "           tspan::Tuple{Float64,Float64}       \n",
    "           u0:: Array{BigFloat,1}\n",
    "           k:: Array{BigFloat,1} \n",
    "           rpar:: Array{BigFloat,1}\n",
    "           ipar::Array{Int32,1}\n",
    "end\n",
    "\n",
    "\n",
    "function ODEProblem2(ode,tspan,u0,k,rpar;neq=length(u0),ipar=[0])\n",
    "    return ODEProblem2(neq,ode,tspan,u0,k,rpar,ipar)\n",
    "end;"
   ]
  },
  {
   "cell_type": "code",
   "execution_count": 2,
   "metadata": {},
   "outputs": [],
   "source": [
    "\"\"\"\n",
    "FCIRK \n",
    "\"\"\"\n",
    "function solve(myfilename::String,\n",
    "               prob:: ODEProblem,\n",
    "               alg:: Function,\n",
    "               h::Float64;\n",
    "               ns::Int64=8, \n",
    "               saveat::Int64=1, \n",
    "               threads::Int64=1,        \n",
    "               adaptive::Bool=false,   \n",
    "               mixed::Bool=true)        \n",
    "\n",
    "    if adaptive==false\n",
    "        xadaptive=0;\n",
    "    else \n",
    "        xadaptive=1;\n",
    "    end\n",
    "    \n",
    "    if  mixed==false\n",
    "        xmixed=0;\n",
    "    else \n",
    "        xmixed=1;\n",
    "    end\n",
    "      \n",
    "    alg(prob,ns,myfilename,h,saveat,threads,xadaptive,xmixed)\n",
    "    \n",
    "end;  \n",
    "\n",
    "\n",
    "\"\"\"\n",
    "Composition and Splitting methods\n",
    "\"\"\"\n",
    "function solve(   myfilename::String, \n",
    "                  prob:: ODEProblem2,\n",
    "                  alg:: Function,\n",
    "                  codmethod::Int64,\n",
    "                  h::Float64;\n",
    "                  saveat::Int64=1,\n",
    "                  mixed::Bool=false) \n",
    "    \n",
    "    if  mixed==false\n",
    "        xmixed=0;\n",
    "    else \n",
    "        xmixed=1;\n",
    "    end\n",
    "            \n",
    "    alg(codmethod,xmixed,prob,myfilename,h,saveat)\n",
    "    \n",
    "end;    "
   ]
  },
  {
   "cell_type": "markdown",
   "metadata": {},
   "source": [
    "<a href=\"#top\">Back to the top</a>"
   ]
  },
  {
   "cell_type": "markdown",
   "metadata": {},
   "source": [
    "## FCIRK integrator"
   ]
  },
  {
   "cell_type": "code",
   "execution_count": 3,
   "metadata": {},
   "outputs": [],
   "source": [
    "#   FCIRK implementation:\n",
    "#      doubleFCIRK\n",
    "#      longFCIRK\n",
    "#      quadFCIRK\n",
    "#"
   ]
  },
  {
   "cell_type": "code",
   "execution_count": 4,
   "metadata": {},
   "outputs": [
    {
     "data": {
      "text/plain": [
       "quadFCIRK (generic function with 1 method)"
      ]
     },
     "execution_count": 4,
     "metadata": {},
     "output_type": "execute_result"
    }
   ],
   "source": [
    "function quadFCIRK( prob::ODEProblem,\n",
    "                     ns:: Int64,\n",
    "                     myfilename::String, \n",
    "                     h::Float64,\n",
    "                     saveat::Int64, \n",
    "                     threads::Int64,   # Optional argument\n",
    "                     adaptive::Int64,\n",
    "                     mixed::Int64\n",
    "    ) \n",
    "    #\n",
    "    result_array=Array{Float64}(undef,10)\n",
    "    \n",
    "    ulen=length(prob.u0)\n",
    "    klen=length(prob.k)\n",
    "    rlen=length(prob.rpar)\n",
    "    ilen=length(prob.ipar)\n",
    "    \n",
    "    errorcode=ccall(\n",
    "     # name of C function and library\n",
    "    (:quadFCIRK, \"../../../Code/C/Code-FCIRK/libFCIRKQUAD.so\"),\n",
    "    # output type\n",
    "     Cint,     \n",
    "    # tuple of input types\n",
    "    (Cint,Cint,Cint,Cdouble,Cdouble,                         \n",
    "     Ptr{BigFloat},Cint,\n",
    "     Cdouble,\n",
    "     Ptr{BigFloat},Cint,\n",
    "     Ptr{BigFloat},Cint,\n",
    "     Ptr{Cint},Cint,\n",
    "     Cstring,Cint, Cint,\n",
    "     Cint,Cint,Cint,\n",
    "     Ref{Cdouble}),\n",
    "    # name of Julia variables to pass in\n",
    "     prob.Nkepler,prob.Moreq,ns,prob.tspan[1],prob.tspan[2],   \n",
    "     prob.u0,ulen,h,prob.k,klen,prob.rpar,rlen,prob.ipar,ilen,\n",
    "     myfilename,saveat,\n",
    "     prob.ode,\n",
    "     threads,adaptive,mixed,\n",
    "     result_array\n",
    "    )\n",
    "    if errorcode !=0 \n",
    "        print(\"error at quad-FCIRK.c\")\n",
    "    end\n",
    "    return result_array\n",
    "\n",
    "end"
   ]
  },
  {
   "cell_type": "code",
   "execution_count": 18,
   "metadata": {},
   "outputs": [
    {
     "data": {
      "text/plain": [
       "longFCIRK (generic function with 1 method)"
      ]
     },
     "execution_count": 18,
     "metadata": {},
     "output_type": "execute_result"
    }
   ],
   "source": [
    "function longFCIRK( prob::ODEProblem,\n",
    "                     ns:: Int64,\n",
    "                     myfilename::String, \n",
    "                     h::Float64,\n",
    "                     saveat::Int64, \n",
    "                     threads::Int64,   # Optional argument\n",
    "                     adaptive::Int64,\n",
    "                     mixed::Int64\n",
    "    ) \n",
    "    #\n",
    "    result_array=Array{Float64}(undef,10)\n",
    "    \n",
    "    ulen=length(prob.u0)\n",
    "    klen=length(prob.k)\n",
    "    rlen=length(prob.rpar)\n",
    "    ilen=length(prob.ipar)\n",
    "        \n",
    "    \n",
    "    errorcode=ccall(\n",
    "    # name of C function and library\n",
    "    (:longFCIRK, \"../../../Code/C/Code-FCIRK/libFCIRKLONG.so\"),\n",
    "    # output type\n",
    "     Cint,  \n",
    "    # tuple of input types\n",
    "    (Cint,Cint,Cint,Cdouble,Cdouble,                         \n",
    "     Ptr{BigFloat},Cint,\n",
    "     Cdouble,\n",
    "     Ptr{BigFloat},Cint,\n",
    "     Ptr{BigFloat},Cint,\n",
    "     Ptr{Cint},Cint,\n",
    "     Cstring,Cint, Cint,\n",
    "     Cint,Cint,Cint,\n",
    "     Ref{Cdouble}),\n",
    "    # name of Julia variables to pass in\n",
    "     prob.Nkepler,prob.Moreq,ns,prob.tspan[1],prob.tspan[2],    \n",
    "     prob.u0,ulen,h,prob.k,klen,prob.rpar,rlen,prob.ipar,ilen,\n",
    "     myfilename,saveat,\n",
    "     prob.ode,\n",
    "     threads,adaptive,mixed,\n",
    "     result_array\n",
    "    )\n",
    "    if errorcode !=0 \n",
    "        print(\"error at long-FCIRK.c\")\n",
    "    end\n",
    "    return result_array\n",
    "\n",
    "end"
   ]
  },
  {
   "cell_type": "code",
   "execution_count": 6,
   "metadata": {},
   "outputs": [
    {
     "data": {
      "text/plain": [
       "doubleFCIRK (generic function with 1 method)"
      ]
     },
     "execution_count": 6,
     "metadata": {},
     "output_type": "execute_result"
    }
   ],
   "source": [
    "function doubleFCIRK( prob::ODEProblem,\n",
    "                      ns:: Int64,\n",
    "                      myfilename::String, \n",
    "                      h::Float64,\n",
    "                      saveat::Int64, \n",
    "                      threads::Int64,   # Optional argument\n",
    "                      adaptive::Int64,\n",
    "                      mixed::Int64\n",
    "    ) \n",
    "    #\n",
    "    result_array=Array{Float64}(undef,10)  \n",
    "    \n",
    "    ulen=length(prob.u0)\n",
    "    klen=length(prob.k)\n",
    "    rlen=length(prob.rpar)\n",
    "    ilen=length(prob.ipar)\n",
    "    \n",
    "    errorcode=ccall(\n",
    "    # name of C function and library\n",
    "    (:doubleFCIRK, \"../../../Code/C/Code-FCIRK/libFCIRKDOUBLE.so\"),\n",
    "     # output type\n",
    "     Cint,            \n",
    "    # tuple of input types\n",
    "    (Cint,Cint,Cint,Cdouble,Cdouble,                         \n",
    "     Ptr{BigFloat},Cint,\n",
    "     Cdouble,\n",
    "     Ptr{BigFloat},Cint,\n",
    "     Ptr{BigFloat},Cint,\n",
    "     Ptr{Cint},Cint,\n",
    "     Cstring,Cint, Cint,\n",
    "     Cint,Cint,Cint,\n",
    "     Ref{Cdouble}),\n",
    "     # name of Julia variables to pass in\n",
    "     prob.Nkepler,prob.Moreq,ns,prob.tspan[1],prob.tspan[2],   \n",
    "     prob.u0,ulen,h,prob.k,klen,prob.rpar,rlen,prob.ipar,ilen,\n",
    "     myfilename,saveat,\n",
    "     prob.ode,\n",
    "     threads,adaptive,mixed,\n",
    "     result_array\n",
    "    )\n",
    "    \n",
    "   if errorcode !=0 \n",
    "        print(\"error at double-FCIRK.c\")\n",
    "    end\n",
    "    return result_array\n",
    "\n",
    "end"
   ]
  },
  {
   "cell_type": "markdown",
   "metadata": {},
   "source": [
    "<a href=\"#top\">Back to the top</a>"
   ]
  },
  {
   "cell_type": "markdown",
   "metadata": {},
   "source": [
    "## Composition integrator"
   ]
  },
  {
   "cell_type": "code",
   "execution_count": 11,
   "metadata": {},
   "outputs": [],
   "source": [
    "#   Composition implementation: \n",
    "#       doubleComp\n",
    "#       longComp\n",
    "#       quadComp."
   ]
  },
  {
   "cell_type": "code",
   "execution_count": 12,
   "metadata": {},
   "outputs": [
    {
     "data": {
      "text/plain": [
       "longComp (generic function with 1 method)"
      ]
     },
     "execution_count": 12,
     "metadata": {},
     "output_type": "execute_result"
    }
   ],
   "source": [
    "function longComp( codmethod::Int64,\n",
    "                   mixed::Int64,\n",
    "                   prob::ODEProblem2,\n",
    "                   myfilename::String, \n",
    "                   h::Float64,\n",
    "                   saveat::Int64) \n",
    "    #\n",
    "    result_array=Array{Float64}(undef,10)\n",
    "    \n",
    "    ulen=length(prob.u0)\n",
    "    klen=length(prob.k)\n",
    "    rlen=length(prob.rpar)\n",
    "    ilen=length(prob.ipar)\n",
    "    \n",
    "    errorcode=ccall(\n",
    "    # name of C function and library\n",
    "    (:longComp, \"../../../Code/C/Code-Comp/libCompLONG.so\"),\n",
    "    # output type\n",
    "     Cint, \n",
    "    # tuple of input types\n",
    "    (Cint,Cint,Cdouble,Cdouble,                                                              \n",
    "     Ptr{BigFloat},Cint,Cdouble,Ptr{BigFloat},Cint,\n",
    "     Ptr{BigFloat},Cint,Ptr{Cint},Cint,\n",
    "     Cint,Cstring,Cint,Cint,\n",
    "     Ref{Cdouble}),\n",
    "    # name of Julia variables to pass in\n",
    "     prob.neq,codmethod,prob.tspan[1],prob.tspan[2],    \n",
    "     prob.u0,ulen,h,prob.k,klen,\n",
    "     prob.rpar,rlen,prob.ipar,ilen,\n",
    "     mixed,myfilename,saveat,prob.ode,\n",
    "     result_array\n",
    "    )\n",
    "    if errorcode !=0 \n",
    "        print(\"error at long-Comp.c\")\n",
    "    end\n",
    "    return result_array\n",
    "\n",
    "end"
   ]
  },
  {
   "cell_type": "code",
   "execution_count": 13,
   "metadata": {},
   "outputs": [
    {
     "data": {
      "text/plain": [
       "quadComp (generic function with 1 method)"
      ]
     },
     "execution_count": 13,
     "metadata": {},
     "output_type": "execute_result"
    }
   ],
   "source": [
    "function quadComp( codmethod::Int64,\n",
    "                   mixed::Int64,\n",
    "                   prob::ODEProblem2,\n",
    "                   myfilename::String, \n",
    "                   h::Float64,\n",
    "                   saveat::Int64) \n",
    "    #\n",
    "    result_array=Array{Float64}(undef,10)\n",
    "    \n",
    "    ulen=length(prob.u0)\n",
    "    klen=length(prob.k)\n",
    "    rlen=length(prob.rpar)\n",
    "    ilen=length(prob.ipar)\n",
    "    \n",
    "    errorcode=ccall(\n",
    "    # name of C function and library\n",
    "    (:quadComp, \"../../../Code/C/Code-Comp/libCompQUAD.so\"),   \n",
    "    # output type\n",
    "     Cint,\n",
    "    # tuple of input types\n",
    "    (Cint,Cint,Cdouble,Cdouble,                                                            \n",
    "     Ptr{BigFloat},Cint,Cdouble,Ptr{BigFloat},Cint,\n",
    "     Ptr{BigFloat},Cint,Ptr{Cint},Cint,\n",
    "     Cint,Cstring,Cint,Cint,Ref{Cdouble}),\n",
    "     # name of Julia variables to pass in\n",
    "     prob.neq,codmethod,prob.tspan[1],prob.tspan[2],   \n",
    "     prob.u0,ulen,h,prob.k,klen,\n",
    "     prob.rpar,rlen,prob.ipar,ilen,\n",
    "     mixed,myfilename,saveat,prob.ode,\n",
    "     result_array\n",
    "    )\n",
    "    if errorcode !=0 \n",
    "        print(\"error at quad-Comp.c\")\n",
    "    end\n",
    "\n",
    "end"
   ]
  },
  {
   "cell_type": "code",
   "execution_count": 14,
   "metadata": {},
   "outputs": [
    {
     "data": {
      "text/plain": [
       "doubleComp (generic function with 1 method)"
      ]
     },
     "execution_count": 14,
     "metadata": {},
     "output_type": "execute_result"
    }
   ],
   "source": [
    "function doubleComp( codmethod::Int64,\n",
    "                   mixed::Int64,\n",
    "                   prob::ODEProblem2,\n",
    "                   myfilename::String, \n",
    "                   h::Float64,\n",
    "                   saveat::Int64) \n",
    "    #\n",
    "    result_array=Array{Float64}(undef,10)\n",
    "    \n",
    "    ulen=length(prob.u0)\n",
    "    klen=length(prob.k)\n",
    "    rlen=length(prob.rpar)\n",
    "    ilen=length(prob.ipar)    \n",
    "    \n",
    "    errorcode=ccall(\n",
    "    # name of C function and library\n",
    "    (:doubleComp, \"../../../Code/C/Code-Comp/libCompDOUBLE.so\"),   \n",
    "    # output type\n",
    "     Cint,         \n",
    "    # tuple of input types\n",
    "    (Cint,Cint,Cdouble,Cdouble,                                                              \n",
    "     Ptr{BigFloat},Cint,Cdouble,Ptr{BigFloat},Cint,\n",
    "     Ptr{BigFloat},Cint,Ptr{Cint},Cint,\n",
    "     Cint,Cstring,Cint,Cint,\n",
    "     Ref{Cdouble}),\n",
    "    # name of Julia variables to pass in\n",
    "     prob.neq,codmethod,prob.tspan[1],prob.tspan[2],    \n",
    "     prob.u0,ulen,h,prob.k,klen,\n",
    "     prob.rpar,rlen,prob.ipar,ilen,\n",
    "     mixed,myfilename,saveat,prob.ode,\n",
    "     result_array\n",
    "    )\n",
    "    if errorcode !=0 \n",
    "        print(\"error at long-Comp.c\")\n",
    "    end\n",
    "    return result_array\n",
    "\n",
    "end"
   ]
  },
  {
   "cell_type": "markdown",
   "metadata": {},
   "source": [
    "<a href=\"#top\">Back to the top</a>"
   ]
  },
  {
   "cell_type": "markdown",
   "metadata": {},
   "source": [
    "## Binary-IO"
   ]
  },
  {
   "cell_type": "code",
   "execution_count": 15,
   "metadata": {},
   "outputs": [],
   "source": [
    "#   Binary-Output\n",
    "#       Readbin\n",
    "#       Appendbin"
   ]
  },
  {
   "cell_type": "code",
   "execution_count": 1,
   "metadata": {},
   "outputs": [
    {
     "data": {
      "text/plain": [
       "Readbin (generic function with 2 methods)"
      ]
     },
     "execution_count": 1,
     "metadata": {},
     "output_type": "execute_result"
    }
   ],
   "source": [
    "function Readbin(nout::Integer,neq::Integer,myfilename::String,\n",
    "                 ret=0::Int64   # Optional argument\n",
    "                 )\n",
    "\n",
    "    result_array=Vector{BigFloat}(undef,nout*(neq+1));     \n",
    "    \n",
    "     for i in 1:(nout*(neq+1)) \n",
    "       result_array[i]=BigFloat(0)\n",
    "    end\n",
    "\n",
    "    errorcode=ccall(\n",
    "    # name of C function and library\n",
    "    (:CReadBin, \"../../../Code/C/Code-Binary/libCBinary.so\"), \n",
    "    # output type\n",
    "    Cint,       \n",
    "    # tuple of input types\n",
    "   (Cint,Cint,Cstring,Ptr{BigFloat}),\n",
    "    # name of Julia variables to pass in\n",
    "    nout, neq, myfilename,result_array                 \n",
    "    )\n",
    "    if errorcode !=0 \n",
    "        error(\"error at CBinFilesWRA.c\")\n",
    "    end\n",
    "    \n",
    "    sol=transpose(reshape(result_array,neq+1,:))\n",
    "    \n",
    "    # Covert to sol as Array{Array{BigFloat,1},1}\n",
    "    \n",
    "    (rows,cols)=size(sol)\n",
    "    ti=Vector{BigFloat}(undef,rows) \n",
    "    ui=Vector{Vector{BigFloat}}(undef,rows)\n",
    "    \n",
    "    if (ret==0)\n",
    "        ti.=sol[:,1]\n",
    "        for i in 1:rows\n",
    "           ui[i]=sol[i,2:end]\n",
    "        end       \n",
    "        return ti,ui\n",
    "    else\n",
    "        return result_array\n",
    "    end\n",
    "end"
   ]
  },
  {
   "cell_type": "code",
   "execution_count": 2,
   "metadata": {},
   "outputs": [
    {
     "data": {
      "text/plain": [
       "Appendbin (generic function with 1 method)"
      ]
     },
     "execution_count": 2,
     "metadata": {},
     "output_type": "execute_result"
    }
   ],
   "source": [
    "function Appendbin(nout::Integer,neq::Integer,myfilename::String,\n",
    "                   sol1::Array{Array{BigFloat,1},1})\n",
    "      \n",
    "    errorcode=ccall(\n",
    "    # name of C function and library\n",
    "    (:CAppendBin, \"../../../Code/C/Code-Binary/libCBinary.so\"),  \n",
    "    # output type\n",
    "     Cint,               \n",
    "    # tuple of input types\n",
    "    (Cint,Cint,Cstring,Ptr{BigFloat}),     \n",
    "    # name of Julia variables to pass in\n",
    "     nout,neq,myfilename,soli                           \n",
    "     )\n",
    "    if errorcode !=0 \n",
    "        error(\"error at CBinFilesWRA.c\")\n",
    "    end\n",
    "end"
   ]
  },
  {
   "cell_type": "markdown",
   "metadata": {},
   "source": [
    "<a href=\"#top\">Back to the top</a>"
   ]
  },
  {
   "cell_type": "code",
   "execution_count": null,
   "metadata": {},
   "outputs": [],
   "source": []
  }
 ],
 "metadata": {
  "@webio": {
   "lastCommId": null,
   "lastKernelId": null
  },
  "anaconda-cloud": {},
  "kernelspec": {
   "display_name": "Julia 1.5.3",
   "language": "julia",
   "name": "julia-1.5"
  },
  "language_info": {
   "file_extension": ".jl",
   "mimetype": "application/julia",
   "name": "julia",
   "version": "1.5.3"
  }
 },
 "nbformat": 4,
 "nbformat_minor": 1
}
